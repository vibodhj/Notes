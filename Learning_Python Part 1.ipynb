{
 "cells": [
  {
   "cell_type": "markdown",
   "id": "65d903bd",
   "metadata": {},
   "source": [
    "## Hello World!"
   ]
  },
  {
   "cell_type": "code",
   "execution_count": 2,
   "id": "2a5d7fb5",
   "metadata": {},
   "outputs": [
    {
     "name": "stdout",
     "output_type": "stream",
     "text": [
      "Hello World!\n"
     ]
    }
   ],
   "source": [
    "print(\"Hello World!\")"
   ]
  },
  {
   "cell_type": "markdown",
   "id": "aa471161",
   "metadata": {},
   "source": [
    "## To kill the kernel"
   ]
  },
  {
   "cell_type": "code",
   "execution_count": 2,
   "id": "599ad968",
   "metadata": {},
   "outputs": [],
   "source": [
    "exit()"
   ]
  },
  {
   "cell_type": "markdown",
   "id": "80452b1a",
   "metadata": {},
   "source": [
    "## Python indentation rule"
   ]
  },
  {
   "cell_type": "code",
   "execution_count": 5,
   "id": "1734e7ad",
   "metadata": {},
   "outputs": [
    {
     "name": "stdout",
     "output_type": "stream",
     "text": [
      "Five is greater than two\n"
     ]
    }
   ],
   "source": [
    "if 5>2:\n",
    "    print(\"Five is greater than two\")"
   ]
  },
  {
   "cell_type": "markdown",
   "id": "4d4e9197",
   "metadata": {},
   "source": [
    "standard indentation is 4 spaces, keyboard shortcut for it is 'tab'"
   ]
  },
  {
   "cell_type": "markdown",
   "id": "383482f9",
   "metadata": {},
   "source": [
    "## Python comments"
   ]
  },
  {
   "cell_type": "code",
   "execution_count": 45,
   "id": "1c183c63",
   "metadata": {},
   "outputs": [],
   "source": [
    "#This is a comment"
   ]
  },
  {
   "cell_type": "markdown",
   "id": "e9757949",
   "metadata": {},
   "source": [
    "## Python variables"
   ]
  },
  {
   "cell_type": "markdown",
   "id": "fff53263",
   "metadata": {},
   "source": [
    "Python has no command for declaring a variable.\n",
    "A variable is created the moment when we first assign a value to it"
   ]
  },
  {
   "cell_type": "code",
   "execution_count": 7,
   "id": "1b1204f6",
   "metadata": {},
   "outputs": [
    {
     "name": "stdout",
     "output_type": "stream",
     "text": [
      "7\n",
      "vibodh\n"
     ]
    }
   ],
   "source": [
    "x = 7\n",
    "y = 'vibodh'\n",
    "print(x)\n",
    "print(y)"
   ]
  },
  {
   "cell_type": "markdown",
   "id": "89be76a8",
   "metadata": {},
   "source": [
    "## Checking the type of the variables"
   ]
  },
  {
   "cell_type": "code",
   "execution_count": 8,
   "id": "8b8c874e",
   "metadata": {},
   "outputs": [
    {
     "data": {
      "text/plain": [
       "int"
      ]
     },
     "execution_count": 8,
     "metadata": {},
     "output_type": "execute_result"
    }
   ],
   "source": [
    "type(x)"
   ]
  },
  {
   "cell_type": "code",
   "execution_count": 9,
   "id": "42de13ba",
   "metadata": {},
   "outputs": [
    {
     "data": {
      "text/plain": [
       "str"
      ]
     },
     "execution_count": 9,
     "metadata": {},
     "output_type": "execute_result"
    }
   ],
   "source": [
    "type(y)"
   ]
  },
  {
   "cell_type": "markdown",
   "id": "ea28d3f4",
   "metadata": {},
   "source": [
    "## Casting"
   ]
  },
  {
   "cell_type": "code",
   "execution_count": 1,
   "id": "092a635a",
   "metadata": {},
   "outputs": [],
   "source": [
    "x = str(7)\n",
    "y = int(7.4)\n",
    "z = float(7.4)"
   ]
  },
  {
   "cell_type": "code",
   "execution_count": 2,
   "id": "793e9c2b",
   "metadata": {},
   "outputs": [
    {
     "name": "stdout",
     "output_type": "stream",
     "text": [
      "7\n",
      "7\n",
      "7.4\n"
     ]
    }
   ],
   "source": [
    "print(x)\n",
    "print(y)\n",
    "print(z)"
   ]
  },
  {
   "cell_type": "code",
   "execution_count": 3,
   "id": "caee5ab3",
   "metadata": {},
   "outputs": [
    {
     "data": {
      "text/plain": [
       "str"
      ]
     },
     "execution_count": 3,
     "metadata": {},
     "output_type": "execute_result"
    }
   ],
   "source": [
    "type(x)"
   ]
  },
  {
   "cell_type": "code",
   "execution_count": 4,
   "id": "00b0335a",
   "metadata": {},
   "outputs": [
    {
     "data": {
      "text/plain": [
       "int"
      ]
     },
     "execution_count": 4,
     "metadata": {},
     "output_type": "execute_result"
    }
   ],
   "source": [
    "type(y)"
   ]
  },
  {
   "cell_type": "code",
   "execution_count": 5,
   "id": "5ca797cb",
   "metadata": {},
   "outputs": [
    {
     "data": {
      "text/plain": [
       "float"
      ]
     },
     "execution_count": 5,
     "metadata": {},
     "output_type": "execute_result"
    }
   ],
   "source": [
    "type(z)"
   ]
  },
  {
   "cell_type": "code",
   "execution_count": 2,
   "id": "2def1ea3",
   "metadata": {},
   "outputs": [
    {
     "name": "stdout",
     "output_type": "stream",
     "text": [
      "Hello World\n",
      "Hello World\n"
     ]
    }
   ],
   "source": [
    "#In Python \"\" and '' have the same meaning\n",
    "var1 = 'Hello World'\n",
    "var2 = \"Hello World\"\n",
    "print(var1)\n",
    "print(var2)"
   ]
  },
  {
   "cell_type": "markdown",
   "id": "36f82388",
   "metadata": {},
   "source": [
    "In Python, variable names are case-sensitive"
   ]
  },
  {
   "cell_type": "markdown",
   "id": "82b17280",
   "metadata": {},
   "source": [
    "## Variable names in Python"
   ]
  },
  {
   "cell_type": "markdown",
   "id": "00c55037",
   "metadata": {},
   "source": [
    "Rule for variable names in Python"
   ]
  },
  {
   "cell_type": "markdown",
   "id": "33927fe0",
   "metadata": {},
   "source": [
    " Any variable name can ONLY contain a-z, 0-9 and '_' and it cannot start with a number. Also they are case-sensitive."
   ]
  },
  {
   "cell_type": "code",
   "execution_count": 44,
   "id": "cd3fe489",
   "metadata": {},
   "outputs": [
    {
     "name": "stdout",
     "output_type": "stream",
     "text": [
      "variable 1: 7\n",
      "variable 1 with _: 9\n"
     ]
    }
   ],
   "source": [
    "#A variable name can only start with a-z or '_'\n",
    "var1 = 7\n",
    "_var1 = 9\n",
    "print('variable 1:', var1)\n",
    "print('variable 1 with _:' , _var1)"
   ]
  },
  {
   "cell_type": "code",
   "execution_count": 38,
   "id": "798e6d81",
   "metadata": {},
   "outputs": [
    {
     "ename": "SyntaxError",
     "evalue": "invalid syntax (Temp/ipykernel_7656/921040977.py, line 2)",
     "output_type": "error",
     "traceback": [
      "\u001b[1;36m  File \u001b[1;32m\"C:\\Users\\vjadh\\AppData\\Local\\Temp/ipykernel_7656/921040977.py\"\u001b[1;36m, line \u001b[1;32m2\u001b[0m\n\u001b[1;33m    8myvar = 7\u001b[0m\n\u001b[1;37m     ^\u001b[0m\n\u001b[1;31mSyntaxError\u001b[0m\u001b[1;31m:\u001b[0m invalid syntax\n"
     ]
    }
   ],
   "source": [
    "#A variable name cannot start with a number\n",
    "8myvar = 7"
   ]
  },
  {
   "cell_type": "code",
   "execution_count": 48,
   "id": "efccd11c",
   "metadata": {},
   "outputs": [
    {
     "ename": "SyntaxError",
     "evalue": "cannot assign to operator (Temp/ipykernel_7656/2284620821.py, line 2)",
     "output_type": "error",
     "traceback": [
      "\u001b[1;36m  File \u001b[1;32m\"C:\\Users\\vjadh\\AppData\\Local\\Temp/ipykernel_7656/2284620821.py\"\u001b[1;36m, line \u001b[1;32m2\u001b[0m\n\u001b[1;33m    my@var = 7\u001b[0m\n\u001b[1;37m    ^\u001b[0m\n\u001b[1;31mSyntaxError\u001b[0m\u001b[1;31m:\u001b[0m cannot assign to operator\n"
     ]
    }
   ],
   "source": [
    "#A variable name CANNOT contain special characters like @,#,%,etc.\n",
    "my@var = 7"
   ]
  },
  {
   "cell_type": "code",
   "execution_count": 47,
   "id": "0bbffc1a",
   "metadata": {},
   "outputs": [
    {
     "name": "stdout",
     "output_type": "stream",
     "text": [
      "7\n",
      "9\n",
      "8\n"
     ]
    }
   ],
   "source": [
    "#Variable names are case-sensitive\n",
    "myvar = 7\n",
    "Myvar = 9\n",
    "myVar = 8\n",
    "print(myvar)\n",
    "print(Myvar)\n",
    "print(myVar)"
   ]
  },
  {
   "cell_type": "markdown",
   "id": "0b104ba1",
   "metadata": {},
   "source": [
    "some other illegal variable names in Python"
   ]
  },
  {
   "cell_type": "code",
   "execution_count": 32,
   "id": "ecec22d5",
   "metadata": {},
   "outputs": [
    {
     "ename": "SyntaxError",
     "evalue": "cannot assign to operator (Temp/ipykernel_7656/3629373059.py, line 1)",
     "output_type": "error",
     "traceback": [
      "\u001b[1;36m  File \u001b[1;32m\"C:\\Users\\vjadh\\AppData\\Local\\Temp/ipykernel_7656/3629373059.py\"\u001b[1;36m, line \u001b[1;32m1\u001b[0m\n\u001b[1;33m    my-var = 7\u001b[0m\n\u001b[1;37m    ^\u001b[0m\n\u001b[1;31mSyntaxError\u001b[0m\u001b[1;31m:\u001b[0m cannot assign to operator\n"
     ]
    }
   ],
   "source": [
    "my-var = 7"
   ]
  },
  {
   "cell_type": "code",
   "execution_count": 26,
   "id": "21cb820c",
   "metadata": {},
   "outputs": [
    {
     "ename": "SyntaxError",
     "evalue": "invalid syntax (Temp/ipykernel_8428/4115987473.py, line 1)",
     "output_type": "error",
     "traceback": [
      "\u001b[1;36m  File \u001b[1;32m\"C:\\Users\\vjadh\\AppData\\Local\\Temp/ipykernel_8428/4115987473.py\"\u001b[1;36m, line \u001b[1;32m1\u001b[0m\n\u001b[1;33m    my var = 7\u001b[0m\n\u001b[1;37m       ^\u001b[0m\n\u001b[1;31mSyntaxError\u001b[0m\u001b[1;31m:\u001b[0m invalid syntax\n"
     ]
    }
   ],
   "source": [
    "my var = 7"
   ]
  },
  {
   "cell_type": "markdown",
   "id": "df7ed3d5",
   "metadata": {},
   "source": [
    "## 3 popular variable naming techniques in Python"
   ]
  },
  {
   "cell_type": "markdown",
   "id": "dcf92954",
   "metadata": {},
   "source": [
    "The purpose of variable naming techniques in Python is to make the code readable"
   ]
  },
  {
   "cell_type": "markdown",
   "id": "7b2a0162",
   "metadata": {},
   "source": [
    "1. Camel case:\n",
    "Every word in the variable name has caps except the 1st word\n",
    "myVarName = 7\n",
    "2. Pascal case:\n",
    "Every word in the variable name has caps\n",
    "MyVarName = 7\n",
    "3. Snake case:\n",
    "Every word in the variable is separated by '_'   \n",
    "my_var_name = 7 "
   ]
  },
  {
   "cell_type": "markdown",
   "id": "aae5e25f",
   "metadata": {},
   "source": [
    "## Ways of assigning values in Python"
   ]
  },
  {
   "cell_type": "markdown",
   "id": "65d034e0",
   "metadata": {},
   "source": [
    "### Assigning multiple values to multiple variables in one line"
   ]
  },
  {
   "cell_type": "code",
   "execution_count": 21,
   "id": "4bfa8b8f",
   "metadata": {},
   "outputs": [
    {
     "name": "stdout",
     "output_type": "stream",
     "text": [
      "7\n",
      "8\n",
      "9\n"
     ]
    }
   ],
   "source": [
    "x, y, z = 7, 8, 9\n",
    "print(x)\n",
    "print(y)\n",
    "print(z)"
   ]
  },
  {
   "cell_type": "markdown",
   "id": "87be4de5",
   "metadata": {},
   "source": [
    "### Assigning one value to multiple variables in one line"
   ]
  },
  {
   "cell_type": "code",
   "execution_count": 27,
   "id": "596e9a9c",
   "metadata": {},
   "outputs": [
    {
     "name": "stdout",
     "output_type": "stream",
     "text": [
      "7\n",
      "7\n",
      "7\n"
     ]
    }
   ],
   "source": [
    "x = y = z = 7\n",
    "print(x)\n",
    "print(y)\n",
    "print(z)"
   ]
  },
  {
   "cell_type": "markdown",
   "id": "5d507759",
   "metadata": {},
   "source": [
    "## Data types"
   ]
  },
  {
   "cell_type": "markdown",
   "id": "c7646c0d",
   "metadata": {},
   "source": [
    "### Text type aka string "
   ]
  },
  {
   "cell_type": "code",
   "execution_count": 17,
   "id": "030a2657",
   "metadata": {},
   "outputs": [
    {
     "data": {
      "text/plain": [
       "'Hello World'"
      ]
     },
     "execution_count": 17,
     "metadata": {},
     "output_type": "execute_result"
    }
   ],
   "source": [
    "x = 'Hello World'\n",
    "x"
   ]
  },
  {
   "cell_type": "code",
   "execution_count": 9,
   "id": "81423ee1",
   "metadata": {},
   "outputs": [
    {
     "data": {
      "text/plain": [
       "str"
      ]
     },
     "execution_count": 9,
     "metadata": {},
     "output_type": "execute_result"
    }
   ],
   "source": [
    "type(x)"
   ]
  },
  {
   "cell_type": "markdown",
   "id": "2871dfab",
   "metadata": {},
   "source": [
    "### Numeric type"
   ]
  },
  {
   "cell_type": "code",
   "execution_count": 12,
   "id": "95bcd1fc",
   "metadata": {},
   "outputs": [],
   "source": [
    "x = 45"
   ]
  },
  {
   "cell_type": "code",
   "execution_count": 13,
   "id": "c47b488f",
   "metadata": {},
   "outputs": [
    {
     "data": {
      "text/plain": [
       "int"
      ]
     },
     "execution_count": 13,
     "metadata": {},
     "output_type": "execute_result"
    }
   ],
   "source": [
    "type(x)"
   ]
  },
  {
   "cell_type": "code",
   "execution_count": 14,
   "id": "ca7c888a",
   "metadata": {},
   "outputs": [],
   "source": [
    "x = 45.2"
   ]
  },
  {
   "cell_type": "code",
   "execution_count": 15,
   "id": "75c46587",
   "metadata": {},
   "outputs": [
    {
     "data": {
      "text/plain": [
       "float"
      ]
     },
     "execution_count": 15,
     "metadata": {},
     "output_type": "execute_result"
    }
   ],
   "source": [
    "type(x)"
   ]
  },
  {
   "cell_type": "code",
   "execution_count": 23,
   "id": "528932cc",
   "metadata": {},
   "outputs": [],
   "source": [
    "x = 45 + 2j"
   ]
  },
  {
   "cell_type": "code",
   "execution_count": 24,
   "id": "5188c702",
   "metadata": {},
   "outputs": [
    {
     "data": {
      "text/plain": [
       "complex"
      ]
     },
     "execution_count": 24,
     "metadata": {},
     "output_type": "execute_result"
    }
   ],
   "source": [
    "type(x)"
   ]
  },
  {
   "cell_type": "markdown",
   "id": "dd39ad1e",
   "metadata": {},
   "source": [
    "## Lists(array)"
   ]
  },
  {
   "cell_type": "code",
   "execution_count": 1,
   "id": "c01a1d28",
   "metadata": {},
   "outputs": [
    {
     "name": "stdout",
     "output_type": "stream",
     "text": [
      "['Ball pen', 'Click pencil', 'Eraser']\n"
     ]
    },
    {
     "data": {
      "text/plain": [
       "list"
      ]
     },
     "execution_count": 1,
     "metadata": {},
     "output_type": "execute_result"
    }
   ],
   "source": [
    "x = ['Gel pen', 'Click pencil', 'Eraser']\n",
    "print(x)\n",
    "type(x)"
   ]
  },
  {
   "cell_type": "markdown",
   "id": "61380578",
   "metadata": {},
   "source": [
    "Lists are one of the 4 built-in data types used to store collections of data(arrays)."
   ]
  },
  {
   "cell_type": "markdown",
   "id": "b0f44489",
   "metadata": {},
   "source": [
    "A collection of data is called an 'array'"
   ]
  },
  {
   "cell_type": "markdown",
   "id": "941a1541",
   "metadata": {},
   "source": [
    "The other 3 are tuples, sets and dictionaries(dict)"
   ]
  },
  {
   "cell_type": "markdown",
   "id": "12775846",
   "metadata": {},
   "source": [
    "The elements/items in any list have a defined order and this order does NOT change."
   ]
  },
  {
   "cell_type": "code",
   "execution_count": 2,
   "id": "0d596b66",
   "metadata": {},
   "outputs": [
    {
     "data": {
      "text/plain": [
       "'Ball pen'"
      ]
     },
     "execution_count": 2,
     "metadata": {},
     "output_type": "execute_result"
    }
   ],
   "source": [
    "x[0]"
   ]
  },
  {
   "cell_type": "markdown",
   "id": "e87ac24d",
   "metadata": {},
   "source": [
    "### To change the value of any element in the list"
   ]
  },
  {
   "cell_type": "code",
   "execution_count": 4,
   "id": "c8f03b3f",
   "metadata": {},
   "outputs": [],
   "source": [
    "x[0] = 'Fountain pen'"
   ]
  },
  {
   "cell_type": "code",
   "execution_count": 5,
   "id": "2e60d503",
   "metadata": {},
   "outputs": [
    {
     "data": {
      "text/plain": [
       "['Fountain pen', 'Click pencil', 'Eraser']"
      ]
     },
     "execution_count": 5,
     "metadata": {},
     "output_type": "execute_result"
    }
   ],
   "source": [
    "x"
   ]
  },
  {
   "cell_type": "code",
   "execution_count": 6,
   "id": "863141ab",
   "metadata": {},
   "outputs": [
    {
     "data": {
      "text/plain": [
       "'Click pencil'"
      ]
     },
     "execution_count": 6,
     "metadata": {},
     "output_type": "execute_result"
    }
   ],
   "source": [
    "x[1]"
   ]
  },
  {
   "cell_type": "code",
   "execution_count": 7,
   "id": "c9fb4d3a",
   "metadata": {},
   "outputs": [],
   "source": [
    "x[1] = 'Pencil'"
   ]
  },
  {
   "cell_type": "code",
   "execution_count": 8,
   "id": "be1b7c8e",
   "metadata": {},
   "outputs": [
    {
     "data": {
      "text/plain": [
       "['Fountain pen', 'Pencil', 'Eraser']"
      ]
     },
     "execution_count": 8,
     "metadata": {},
     "output_type": "execute_result"
    }
   ],
   "source": [
    "x"
   ]
  },
  {
   "cell_type": "code",
   "execution_count": 9,
   "id": "517d9d6e",
   "metadata": {},
   "outputs": [
    {
     "data": {
      "text/plain": [
       "'Eraser'"
      ]
     },
     "execution_count": 9,
     "metadata": {},
     "output_type": "execute_result"
    }
   ],
   "source": [
    "x[2]"
   ]
  },
  {
   "cell_type": "code",
   "execution_count": 10,
   "id": "01a5cdc2",
   "metadata": {},
   "outputs": [],
   "source": [
    "x[2] = 'Ink eraser'"
   ]
  },
  {
   "cell_type": "code",
   "execution_count": 11,
   "id": "5903158d",
   "metadata": {},
   "outputs": [
    {
     "data": {
      "text/plain": [
       "['Fountain pen', 'Pencil', 'Ink eraser']"
      ]
     },
     "execution_count": 11,
     "metadata": {},
     "output_type": "execute_result"
    }
   ],
   "source": [
    "x"
   ]
  },
  {
   "cell_type": "markdown",
   "id": "f7acc7a9",
   "metadata": {},
   "source": [
    "### To find the length of lists"
   ]
  },
  {
   "cell_type": "code",
   "execution_count": 15,
   "id": "0f402421",
   "metadata": {},
   "outputs": [
    {
     "name": "stdout",
     "output_type": "stream",
     "text": [
      "3\n"
     ]
    }
   ],
   "source": [
    "print(len(x))"
   ]
  },
  {
   "cell_type": "markdown",
   "id": "ceb27e0c",
   "metadata": {},
   "source": [
    "### Adding items to a list"
   ]
  },
  {
   "cell_type": "code",
   "execution_count": 2,
   "id": "fa4650b7",
   "metadata": {},
   "outputs": [
    {
     "data": {
      "text/plain": [
       "['Ball pen', 'Click pencil', 'Eraser']"
      ]
     },
     "execution_count": 2,
     "metadata": {},
     "output_type": "execute_result"
    }
   ],
   "source": [
    "x"
   ]
  },
  {
   "cell_type": "code",
   "execution_count": 6,
   "id": "f1eaa810",
   "metadata": {},
   "outputs": [],
   "source": [
    "x.append('Fountain pen')"
   ]
  },
  {
   "cell_type": "code",
   "execution_count": 7,
   "id": "8b892940",
   "metadata": {},
   "outputs": [
    {
     "data": {
      "text/plain": [
       "['Ball pen', 'Click pencil', 'Eraser', 'Fountain pen']"
      ]
     },
     "execution_count": 7,
     "metadata": {},
     "output_type": "execute_result"
    }
   ],
   "source": [
    "x"
   ]
  },
  {
   "cell_type": "markdown",
   "id": "f7ac0871",
   "metadata": {},
   "source": [
    "### Removing items/elements from a list"
   ]
  },
  {
   "cell_type": "markdown",
   "id": "7c776360",
   "metadata": {},
   "source": [
    "There are 2 methods to remove elements/items from a list"
   ]
  },
  {
   "cell_type": "code",
   "execution_count": 8,
   "id": "b1395eb1",
   "metadata": {},
   "outputs": [],
   "source": [
    "x.remove('Gel pen')"
   ]
  },
  {
   "cell_type": "code",
   "execution_count": 9,
   "id": "7f7cda30",
   "metadata": {},
   "outputs": [
    {
     "data": {
      "text/plain": [
       "['Click pencil', 'Eraser', 'Fountain pen']"
      ]
     },
     "execution_count": 9,
     "metadata": {},
     "output_type": "execute_result"
    }
   ],
   "source": [
    "x"
   ]
  },
  {
   "cell_type": "markdown",
   "id": "799489a0",
   "metadata": {},
   "source": [
    "### removing using index"
   ]
  },
  {
   "cell_type": "code",
   "execution_count": 8,
   "id": "dcd0d152",
   "metadata": {},
   "outputs": [
    {
     "data": {
      "text/plain": [
       "['Ball pen', 'Click pencil', 'Eraser']"
      ]
     },
     "execution_count": 8,
     "metadata": {},
     "output_type": "execute_result"
    }
   ],
   "source": [
    "x"
   ]
  },
  {
   "cell_type": "code",
   "execution_count": 9,
   "id": "2b585932",
   "metadata": {},
   "outputs": [],
   "source": [
    "x.remove(x[0])"
   ]
  },
  {
   "cell_type": "code",
   "execution_count": 10,
   "id": "ac097046",
   "metadata": {},
   "outputs": [
    {
     "data": {
      "text/plain": [
       "['Click pencil', 'Eraser']"
      ]
     },
     "execution_count": 10,
     "metadata": {},
     "output_type": "execute_result"
    }
   ],
   "source": [
    "x"
   ]
  },
  {
   "cell_type": "markdown",
   "id": "305b4315",
   "metadata": {},
   "source": [
    "(2nd method)Removing the 1st element from the list 'x' using the 'pop()' method"
   ]
  },
  {
   "cell_type": "code",
   "execution_count": 10,
   "id": "406ff16a",
   "metadata": {},
   "outputs": [
    {
     "data": {
      "text/plain": [
       "'Click pencil'"
      ]
     },
     "execution_count": 10,
     "metadata": {},
     "output_type": "execute_result"
    }
   ],
   "source": [
    "x.pop(0)"
   ]
  },
  {
   "cell_type": "code",
   "execution_count": 11,
   "id": "a377c8ea",
   "metadata": {},
   "outputs": [
    {
     "data": {
      "text/plain": [
       "['Eraser', 'Fountain pen']"
      ]
     },
     "execution_count": 11,
     "metadata": {},
     "output_type": "execute_result"
    }
   ],
   "source": [
    "x"
   ]
  },
  {
   "cell_type": "markdown",
   "id": "c6fee3b3",
   "metadata": {},
   "source": [
    "### Counting the number of times an element appears in a list/array"
   ]
  },
  {
   "cell_type": "code",
   "execution_count": 12,
   "id": "143db043",
   "metadata": {},
   "outputs": [
    {
     "data": {
      "text/plain": [
       "['Eraser', 'Fountain pen']"
      ]
     },
     "execution_count": 12,
     "metadata": {},
     "output_type": "execute_result"
    }
   ],
   "source": [
    "x"
   ]
  },
  {
   "cell_type": "code",
   "execution_count": 18,
   "id": "61b009cf",
   "metadata": {},
   "outputs": [
    {
     "data": {
      "text/plain": [
       "1"
      ]
     },
     "execution_count": 18,
     "metadata": {},
     "output_type": "execute_result"
    }
   ],
   "source": [
    "x.count('Eraser')"
   ]
  },
  {
   "cell_type": "code",
   "execution_count": 5,
   "id": "bed4eb10",
   "metadata": {},
   "outputs": [],
   "source": [
    "x.append('Eraser')"
   ]
  },
  {
   "cell_type": "code",
   "execution_count": 6,
   "id": "08139514",
   "metadata": {},
   "outputs": [
    {
     "data": {
      "text/plain": [
       "['Ball pen', 'Click pencil', 'Eraser', 'Eraser']"
      ]
     },
     "execution_count": 6,
     "metadata": {},
     "output_type": "execute_result"
    }
   ],
   "source": [
    "x"
   ]
  },
  {
   "cell_type": "code",
   "execution_count": 7,
   "id": "f6252271",
   "metadata": {},
   "outputs": [
    {
     "data": {
      "text/plain": [
       "2"
      ]
     },
     "execution_count": 7,
     "metadata": {},
     "output_type": "execute_result"
    }
   ],
   "source": [
    "x.count('Eraser')"
   ]
  },
  {
   "cell_type": "code",
   "execution_count": 9,
   "id": "3de4f9bc",
   "metadata": {},
   "outputs": [
    {
     "data": {
      "text/plain": [
       "2"
      ]
     },
     "execution_count": 9,
     "metadata": {},
     "output_type": "execute_result"
    }
   ],
   "source": [
    "x.count(x[2])"
   ]
  },
  {
   "cell_type": "markdown",
   "id": "0b11da61",
   "metadata": {},
   "source": [
    "### Inserting an element at a specific position"
   ]
  },
  {
   "cell_type": "code",
   "execution_count": 23,
   "id": "0d108161",
   "metadata": {},
   "outputs": [
    {
     "data": {
      "text/plain": [
       "['Eraser', 'Fountain pen', 'Eraser']"
      ]
     },
     "execution_count": 23,
     "metadata": {},
     "output_type": "execute_result"
    }
   ],
   "source": [
    "x"
   ]
  },
  {
   "cell_type": "markdown",
   "id": "d6f2fbb2",
   "metadata": {},
   "source": [
    "Inserting the string element 'Gel pen' at the 1st position"
   ]
  },
  {
   "cell_type": "code",
   "execution_count": 24,
   "id": "751092a8",
   "metadata": {},
   "outputs": [],
   "source": [
    "x.insert(0, 'Gel pen')"
   ]
  },
  {
   "cell_type": "code",
   "execution_count": 25,
   "id": "9a0b4b98",
   "metadata": {},
   "outputs": [
    {
     "data": {
      "text/plain": [
       "['Ball pen', 'Eraser', 'Fountain pen', 'Eraser']"
      ]
     },
     "execution_count": 25,
     "metadata": {},
     "output_type": "execute_result"
    }
   ],
   "source": [
    "x"
   ]
  },
  {
   "cell_type": "markdown",
   "id": "88f618f3",
   "metadata": {},
   "source": [
    "### Sorting a list- sort method of lists"
   ]
  },
  {
   "cell_type": "code",
   "execution_count": 13,
   "id": "385134bf",
   "metadata": {},
   "outputs": [
    {
     "data": {
      "text/plain": [
       "['Ball pen', 'Click pencil', 'Eraser']"
      ]
     },
     "execution_count": 13,
     "metadata": {},
     "output_type": "execute_result"
    }
   ],
   "source": [
    "x"
   ]
  },
  {
   "cell_type": "markdown",
   "id": "6328cc4e",
   "metadata": {},
   "source": [
    "#### Sorting in alphabetical order"
   ]
  },
  {
   "cell_type": "code",
   "execution_count": 14,
   "id": "860c8686",
   "metadata": {},
   "outputs": [],
   "source": [
    "x.sort()"
   ]
  },
  {
   "cell_type": "code",
   "execution_count": 15,
   "id": "7f261abf",
   "metadata": {},
   "outputs": [
    {
     "data": {
      "text/plain": [
       "['Ball pen', 'Click pencil', 'Eraser']"
      ]
     },
     "execution_count": 15,
     "metadata": {},
     "output_type": "execute_result"
    }
   ],
   "source": [
    "x"
   ]
  },
  {
   "cell_type": "markdown",
   "id": "32c3802c",
   "metadata": {},
   "source": [
    "#### Sorting in reverse alphabetical order "
   ]
  },
  {
   "cell_type": "code",
   "execution_count": 16,
   "id": "04a042f7",
   "metadata": {},
   "outputs": [],
   "source": [
    "x.sort(reverse = True)"
   ]
  },
  {
   "cell_type": "code",
   "execution_count": 17,
   "id": "b406b97c",
   "metadata": {},
   "outputs": [
    {
     "data": {
      "text/plain": [
       "['Eraser', 'Click pencil', 'Ball pen']"
      ]
     },
     "execution_count": 17,
     "metadata": {},
     "output_type": "execute_result"
    }
   ],
   "source": [
    "x"
   ]
  },
  {
   "cell_type": "markdown",
   "id": "e6afb7a4",
   "metadata": {},
   "source": [
    "#### Sorting in ascending order"
   ]
  },
  {
   "cell_type": "code",
   "execution_count": 13,
   "id": "cb7151d5",
   "metadata": {},
   "outputs": [],
   "source": [
    "x = [5,4,7,3,1,9,0]"
   ]
  },
  {
   "cell_type": "code",
   "execution_count": 31,
   "id": "069785e9",
   "metadata": {},
   "outputs": [],
   "source": [
    "x.sort()"
   ]
  },
  {
   "cell_type": "code",
   "execution_count": 32,
   "id": "315baafe",
   "metadata": {},
   "outputs": [
    {
     "data": {
      "text/plain": [
       "[0, 1, 3, 4, 5, 7, 9]"
      ]
     },
     "execution_count": 32,
     "metadata": {},
     "output_type": "execute_result"
    }
   ],
   "source": [
    "x"
   ]
  },
  {
   "cell_type": "markdown",
   "id": "15c8e096",
   "metadata": {},
   "source": [
    "#### Sorting in descending order"
   ]
  },
  {
   "cell_type": "code",
   "execution_count": 34,
   "id": "fd5e8103",
   "metadata": {},
   "outputs": [
    {
     "data": {
      "text/plain": [
       "[5, 4, 7, 3, 1, 9, 0]"
      ]
     },
     "execution_count": 34,
     "metadata": {},
     "output_type": "execute_result"
    }
   ],
   "source": [
    "x"
   ]
  },
  {
   "cell_type": "code",
   "execution_count": 35,
   "id": "b2d05699",
   "metadata": {},
   "outputs": [],
   "source": [
    "x.sort(reverse = True)"
   ]
  },
  {
   "cell_type": "code",
   "execution_count": 36,
   "id": "10a7af5b",
   "metadata": {},
   "outputs": [
    {
     "data": {
      "text/plain": [
       "[9, 7, 5, 4, 3, 1, 0]"
      ]
     },
     "execution_count": 36,
     "metadata": {},
     "output_type": "execute_result"
    }
   ],
   "source": [
    "x"
   ]
  },
  {
   "cell_type": "markdown",
   "id": "856ce7ff",
   "metadata": {},
   "source": [
    "#### Sorting using 'key' parameter"
   ]
  },
  {
   "cell_type": "code",
   "execution_count": 14,
   "id": "86c7dd9d",
   "metadata": {},
   "outputs": [
    {
     "data": {
      "text/plain": [
       "[5, 4, 7, 3, 1, 9, 0]"
      ]
     },
     "execution_count": 14,
     "metadata": {},
     "output_type": "execute_result"
    }
   ],
   "source": [
    "x"
   ]
  },
  {
   "cell_type": "code",
   "execution_count": 15,
   "id": "2c44573d",
   "metadata": {},
   "outputs": [],
   "source": [
    "def div_2(y):\n",
    "    return y%2"
   ]
  },
  {
   "cell_type": "code",
   "execution_count": 16,
   "id": "63920a86",
   "metadata": {},
   "outputs": [],
   "source": [
    "x.sort(key=div_2)"
   ]
  },
  {
   "cell_type": "code",
   "execution_count": 17,
   "id": "7f787e9a",
   "metadata": {},
   "outputs": [
    {
     "data": {
      "text/plain": [
       "[4, 0, 5, 7, 3, 1, 9]"
      ]
     },
     "execution_count": 17,
     "metadata": {},
     "output_type": "execute_result"
    }
   ],
   "source": [
    "x"
   ]
  },
  {
   "cell_type": "markdown",
   "id": "a8c4109e",
   "metadata": {},
   "source": [
    "We can see above, the numbers that are divisible by 2(even numbers, here '4' and '0') are first in the list, in the ascending order"
   ]
  },
  {
   "cell_type": "markdown",
   "id": "1f4c8ec1",
   "metadata": {},
   "source": [
    "for the descending order wherein even numbers come last-"
   ]
  },
  {
   "cell_type": "code",
   "execution_count": 18,
   "id": "dded741f",
   "metadata": {},
   "outputs": [],
   "source": [
    "x.sort(key=div_2, reverse = True)"
   ]
  },
  {
   "cell_type": "code",
   "execution_count": 19,
   "id": "be027ed6",
   "metadata": {},
   "outputs": [
    {
     "data": {
      "text/plain": [
       "[5, 7, 3, 1, 9, 4, 0]"
      ]
     },
     "execution_count": 19,
     "metadata": {},
     "output_type": "execute_result"
    }
   ],
   "source": [
    "x"
   ]
  },
  {
   "cell_type": "code",
   "execution_count": 39,
   "id": "f01ce11f",
   "metadata": {},
   "outputs": [
    {
     "data": {
      "text/plain": [
       "['Ball pen', 'Click pencil', 'Eraser']"
      ]
     },
     "execution_count": 39,
     "metadata": {},
     "output_type": "execute_result"
    }
   ],
   "source": [
    "x"
   ]
  },
  {
   "cell_type": "markdown",
   "id": "58f8002e",
   "metadata": {},
   "source": [
    "Sorting by the length of the words/string starting by smallest"
   ]
  },
  {
   "cell_type": "code",
   "execution_count": 40,
   "id": "474bdeab",
   "metadata": {},
   "outputs": [],
   "source": [
    "x.sort(key=len)"
   ]
  },
  {
   "cell_type": "code",
   "execution_count": 41,
   "id": "33e4d549",
   "metadata": {},
   "outputs": [
    {
     "data": {
      "text/plain": [
       "['Eraser', 'Ball pen', 'Click pencil']"
      ]
     },
     "execution_count": 41,
     "metadata": {},
     "output_type": "execute_result"
    }
   ],
   "source": [
    "x"
   ]
  },
  {
   "cell_type": "markdown",
   "id": "2c98db17",
   "metadata": {},
   "source": [
    "Sorting by the length of the words starting by largest"
   ]
  },
  {
   "cell_type": "code",
   "execution_count": 42,
   "id": "6d7e68e1",
   "metadata": {},
   "outputs": [],
   "source": [
    "x.sort(key = len,reverse = True)"
   ]
  },
  {
   "cell_type": "code",
   "execution_count": 43,
   "id": "41c104f1",
   "metadata": {},
   "outputs": [
    {
     "data": {
      "text/plain": [
       "['Click pencil', 'Ball pen', 'Eraser']"
      ]
     },
     "execution_count": 43,
     "metadata": {},
     "output_type": "execute_result"
    }
   ],
   "source": [
    "x"
   ]
  },
  {
   "cell_type": "markdown",
   "id": "1edad1cc",
   "metadata": {},
   "source": [
    "another example"
   ]
  },
  {
   "cell_type": "code",
   "execution_count": 22,
   "id": "326d0091",
   "metadata": {},
   "outputs": [
    {
     "data": {
      "text/plain": [
       "[{'Name': 'Prathamesh', 'Age': 31},\n",
       " {'Name': 'Dattaram', 'Age': 62},\n",
       " {'Name': 'Vibodh', 'Age': 25},\n",
       " {'Name': 'Suman', 'Age': 58}]"
      ]
     },
     "execution_count": 22,
     "metadata": {},
     "output_type": "execute_result"
    }
   ],
   "source": [
    "x"
   ]
  },
  {
   "cell_type": "markdown",
   "id": "d7b9bb97",
   "metadata": {},
   "source": [
    "Here, x is a list of dictionaries. In other words, every element of x is a dictionary"
   ]
  },
  {
   "cell_type": "code",
   "execution_count": 23,
   "id": "7f4a8c11",
   "metadata": {},
   "outputs": [],
   "source": [
    "def get_age(element):\n",
    "    return element['Age']"
   ]
  },
  {
   "cell_type": "markdown",
   "id": "487d8ff1",
   "metadata": {},
   "source": [
    "Sorting by age in ascending order"
   ]
  },
  {
   "cell_type": "code",
   "execution_count": 25,
   "id": "eb6ef719",
   "metadata": {},
   "outputs": [
    {
     "name": "stdout",
     "output_type": "stream",
     "text": [
      "[{'Name': 'Vibodh', 'Age': 25}, {'Name': 'Prathamesh', 'Age': 31}, {'Name': 'Suman', 'Age': 58}, {'Name': 'Dattaram', 'Age': 62}]\n"
     ]
    }
   ],
   "source": [
    "x.sort(key = get_age)\n",
    "print(x)"
   ]
  },
  {
   "cell_type": "markdown",
   "id": "cba93a34",
   "metadata": {},
   "source": [
    "Sorting by age in descending order"
   ]
  },
  {
   "cell_type": "code",
   "execution_count": 26,
   "id": "8708d16f",
   "metadata": {},
   "outputs": [
    {
     "name": "stdout",
     "output_type": "stream",
     "text": [
      "[{'Name': 'Dattaram', 'Age': 62}, {'Name': 'Suman', 'Age': 58}, {'Name': 'Prathamesh', 'Age': 31}, {'Name': 'Vibodh', 'Age': 25}]\n"
     ]
    }
   ],
   "source": [
    "x.sort(key = get_age, reverse = True)\n",
    "print(x)"
   ]
  },
  {
   "cell_type": "markdown",
   "id": "bc053a73",
   "metadata": {},
   "source": [
    "### List constructor"
   ]
  },
  {
   "cell_type": "code",
   "execution_count": 17,
   "id": "5989e2b2",
   "metadata": {},
   "outputs": [],
   "source": [
    "x = list(('Dattaram','Suman','Prathamesh','Vibodh'))"
   ]
  },
  {
   "cell_type": "code",
   "execution_count": 18,
   "id": "72abda41",
   "metadata": {},
   "outputs": [
    {
     "data": {
      "text/plain": [
       "['Dattaram', 'Suman', 'Prathamesh', 'Vibodh']"
      ]
     },
     "execution_count": 18,
     "metadata": {},
     "output_type": "execute_result"
    }
   ],
   "source": [
    "x"
   ]
  },
  {
   "cell_type": "markdown",
   "id": "f7247559",
   "metadata": {},
   "source": [
    "### Checking the index of items- index method of lists "
   ]
  },
  {
   "cell_type": "code",
   "execution_count": 2,
   "id": "a6d1774c",
   "metadata": {},
   "outputs": [],
   "source": [
    "x = ['Eraser','Click pencil','Gel pen']"
   ]
  },
  {
   "cell_type": "code",
   "execution_count": 27,
   "id": "00317647",
   "metadata": {},
   "outputs": [
    {
     "data": {
      "text/plain": [
       "1"
      ]
     },
     "execution_count": 27,
     "metadata": {},
     "output_type": "execute_result"
    }
   ],
   "source": [
    "x.index('Click pencil')"
   ]
  },
  {
   "cell_type": "code",
   "execution_count": 28,
   "id": "9c10d644",
   "metadata": {},
   "outputs": [
    {
     "data": {
      "text/plain": [
       "2"
      ]
     },
     "execution_count": 28,
     "metadata": {},
     "output_type": "execute_result"
    }
   ],
   "source": [
    "x.index('Gel pen')"
   ]
  },
  {
   "cell_type": "code",
   "execution_count": 23,
   "id": "16255813",
   "metadata": {},
   "outputs": [],
   "source": [
    "y = ['Writing pad','Exercise book','Pages']"
   ]
  },
  {
   "cell_type": "code",
   "execution_count": 24,
   "id": "0d7d1ea3",
   "metadata": {},
   "outputs": [],
   "source": [
    "x.extend(y)"
   ]
  },
  {
   "cell_type": "code",
   "execution_count": 25,
   "id": "7b6ca0ef",
   "metadata": {},
   "outputs": [
    {
     "data": {
      "text/plain": [
       "['Eraser',\n",
       " 'Eraser',\n",
       " 'Click pencil',\n",
       " 'Ball pen',\n",
       " 'Writing pad',\n",
       " 'Exercise book',\n",
       " 'Pages']"
      ]
     },
     "execution_count": 25,
     "metadata": {},
     "output_type": "execute_result"
    }
   ],
   "source": [
    "x"
   ]
  },
  {
   "cell_type": "markdown",
   "id": "5816a3b4",
   "metadata": {},
   "source": [
    "### Adding tuple elements to a list- Extend method of lists"
   ]
  },
  {
   "cell_type": "code",
   "execution_count": 30,
   "id": "4a8789c3",
   "metadata": {},
   "outputs": [],
   "source": [
    "y = ('Writing pad','Exercise book','Pages')"
   ]
  },
  {
   "cell_type": "code",
   "execution_count": 31,
   "id": "af7d77b0",
   "metadata": {},
   "outputs": [
    {
     "data": {
      "text/plain": [
       "['Eraser', 'Click pencil', 'Ball pen']"
      ]
     },
     "execution_count": 31,
     "metadata": {},
     "output_type": "execute_result"
    }
   ],
   "source": [
    "x"
   ]
  },
  {
   "cell_type": "code",
   "execution_count": 32,
   "id": "6a129141",
   "metadata": {},
   "outputs": [],
   "source": [
    "x.extend(y)"
   ]
  },
  {
   "cell_type": "code",
   "execution_count": 33,
   "id": "26ef4e77",
   "metadata": {},
   "outputs": [
    {
     "data": {
      "text/plain": [
       "['Eraser', 'Click pencil', 'Ball pen', 'Writing pad', 'Exercise book', 'Pages']"
      ]
     },
     "execution_count": 33,
     "metadata": {},
     "output_type": "execute_result"
    }
   ],
   "source": [
    "x"
   ]
  },
  {
   "cell_type": "markdown",
   "id": "9e154d46",
   "metadata": {},
   "source": [
    "### Creating a copy of a list-Copy method of list"
   ]
  },
  {
   "cell_type": "code",
   "execution_count": 34,
   "id": "525f53d6",
   "metadata": {},
   "outputs": [
    {
     "data": {
      "text/plain": [
       "['Eraser', 'Click pencil', 'Ball pen', 'Writing pad', 'Exercise book', 'Pages']"
      ]
     },
     "execution_count": 34,
     "metadata": {},
     "output_type": "execute_result"
    }
   ],
   "source": [
    "x"
   ]
  },
  {
   "cell_type": "code",
   "execution_count": 35,
   "id": "fddeb5f7",
   "metadata": {},
   "outputs": [],
   "source": [
    "stationery_essentials = x.copy()"
   ]
  },
  {
   "cell_type": "code",
   "execution_count": 36,
   "id": "3b76b9b6",
   "metadata": {},
   "outputs": [
    {
     "data": {
      "text/plain": [
       "['Eraser', 'Click pencil', 'Ball pen', 'Writing pad', 'Exercise book', 'Pages']"
      ]
     },
     "execution_count": 36,
     "metadata": {},
     "output_type": "execute_result"
    }
   ],
   "source": [
    "stationery_essentials"
   ]
  },
  {
   "cell_type": "markdown",
   "id": "00ab426e",
   "metadata": {},
   "source": [
    "### To print a range of elements(acc to index) from a list"
   ]
  },
  {
   "cell_type": "code",
   "execution_count": 5,
   "id": "115c9c34",
   "metadata": {},
   "outputs": [
    {
     "data": {
      "text/plain": [
       "['Eraser', 'Click pencil', 'Ball pen']"
      ]
     },
     "execution_count": 5,
     "metadata": {},
     "output_type": "execute_result"
    }
   ],
   "source": [
    "x"
   ]
  },
  {
   "cell_type": "code",
   "execution_count": 4,
   "id": "5f154e8e",
   "metadata": {},
   "outputs": [
    {
     "data": {
      "text/plain": [
       "['Eraser', 'Click pencil']"
      ]
     },
     "execution_count": 4,
     "metadata": {},
     "output_type": "execute_result"
    }
   ],
   "source": [
    "x[0:2]"
   ]
  },
  {
   "cell_type": "markdown",
   "id": "25f01157",
   "metadata": {},
   "source": [
    "Here, we have printed the list with elements starting with index=0 and ending with index=1"
   ]
  },
  {
   "cell_type": "code",
   "execution_count": 6,
   "id": "064f5e9e",
   "metadata": {},
   "outputs": [
    {
     "data": {
      "text/plain": [
       "['Eraser']"
      ]
     },
     "execution_count": 6,
     "metadata": {},
     "output_type": "execute_result"
    }
   ],
   "source": [
    "x[0:1]"
   ]
  },
  {
   "cell_type": "markdown",
   "id": "e36b8ab2",
   "metadata": {},
   "source": [
    "### Using loop on lists"
   ]
  },
  {
   "cell_type": "code",
   "execution_count": 7,
   "id": "67452113",
   "metadata": {},
   "outputs": [
    {
     "data": {
      "text/plain": [
       "['Eraser', 'Click pencil', 'Ball pen']"
      ]
     },
     "execution_count": 7,
     "metadata": {},
     "output_type": "execute_result"
    }
   ],
   "source": [
    "x"
   ]
  },
  {
   "cell_type": "markdown",
   "id": "e5f74a5f",
   "metadata": {},
   "source": [
    "### Using 'for' loop"
   ]
  },
  {
   "cell_type": "markdown",
   "id": "33e1e105",
   "metadata": {},
   "source": [
    "##### Printing all elements in a list"
   ]
  },
  {
   "cell_type": "code",
   "execution_count": 9,
   "id": "b10771db",
   "metadata": {},
   "outputs": [
    {
     "name": "stdout",
     "output_type": "stream",
     "text": [
      "Eraser\n",
      "Click pencil\n",
      "Ball pen\n"
     ]
    }
   ],
   "source": [
    "for i in x:\n",
    "    print(i)"
   ]
  },
  {
   "cell_type": "code",
   "execution_count": 11,
   "id": "6aed36f0",
   "metadata": {},
   "outputs": [
    {
     "name": "stdout",
     "output_type": "stream",
     "text": [
      "Eraser\n",
      "Click pencil\n",
      "Ball pen\n"
     ]
    }
   ],
   "source": [
    "for i in range(len(x)):\n",
    "    print(x[i])"
   ]
  },
  {
   "cell_type": "markdown",
   "id": "ce936565",
   "metadata": {},
   "source": [
    "##### Using 'while' loop"
   ]
  },
  {
   "cell_type": "code",
   "execution_count": 12,
   "id": "c60a47ac",
   "metadata": {},
   "outputs": [
    {
     "data": {
      "text/plain": [
       "['Eraser', 'Click pencil', 'Ball pen']"
      ]
     },
     "execution_count": 12,
     "metadata": {},
     "output_type": "execute_result"
    }
   ],
   "source": [
    "x"
   ]
  },
  {
   "cell_type": "code",
   "execution_count": 14,
   "id": "41696b36",
   "metadata": {},
   "outputs": [
    {
     "data": {
      "text/plain": [
       "3"
      ]
     },
     "execution_count": 14,
     "metadata": {},
     "output_type": "execute_result"
    }
   ],
   "source": [
    "len(x)"
   ]
  },
  {
   "cell_type": "code",
   "execution_count": 13,
   "id": "fe13f65a",
   "metadata": {},
   "outputs": [
    {
     "name": "stdout",
     "output_type": "stream",
     "text": [
      "Eraser\n",
      "Click pencil\n",
      "Ball pen\n"
     ]
    }
   ],
   "source": [
    "i=0\n",
    "while i < len(x):\n",
    "    print(x[i])\n",
    "    i = i + 1"
   ]
  },
  {
   "cell_type": "markdown",
   "id": "2e28612d",
   "metadata": {},
   "source": [
    "##### Using list comprehension"
   ]
  },
  {
   "cell_type": "code",
   "execution_count": 15,
   "id": "28df2bb8",
   "metadata": {},
   "outputs": [
    {
     "data": {
      "text/plain": [
       "['Eraser', 'Click pencil', 'Ball pen']"
      ]
     },
     "execution_count": 15,
     "metadata": {},
     "output_type": "execute_result"
    }
   ],
   "source": [
    "x"
   ]
  },
  {
   "cell_type": "code",
   "execution_count": 16,
   "id": "6a2d7d61",
   "metadata": {},
   "outputs": [
    {
     "name": "stdout",
     "output_type": "stream",
     "text": [
      "Eraser\n",
      "Click pencil\n",
      "Ball pen\n"
     ]
    },
    {
     "data": {
      "text/plain": [
       "[None, None, None]"
      ]
     },
     "execution_count": 16,
     "metadata": {},
     "output_type": "execute_result"
    }
   ],
   "source": [
    "[print(i) for i in x ]"
   ]
  },
  {
   "cell_type": "markdown",
   "id": "8e9c40c2",
   "metadata": {},
   "source": [
    "#### Unpacking a list(or any other array) i.e taking elements from the array and storing them into variables in an orderly way"
   ]
  },
  {
   "cell_type": "code",
   "execution_count": 1,
   "id": "1167997a",
   "metadata": {},
   "outputs": [],
   "source": [
    "sport_games = ['Football', 'Cricket', 'Badminton']\n",
    "x, y, z = sport_games "
   ]
  },
  {
   "cell_type": "code",
   "execution_count": 20,
   "id": "3487f539",
   "metadata": {},
   "outputs": [
    {
     "data": {
      "text/plain": [
       "'Football'"
      ]
     },
     "execution_count": 20,
     "metadata": {},
     "output_type": "execute_result"
    }
   ],
   "source": [
    "x"
   ]
  },
  {
   "cell_type": "code",
   "execution_count": 5,
   "id": "e94327a7",
   "metadata": {},
   "outputs": [
    {
     "data": {
      "text/plain": [
       "'Cricket'"
      ]
     },
     "execution_count": 5,
     "metadata": {},
     "output_type": "execute_result"
    }
   ],
   "source": [
    "y"
   ]
  },
  {
   "cell_type": "code",
   "execution_count": 2,
   "id": "a55b28fd",
   "metadata": {},
   "outputs": [
    {
     "data": {
      "text/plain": [
       "'Badminton'"
      ]
     },
     "execution_count": 2,
     "metadata": {},
     "output_type": "execute_result"
    }
   ],
   "source": [
    "z"
   ]
  },
  {
   "cell_type": "markdown",
   "id": "17f098fe",
   "metadata": {},
   "source": [
    "### List comprehension"
   ]
  },
  {
   "cell_type": "code",
   "execution_count": 30,
   "id": "2fbfd3fc",
   "metadata": {},
   "outputs": [
    {
     "data": {
      "text/plain": [
       "['Eraser', 'Click pencil', 'Ball pen', 'Fountain pen', 'Gel pen']"
      ]
     },
     "execution_count": 30,
     "metadata": {},
     "output_type": "execute_result"
    }
   ],
   "source": [
    "x"
   ]
  },
  {
   "cell_type": "code",
   "execution_count": 19,
   "id": "7ba424dc",
   "metadata": {},
   "outputs": [],
   "source": [
    "x.append('Fountain pen')"
   ]
  },
  {
   "cell_type": "code",
   "execution_count": 20,
   "id": "d86dbe0b",
   "metadata": {},
   "outputs": [],
   "source": [
    "x.append('Gel pen')"
   ]
  },
  {
   "cell_type": "code",
   "execution_count": 35,
   "id": "fe6a2a7f",
   "metadata": {},
   "outputs": [],
   "source": [
    "x.remove('Click pencil')"
   ]
  },
  {
   "cell_type": "code",
   "execution_count": 36,
   "id": "b4e4d9c9",
   "metadata": {},
   "outputs": [
    {
     "data": {
      "text/plain": [
       "['Eraser', 'Ball pen', 'Fountain pen', 'Gel pen']"
      ]
     },
     "execution_count": 36,
     "metadata": {},
     "output_type": "execute_result"
    }
   ],
   "source": [
    "x"
   ]
  },
  {
   "cell_type": "markdown",
   "id": "dcb48207",
   "metadata": {},
   "source": [
    "From the above list 'x', we want a list('pens') that contains all the 'pens' ONLY, we use list comprehension for this."
   ]
  },
  {
   "cell_type": "code",
   "execution_count": 37,
   "id": "9e055e45",
   "metadata": {},
   "outputs": [],
   "source": [
    "pens = [i for i in x if 'pen' in i]"
   ]
  },
  {
   "cell_type": "code",
   "execution_count": 38,
   "id": "f8ad9fb5",
   "metadata": {},
   "outputs": [
    {
     "data": {
      "text/plain": [
       "['Ball pen', 'Fountain pen', 'Gel pen']"
      ]
     },
     "execution_count": 38,
     "metadata": {},
     "output_type": "execute_result"
    }
   ],
   "source": [
    "pens"
   ]
  },
  {
   "cell_type": "markdown",
   "id": "9a6393f7",
   "metadata": {},
   "source": [
    "#### Joining lists"
   ]
  },
  {
   "cell_type": "code",
   "execution_count": 25,
   "id": "bdf757cf",
   "metadata": {},
   "outputs": [],
   "source": [
    "x = ['Gel pen', 'Click pencil','Eraser']"
   ]
  },
  {
   "cell_type": "code",
   "execution_count": 26,
   "id": "6b5349fa",
   "metadata": {},
   "outputs": [],
   "source": [
    "y = ['Writing pad','Paper','Exercise book']"
   ]
  },
  {
   "cell_type": "code",
   "execution_count": 17,
   "id": "c4438517",
   "metadata": {},
   "outputs": [],
   "source": [
    "for i in y:\n",
    "    x.append(i)"
   ]
  },
  {
   "cell_type": "code",
   "execution_count": 18,
   "id": "1d71e4e2",
   "metadata": {},
   "outputs": [
    {
     "data": {
      "text/plain": [
       "['Ball pen', 'Click pencil', 'Eraser', 'Writing pad', 'Paper', 'Exercise book']"
      ]
     },
     "execution_count": 18,
     "metadata": {},
     "output_type": "execute_result"
    }
   ],
   "source": [
    "x"
   ]
  },
  {
   "cell_type": "markdown",
   "id": "18dd855a",
   "metadata": {},
   "source": [
    "using the 'extend' method"
   ]
  },
  {
   "cell_type": "code",
   "execution_count": 21,
   "id": "2673c466",
   "metadata": {},
   "outputs": [
    {
     "data": {
      "text/plain": [
       "['Ball pen', 'Click pencil', 'Eraser']"
      ]
     },
     "execution_count": 21,
     "metadata": {},
     "output_type": "execute_result"
    }
   ],
   "source": [
    "x"
   ]
  },
  {
   "cell_type": "code",
   "execution_count": 22,
   "id": "39e61abb",
   "metadata": {},
   "outputs": [
    {
     "data": {
      "text/plain": [
       "['Writing pad', 'Paper', 'Exercise book']"
      ]
     },
     "execution_count": 22,
     "metadata": {},
     "output_type": "execute_result"
    }
   ],
   "source": [
    "y"
   ]
  },
  {
   "cell_type": "code",
   "execution_count": 23,
   "id": "a7970846",
   "metadata": {},
   "outputs": [],
   "source": [
    "x.extend(y)"
   ]
  },
  {
   "cell_type": "code",
   "execution_count": 24,
   "id": "b4c98398",
   "metadata": {},
   "outputs": [
    {
     "data": {
      "text/plain": [
       "['Ball pen', 'Click pencil', 'Eraser', 'Writing pad', 'Paper', 'Exercise book']"
      ]
     },
     "execution_count": 24,
     "metadata": {},
     "output_type": "execute_result"
    }
   ],
   "source": [
    "x"
   ]
  },
  {
   "cell_type": "markdown",
   "id": "7d21c07b",
   "metadata": {},
   "source": [
    "using the instances"
   ]
  },
  {
   "cell_type": "code",
   "execution_count": 27,
   "id": "237833a6",
   "metadata": {},
   "outputs": [
    {
     "data": {
      "text/plain": [
       "['Ball pen', 'Click pencil', 'Eraser']"
      ]
     },
     "execution_count": 27,
     "metadata": {},
     "output_type": "execute_result"
    }
   ],
   "source": [
    "x"
   ]
  },
  {
   "cell_type": "code",
   "execution_count": 28,
   "id": "0b9c2b1f",
   "metadata": {},
   "outputs": [
    {
     "data": {
      "text/plain": [
       "['Writing pad', 'Paper', 'Exercise book']"
      ]
     },
     "execution_count": 28,
     "metadata": {},
     "output_type": "execute_result"
    }
   ],
   "source": [
    "y"
   ]
  },
  {
   "cell_type": "code",
   "execution_count": 29,
   "id": "bc9a10bf",
   "metadata": {},
   "outputs": [],
   "source": [
    "t = x + y"
   ]
  },
  {
   "cell_type": "code",
   "execution_count": 30,
   "id": "45b64ad8",
   "metadata": {},
   "outputs": [
    {
     "data": {
      "text/plain": [
       "['Ball pen', 'Click pencil', 'Eraser', 'Writing pad', 'Paper', 'Exercise book']"
      ]
     },
     "execution_count": 30,
     "metadata": {},
     "output_type": "execute_result"
    }
   ],
   "source": [
    "t"
   ]
  },
  {
   "cell_type": "markdown",
   "id": "4673420b",
   "metadata": {},
   "source": [
    "#### Reversing the order of the list"
   ]
  },
  {
   "cell_type": "code",
   "execution_count": 31,
   "id": "3c1cd44d",
   "metadata": {},
   "outputs": [
    {
     "data": {
      "text/plain": [
       "['Ball pen', 'Click pencil', 'Eraser']"
      ]
     },
     "execution_count": 31,
     "metadata": {},
     "output_type": "execute_result"
    }
   ],
   "source": [
    "x"
   ]
  },
  {
   "cell_type": "code",
   "execution_count": 32,
   "id": "278206bb",
   "metadata": {},
   "outputs": [],
   "source": [
    "x.reverse()"
   ]
  },
  {
   "cell_type": "code",
   "execution_count": 33,
   "id": "2b5b4d8b",
   "metadata": {},
   "outputs": [
    {
     "data": {
      "text/plain": [
       "['Eraser', 'Click pencil', 'Ball pen']"
      ]
     },
     "execution_count": 33,
     "metadata": {},
     "output_type": "execute_result"
    }
   ],
   "source": [
    "x"
   ]
  },
  {
   "cell_type": "markdown",
   "id": "9163be94",
   "metadata": {},
   "source": [
    "#### Removing all the elements from a list"
   ]
  },
  {
   "cell_type": "code",
   "execution_count": 35,
   "id": "dfdfb178",
   "metadata": {},
   "outputs": [
    {
     "data": {
      "text/plain": [
       "['Eraser', 'Click pencil', 'Ball pen']"
      ]
     },
     "execution_count": 35,
     "metadata": {},
     "output_type": "execute_result"
    }
   ],
   "source": [
    "x"
   ]
  },
  {
   "cell_type": "code",
   "execution_count": 36,
   "id": "65f05069",
   "metadata": {},
   "outputs": [],
   "source": [
    "x.clear()"
   ]
  },
  {
   "cell_type": "code",
   "execution_count": 37,
   "id": "12368436",
   "metadata": {},
   "outputs": [
    {
     "data": {
      "text/plain": [
       "[]"
      ]
     },
     "execution_count": 37,
     "metadata": {},
     "output_type": "execute_result"
    }
   ],
   "source": [
    "x"
   ]
  },
  {
   "cell_type": "markdown",
   "id": "f29bcafe",
   "metadata": {},
   "source": [
    "## Tuples(array)"
   ]
  },
  {
   "cell_type": "code",
   "execution_count": 35,
   "id": "6c5dc677",
   "metadata": {},
   "outputs": [
    {
     "name": "stdout",
     "output_type": "stream",
     "text": [
      "('Ball pen', 'Click pencil', 'Eraser')\n"
     ]
    },
    {
     "data": {
      "text/plain": [
       "tuple"
      ]
     },
     "execution_count": 35,
     "metadata": {},
     "output_type": "execute_result"
    }
   ],
   "source": [
    "x = ('Gel pen', 'Click pencil', 'Eraser')\n",
    "print(x)\n",
    "type(x)"
   ]
  },
  {
   "cell_type": "code",
   "execution_count": 18,
   "id": "11024184",
   "metadata": {},
   "outputs": [
    {
     "data": {
      "text/plain": [
       "'Eraser'"
      ]
     },
     "execution_count": 18,
     "metadata": {},
     "output_type": "execute_result"
    }
   ],
   "source": [
    "x[0]"
   ]
  },
  {
   "cell_type": "code",
   "execution_count": 19,
   "id": "446594f9",
   "metadata": {},
   "outputs": [
    {
     "data": {
      "text/plain": [
       "'Click pencil'"
      ]
     },
     "execution_count": 19,
     "metadata": {},
     "output_type": "execute_result"
    }
   ],
   "source": [
    "x[1]"
   ]
  },
  {
   "cell_type": "code",
   "execution_count": 20,
   "id": "4a72431f",
   "metadata": {},
   "outputs": [
    {
     "data": {
      "text/plain": [
       "'Ball pen'"
      ]
     },
     "execution_count": 20,
     "metadata": {},
     "output_type": "execute_result"
    }
   ],
   "source": [
    "x[2]"
   ]
  },
  {
   "cell_type": "markdown",
   "id": "a2da2b62",
   "metadata": {},
   "source": [
    "Key differences between 'lists' and 'tuples'\n",
    "1. Lists can be modified but Tuples cannot be, in other words, tuples are immutable.\n",
    "2. Lists have many built in methods, tuples don't have.\n",
    "3. Lists are more error prone, tuples are not.\n",
    "4. Tuples are better for accessing elements, Lists are better for insertion & deletion of elements.\n",
    "5. Iterations are faster in tuples than in lists. "
   ]
  },
  {
   "cell_type": "markdown",
   "id": "078af9d5",
   "metadata": {},
   "source": [
    "Assigning values to a tuple is called 'packing a tuple'"
   ]
  },
  {
   "cell_type": "markdown",
   "id": "ef1c877f",
   "metadata": {},
   "source": [
    "### Unpacking a tuple i.e extracting the values of a tuple into variables"
   ]
  },
  {
   "cell_type": "code",
   "execution_count": 39,
   "id": "9211d0fa",
   "metadata": {},
   "outputs": [],
   "source": [
    "x = ('Gel pen','Click pencil','Eraser')"
   ]
  },
  {
   "cell_type": "code",
   "execution_count": 40,
   "id": "1e4fbe9a",
   "metadata": {},
   "outputs": [],
   "source": [
    "(red,green,blue) = x"
   ]
  },
  {
   "cell_type": "code",
   "execution_count": 41,
   "id": "d00799c1",
   "metadata": {},
   "outputs": [
    {
     "data": {
      "text/plain": [
       "'Ball pen'"
      ]
     },
     "execution_count": 41,
     "metadata": {},
     "output_type": "execute_result"
    }
   ],
   "source": [
    "red"
   ]
  },
  {
   "cell_type": "code",
   "execution_count": 42,
   "id": "d2775dad",
   "metadata": {},
   "outputs": [
    {
     "data": {
      "text/plain": [
       "'Click pencil'"
      ]
     },
     "execution_count": 42,
     "metadata": {},
     "output_type": "execute_result"
    }
   ],
   "source": [
    "green"
   ]
  },
  {
   "cell_type": "code",
   "execution_count": 43,
   "id": "834feeef",
   "metadata": {},
   "outputs": [
    {
     "data": {
      "text/plain": [
       "'Eraser'"
      ]
     },
     "execution_count": 43,
     "metadata": {},
     "output_type": "execute_result"
    }
   ],
   "source": [
    "blue"
   ]
  },
  {
   "cell_type": "markdown",
   "id": "2cda3ec4",
   "metadata": {},
   "source": [
    "Assigning a list of values to a variable from a tuple while unpacking"
   ]
  },
  {
   "cell_type": "code",
   "execution_count": 44,
   "id": "539b1290",
   "metadata": {},
   "outputs": [],
   "source": [
    "x = ('Gel pen','Click pencil','Eraser','Writing pad','Paper','Exercise book')"
   ]
  },
  {
   "cell_type": "code",
   "execution_count": 45,
   "id": "c605d84a",
   "metadata": {},
   "outputs": [],
   "source": [
    "(red,green,blue,*violet) = x"
   ]
  },
  {
   "cell_type": "code",
   "execution_count": 46,
   "id": "43225285",
   "metadata": {},
   "outputs": [
    {
     "data": {
      "text/plain": [
       "'Ball pen'"
      ]
     },
     "execution_count": 46,
     "metadata": {},
     "output_type": "execute_result"
    }
   ],
   "source": [
    "red"
   ]
  },
  {
   "cell_type": "code",
   "execution_count": 47,
   "id": "9ee8f078",
   "metadata": {},
   "outputs": [
    {
     "data": {
      "text/plain": [
       "'Click pencil'"
      ]
     },
     "execution_count": 47,
     "metadata": {},
     "output_type": "execute_result"
    }
   ],
   "source": [
    "green"
   ]
  },
  {
   "cell_type": "code",
   "execution_count": 48,
   "id": "cbf6a00a",
   "metadata": {},
   "outputs": [
    {
     "data": {
      "text/plain": [
       "'Eraser'"
      ]
     },
     "execution_count": 48,
     "metadata": {},
     "output_type": "execute_result"
    }
   ],
   "source": [
    "blue"
   ]
  },
  {
   "cell_type": "code",
   "execution_count": 49,
   "id": "98bf6f50",
   "metadata": {},
   "outputs": [
    {
     "data": {
      "text/plain": [
       "['Writing pad', 'Paper', 'Exercise book']"
      ]
     },
     "execution_count": 49,
     "metadata": {},
     "output_type": "execute_result"
    }
   ],
   "source": [
    "violet"
   ]
  },
  {
   "cell_type": "code",
   "execution_count": 50,
   "id": "0d735e1f",
   "metadata": {},
   "outputs": [
    {
     "data": {
      "text/plain": [
       "list"
      ]
     },
     "execution_count": 50,
     "metadata": {},
     "output_type": "execute_result"
    }
   ],
   "source": [
    "type(violet)"
   ]
  },
  {
   "cell_type": "markdown",
   "id": "1ef431bc",
   "metadata": {},
   "source": [
    "### Converting a tuple into a list using list function"
   ]
  },
  {
   "cell_type": "code",
   "execution_count": 51,
   "id": "a359814e",
   "metadata": {},
   "outputs": [
    {
     "data": {
      "text/plain": [
       "('Ball pen', 'Click pencil', 'Eraser', 'Writing pad', 'Paper', 'Exercise book')"
      ]
     },
     "execution_count": 51,
     "metadata": {},
     "output_type": "execute_result"
    }
   ],
   "source": [
    "x"
   ]
  },
  {
   "cell_type": "code",
   "execution_count": 52,
   "id": "5094ad47",
   "metadata": {},
   "outputs": [
    {
     "data": {
      "text/plain": [
       "tuple"
      ]
     },
     "execution_count": 52,
     "metadata": {},
     "output_type": "execute_result"
    }
   ],
   "source": [
    "type(x)"
   ]
  },
  {
   "cell_type": "code",
   "execution_count": 55,
   "id": "d7e59166",
   "metadata": {},
   "outputs": [],
   "source": [
    "y = list(x)"
   ]
  },
  {
   "cell_type": "code",
   "execution_count": 56,
   "id": "0f3bb5d0",
   "metadata": {},
   "outputs": [
    {
     "data": {
      "text/plain": [
       "['Ball pen', 'Click pencil', 'Eraser', 'Writing pad', 'Paper', 'Exercise book']"
      ]
     },
     "execution_count": 56,
     "metadata": {},
     "output_type": "execute_result"
    }
   ],
   "source": [
    "y"
   ]
  },
  {
   "cell_type": "code",
   "execution_count": 57,
   "id": "7ad4982e",
   "metadata": {},
   "outputs": [
    {
     "data": {
      "text/plain": [
       "list"
      ]
     },
     "execution_count": 57,
     "metadata": {},
     "output_type": "execute_result"
    }
   ],
   "source": [
    "type(y)"
   ]
  },
  {
   "cell_type": "markdown",
   "id": "0fa30c11",
   "metadata": {},
   "source": [
    "If a tuple has only 1 element, we have to add a comma after it or else it isn't identified as a tuple"
   ]
  },
  {
   "cell_type": "code",
   "execution_count": 58,
   "id": "306d8693",
   "metadata": {},
   "outputs": [],
   "source": [
    "y = ('fountain pen')"
   ]
  },
  {
   "cell_type": "code",
   "execution_count": 59,
   "id": "87c2f2e9",
   "metadata": {},
   "outputs": [
    {
     "data": {
      "text/plain": [
       "str"
      ]
     },
     "execution_count": 59,
     "metadata": {},
     "output_type": "execute_result"
    }
   ],
   "source": [
    "type(y)"
   ]
  },
  {
   "cell_type": "code",
   "execution_count": 60,
   "id": "6ea3eeb2",
   "metadata": {},
   "outputs": [],
   "source": [
    "y = ('fountain pen',)"
   ]
  },
  {
   "cell_type": "code",
   "execution_count": 61,
   "id": "294499c2",
   "metadata": {},
   "outputs": [
    {
     "data": {
      "text/plain": [
       "tuple"
      ]
     },
     "execution_count": 61,
     "metadata": {},
     "output_type": "execute_result"
    }
   ],
   "source": [
    "type(y)"
   ]
  },
  {
   "cell_type": "markdown",
   "id": "ad267f1a",
   "metadata": {},
   "source": [
    "### Adding a tuple to a tuple"
   ]
  },
  {
   "cell_type": "code",
   "execution_count": 62,
   "id": "647624ec",
   "metadata": {},
   "outputs": [
    {
     "data": {
      "text/plain": [
       "('Ball pen', 'Click pencil', 'Eraser', 'Writing pad', 'Paper', 'Exercise book')"
      ]
     },
     "execution_count": 62,
     "metadata": {},
     "output_type": "execute_result"
    }
   ],
   "source": [
    "x"
   ]
  },
  {
   "cell_type": "code",
   "execution_count": 63,
   "id": "a897f74e",
   "metadata": {},
   "outputs": [
    {
     "data": {
      "text/plain": [
       "('fountain pen',)"
      ]
     },
     "execution_count": 63,
     "metadata": {},
     "output_type": "execute_result"
    }
   ],
   "source": [
    "y"
   ]
  },
  {
   "cell_type": "code",
   "execution_count": 64,
   "id": "b719d9bc",
   "metadata": {},
   "outputs": [],
   "source": [
    "x += y"
   ]
  },
  {
   "cell_type": "code",
   "execution_count": 65,
   "id": "4990dd47",
   "metadata": {},
   "outputs": [
    {
     "data": {
      "text/plain": [
       "('Ball pen',\n",
       " 'Click pencil',\n",
       " 'Eraser',\n",
       " 'Writing pad',\n",
       " 'Paper',\n",
       " 'Exercise book',\n",
       " 'fountain pen')"
      ]
     },
     "execution_count": 65,
     "metadata": {},
     "output_type": "execute_result"
    }
   ],
   "source": [
    "x"
   ]
  },
  {
   "cell_type": "code",
   "execution_count": 66,
   "id": "13705630",
   "metadata": {},
   "outputs": [
    {
     "data": {
      "text/plain": [
       "tuple"
      ]
     },
     "execution_count": 66,
     "metadata": {},
     "output_type": "execute_result"
    }
   ],
   "source": [
    "type(x)"
   ]
  },
  {
   "cell_type": "markdown",
   "id": "5bedf67e",
   "metadata": {},
   "source": [
    "### Multiplying a tuple by a number/scalar"
   ]
  },
  {
   "cell_type": "code",
   "execution_count": 71,
   "id": "e73a6380",
   "metadata": {},
   "outputs": [
    {
     "data": {
      "text/plain": [
       "('Ball pen',\n",
       " 'Click pencil',\n",
       " 'Eraser',\n",
       " 'Writing pad',\n",
       " 'Paper',\n",
       " 'Exercise book',\n",
       " 'fountain pen')"
      ]
     },
     "execution_count": 71,
     "metadata": {},
     "output_type": "execute_result"
    }
   ],
   "source": [
    "x"
   ]
  },
  {
   "cell_type": "code",
   "execution_count": 72,
   "id": "5e891b29",
   "metadata": {},
   "outputs": [],
   "source": [
    "x_2 = 2*x"
   ]
  },
  {
   "cell_type": "code",
   "execution_count": 73,
   "id": "4706edf1",
   "metadata": {},
   "outputs": [
    {
     "data": {
      "text/plain": [
       "('Ball pen',\n",
       " 'Click pencil',\n",
       " 'Eraser',\n",
       " 'Writing pad',\n",
       " 'Paper',\n",
       " 'Exercise book',\n",
       " 'fountain pen',\n",
       " 'Ball pen',\n",
       " 'Click pencil',\n",
       " 'Eraser',\n",
       " 'Writing pad',\n",
       " 'Paper',\n",
       " 'Exercise book',\n",
       " 'fountain pen')"
      ]
     },
     "execution_count": 73,
     "metadata": {},
     "output_type": "execute_result"
    }
   ],
   "source": [
    "x_2"
   ]
  },
  {
   "cell_type": "markdown",
   "id": "60b7ae51",
   "metadata": {},
   "source": [
    "### Using loops on tuples  "
   ]
  },
  {
   "cell_type": "code",
   "execution_count": 67,
   "id": "2bf81d26",
   "metadata": {},
   "outputs": [
    {
     "data": {
      "text/plain": [
       "('Ball pen',\n",
       " 'Click pencil',\n",
       " 'Eraser',\n",
       " 'Writing pad',\n",
       " 'Paper',\n",
       " 'Exercise book',\n",
       " 'fountain pen')"
      ]
     },
     "execution_count": 67,
     "metadata": {},
     "output_type": "execute_result"
    }
   ],
   "source": [
    "x"
   ]
  },
  {
   "cell_type": "code",
   "execution_count": 68,
   "id": "e79899d7",
   "metadata": {},
   "outputs": [
    {
     "name": "stdout",
     "output_type": "stream",
     "text": [
      "Ball pen\n",
      "Click pencil\n",
      "Eraser\n",
      "Writing pad\n",
      "Paper\n",
      "Exercise book\n",
      "fountain pen\n"
     ]
    }
   ],
   "source": [
    "for i in x:\n",
    "    print(i)"
   ]
  },
  {
   "cell_type": "markdown",
   "id": "b13e36de",
   "metadata": {},
   "source": [
    "another method to do the same printing"
   ]
  },
  {
   "cell_type": "code",
   "execution_count": 69,
   "id": "7db30bc8",
   "metadata": {},
   "outputs": [
    {
     "name": "stdout",
     "output_type": "stream",
     "text": [
      "Ball pen\n",
      "Click pencil\n",
      "Eraser\n",
      "Writing pad\n",
      "Paper\n",
      "Exercise book\n",
      "fountain pen\n"
     ]
    }
   ],
   "source": [
    "for i in range(len(x)):\n",
    "    print(x[i])"
   ]
  },
  {
   "cell_type": "code",
   "execution_count": 70,
   "id": "76b419f8",
   "metadata": {},
   "outputs": [
    {
     "name": "stdout",
     "output_type": "stream",
     "text": [
      "Ball pen\n",
      "Click pencil\n",
      "Eraser\n",
      "Writing pad\n",
      "Paper\n",
      "Exercise book\n",
      "fountain pen\n"
     ]
    }
   ],
   "source": [
    "i = 0\n",
    "while i < len(x):\n",
    "    print(x[i])\n",
    "    i += 1"
   ]
  },
  {
   "cell_type": "markdown",
   "id": "eccf0d43",
   "metadata": {},
   "source": [
    "### Tuple count() method"
   ]
  },
  {
   "cell_type": "code",
   "execution_count": 81,
   "id": "da20f963",
   "metadata": {},
   "outputs": [],
   "source": [
    "x = (2,3,4,5,4,5,6,4,5,6,7,8,7,8,9,6,7,4,5,2,3,4,3,6,5,8,7,5,6,7)"
   ]
  },
  {
   "cell_type": "code",
   "execution_count": 82,
   "id": "76c362db",
   "metadata": {},
   "outputs": [
    {
     "name": "stdout",
     "output_type": "stream",
     "text": [
      "5\n"
     ]
    }
   ],
   "source": [
    "x_count = x.count(6)\n",
    "print(x_count)"
   ]
  },
  {
   "cell_type": "markdown",
   "id": "75315680",
   "metadata": {},
   "source": [
    "The above value '5' means that the number 5 is repeated 6 times in the tuple named/initialized as 'x'"
   ]
  },
  {
   "cell_type": "code",
   "execution_count": 83,
   "id": "da1cdec4",
   "metadata": {},
   "outputs": [
    {
     "name": "stdout",
     "output_type": "stream",
     "text": [
      "0\n"
     ]
    }
   ],
   "source": [
    "x_count = x.count(1)\n",
    "print(x_count)"
   ]
  },
  {
   "cell_type": "markdown",
   "id": "cf2f4c7d",
   "metadata": {},
   "source": [
    "The above value '0' means that there is no number in the tuple x that hasn't repeated"
   ]
  },
  {
   "cell_type": "code",
   "execution_count": 1,
   "id": "6ad9ca62",
   "metadata": {},
   "outputs": [],
   "source": [
    "x=('Gel pen',\n",
    " 'Click pencil',\n",
    " 'Eraser',\n",
    " 'Writing pad',\n",
    " 'Paper',\n",
    " 'Exercise book',\n",
    " 'fountain pen',\n",
    " 'Gel pen',\n",
    " 'Click pencil',\n",
    " 'Eraser',\n",
    " 'Writing pad',\n",
    " 'Paper',\n",
    " 'Exercise book',\n",
    " 'fountain pen')"
   ]
  },
  {
   "cell_type": "code",
   "execution_count": 2,
   "id": "1c1b0fd7",
   "metadata": {},
   "outputs": [
    {
     "data": {
      "text/plain": [
       "2"
      ]
     },
     "execution_count": 2,
     "metadata": {},
     "output_type": "execute_result"
    }
   ],
   "source": [
    "x.count('Gel pen')"
   ]
  },
  {
   "cell_type": "code",
   "execution_count": 3,
   "id": "1d963fd0",
   "metadata": {},
   "outputs": [
    {
     "data": {
      "text/plain": [
       "2"
      ]
     },
     "execution_count": 3,
     "metadata": {},
     "output_type": "execute_result"
    }
   ],
   "source": [
    "x.count(x[0])"
   ]
  },
  {
   "cell_type": "markdown",
   "id": "1539fa6d",
   "metadata": {},
   "source": [
    "### Tuple index() method"
   ]
  },
  {
   "cell_type": "code",
   "execution_count": 84,
   "id": "ada30ea7",
   "metadata": {},
   "outputs": [
    {
     "data": {
      "text/plain": [
       "(2,\n",
       " 3,\n",
       " 4,\n",
       " 5,\n",
       " 4,\n",
       " 5,\n",
       " 6,\n",
       " 4,\n",
       " 5,\n",
       " 6,\n",
       " 7,\n",
       " 8,\n",
       " 7,\n",
       " 8,\n",
       " 9,\n",
       " 6,\n",
       " 7,\n",
       " 4,\n",
       " 5,\n",
       " 2,\n",
       " 3,\n",
       " 4,\n",
       " 3,\n",
       " 6,\n",
       " 5,\n",
       " 8,\n",
       " 7,\n",
       " 5,\n",
       " 6,\n",
       " 7)"
      ]
     },
     "execution_count": 84,
     "metadata": {},
     "output_type": "execute_result"
    }
   ],
   "source": [
    "x"
   ]
  },
  {
   "cell_type": "code",
   "execution_count": 87,
   "id": "ee47e518",
   "metadata": {},
   "outputs": [
    {
     "name": "stdout",
     "output_type": "stream",
     "text": [
      "0\n"
     ]
    }
   ],
   "source": [
    "index_x = x.index(2)\n",
    "print(index_x)"
   ]
  },
  {
   "cell_type": "code",
   "execution_count": 88,
   "id": "52ea6753",
   "metadata": {},
   "outputs": [
    {
     "name": "stdout",
     "output_type": "stream",
     "text": [
      "1\n"
     ]
    }
   ],
   "source": [
    "index_x = x.index(3)\n",
    "print(index_x)"
   ]
  },
  {
   "cell_type": "code",
   "execution_count": 89,
   "id": "ec627fc9",
   "metadata": {},
   "outputs": [
    {
     "name": "stdout",
     "output_type": "stream",
     "text": [
      "10\n"
     ]
    }
   ],
   "source": [
    "index_x = x.index(7)\n",
    "print(index_x)"
   ]
  },
  {
   "cell_type": "code",
   "execution_count": 90,
   "id": "598a14ee",
   "metadata": {},
   "outputs": [
    {
     "data": {
      "text/plain": [
       "11"
      ]
     },
     "execution_count": 90,
     "metadata": {},
     "output_type": "execute_result"
    }
   ],
   "source": [
    "x.index(8)"
   ]
  },
  {
   "cell_type": "code",
   "execution_count": 91,
   "id": "4eddb55e",
   "metadata": {},
   "outputs": [
    {
     "ename": "ValueError",
     "evalue": "tuple.index(x): x not in tuple",
     "output_type": "error",
     "traceback": [
      "\u001b[1;31m---------------------------------------------------------------------------\u001b[0m",
      "\u001b[1;31mValueError\u001b[0m                                Traceback (most recent call last)",
      "\u001b[1;32m~\\AppData\\Local\\Temp/ipykernel_7176/2127948633.py\u001b[0m in \u001b[0;36m<module>\u001b[1;34m\u001b[0m\n\u001b[1;32m----> 1\u001b[1;33m \u001b[0mx\u001b[0m\u001b[1;33m.\u001b[0m\u001b[0mindex\u001b[0m\u001b[1;33m(\u001b[0m\u001b[1;36m10\u001b[0m\u001b[1;33m)\u001b[0m\u001b[1;33m\u001b[0m\u001b[1;33m\u001b[0m\u001b[0m\n\u001b[0m",
      "\u001b[1;31mValueError\u001b[0m: tuple.index(x): x not in tuple"
     ]
    }
   ],
   "source": [
    "x.index(10)"
   ]
  },
  {
   "cell_type": "markdown",
   "id": "f623d466",
   "metadata": {},
   "source": [
    "The above numbers 0, 1, 10, 11 indicate that the number 2 appears first at position 0, the number 3 appears first at position 1, the number 7 appears first at position 10, and the number 8 appears first at position 11"
   ]
  },
  {
   "cell_type": "markdown",
   "id": "5095dd8b",
   "metadata": {},
   "source": [
    "The argument 10 in the method index throws an exception because there is no number 10 in the tuple x"
   ]
  },
  {
   "cell_type": "markdown",
   "id": "ce44b558",
   "metadata": {},
   "source": [
    "## Range"
   ]
  },
  {
   "cell_type": "code",
   "execution_count": 3,
   "id": "e54cfc2e",
   "metadata": {},
   "outputs": [
    {
     "name": "stdout",
     "output_type": "stream",
     "text": [
      "range(0, 8)\n"
     ]
    },
    {
     "data": {
      "text/plain": [
       "range"
      ]
     },
     "execution_count": 3,
     "metadata": {},
     "output_type": "execute_result"
    }
   ],
   "source": [
    "x = range(8)\n",
    "print(x)\n",
    "type(x)"
   ]
  },
  {
   "cell_type": "markdown",
   "id": "8a67b6fd",
   "metadata": {},
   "source": [
    "Range is usually used in loops"
   ]
  },
  {
   "cell_type": "code",
   "execution_count": 25,
   "id": "8f8dbead",
   "metadata": {},
   "outputs": [
    {
     "data": {
      "text/plain": [
       "['Ball pen',\n",
       " 'Gel pen',\n",
       " 'Click pencil',\n",
       " 'paper',\n",
       " 'Exercise book',\n",
       " 'Eraser',\n",
       " 'Writing pad']"
      ]
     },
     "execution_count": 25,
     "metadata": {},
     "output_type": "execute_result"
    }
   ],
   "source": [
    "x = list(x)\n",
    "x"
   ]
  },
  {
   "cell_type": "code",
   "execution_count": 26,
   "id": "0437e0a4",
   "metadata": {},
   "outputs": [
    {
     "name": "stdout",
     "output_type": "stream",
     "text": [
      "Ball pen\n",
      "Gel pen\n",
      "Click pencil\n",
      "paper\n",
      "Exercise book\n",
      "Eraser\n",
      "Writing pad\n"
     ]
    }
   ],
   "source": [
    "for i in range(len(x)):\n",
    "    print(x[i])"
   ]
  },
  {
   "cell_type": "markdown",
   "id": "3feecec0",
   "metadata": {},
   "source": [
    "## Dictionaries(Array)"
   ]
  },
  {
   "cell_type": "markdown",
   "id": "761b216b",
   "metadata": {},
   "source": [
    "Dictionaries are ordered, changeable/mutable and don't allow duplicates(like sets)"
   ]
  },
  {
   "cell_type": "code",
   "execution_count": 1,
   "id": "63eb411a",
   "metadata": {},
   "outputs": [],
   "source": [
    "x = {'Name':'Vibodh','Age':25,'Field':'Data Science'}"
   ]
  },
  {
   "cell_type": "code",
   "execution_count": 11,
   "id": "2037bc28",
   "metadata": {},
   "outputs": [
    {
     "data": {
      "text/plain": [
       "{'Name': 'Vibodh', 'Age': 25, 'Field': 'Data Science'}"
      ]
     },
     "execution_count": 11,
     "metadata": {},
     "output_type": "execute_result"
    }
   ],
   "source": [
    "x"
   ]
  },
  {
   "cell_type": "code",
   "execution_count": 7,
   "id": "a49a8886",
   "metadata": {},
   "outputs": [
    {
     "data": {
      "text/plain": [
       "dict"
      ]
     },
     "execution_count": 7,
     "metadata": {},
     "output_type": "execute_result"
    }
   ],
   "source": [
    "type(x)"
   ]
  },
  {
   "cell_type": "code",
   "execution_count": 12,
   "id": "8898e814",
   "metadata": {},
   "outputs": [
    {
     "data": {
      "text/plain": [
       "'Vibodh'"
      ]
     },
     "execution_count": 12,
     "metadata": {},
     "output_type": "execute_result"
    }
   ],
   "source": [
    "x['Name']"
   ]
  },
  {
   "cell_type": "code",
   "execution_count": 15,
   "id": "86bc5ae7",
   "metadata": {},
   "outputs": [
    {
     "data": {
      "text/plain": [
       "'Vibodh'"
      ]
     },
     "execution_count": 15,
     "metadata": {},
     "output_type": "execute_result"
    }
   ],
   "source": [
    "x.get('Name')"
   ]
  },
  {
   "cell_type": "code",
   "execution_count": 13,
   "id": "8d1b177b",
   "metadata": {},
   "outputs": [
    {
     "data": {
      "text/plain": [
       "25"
      ]
     },
     "execution_count": 13,
     "metadata": {},
     "output_type": "execute_result"
    }
   ],
   "source": [
    "x['Age']"
   ]
  },
  {
   "cell_type": "code",
   "execution_count": 16,
   "id": "57091824",
   "metadata": {},
   "outputs": [
    {
     "data": {
      "text/plain": [
       "25"
      ]
     },
     "execution_count": 16,
     "metadata": {},
     "output_type": "execute_result"
    }
   ],
   "source": [
    "x.get('Age')"
   ]
  },
  {
   "cell_type": "code",
   "execution_count": 14,
   "id": "6f49dd1d",
   "metadata": {},
   "outputs": [
    {
     "data": {
      "text/plain": [
       "'Data Science'"
      ]
     },
     "execution_count": 14,
     "metadata": {},
     "output_type": "execute_result"
    }
   ],
   "source": [
    "x['Field']"
   ]
  },
  {
   "cell_type": "code",
   "execution_count": 17,
   "id": "70ce3f4d",
   "metadata": {},
   "outputs": [
    {
     "data": {
      "text/plain": [
       "'Data Science'"
      ]
     },
     "execution_count": 17,
     "metadata": {},
     "output_type": "execute_result"
    }
   ],
   "source": [
    "x.get('Field')"
   ]
  },
  {
   "cell_type": "markdown",
   "id": "791bbc5e",
   "metadata": {},
   "source": [
    "### To get all the keys in the dictionary- keys() method of dictionaries"
   ]
  },
  {
   "cell_type": "code",
   "execution_count": 19,
   "id": "6245c0ca",
   "metadata": {},
   "outputs": [
    {
     "data": {
      "text/plain": [
       "dict_keys(['Name', 'Age', 'Field'])"
      ]
     },
     "execution_count": 19,
     "metadata": {},
     "output_type": "execute_result"
    }
   ],
   "source": [
    "x.keys()"
   ]
  },
  {
   "cell_type": "code",
   "execution_count": 20,
   "id": "e4aba5f0",
   "metadata": {},
   "outputs": [],
   "source": [
    "x['Education'] = 'Masters'"
   ]
  },
  {
   "cell_type": "code",
   "execution_count": 21,
   "id": "3a9bef6b",
   "metadata": {},
   "outputs": [
    {
     "data": {
      "text/plain": [
       "dict_keys(['Name', 'Age', 'Field', 'Education'])"
      ]
     },
     "execution_count": 21,
     "metadata": {},
     "output_type": "execute_result"
    }
   ],
   "source": [
    "x.keys()"
   ]
  },
  {
   "cell_type": "markdown",
   "id": "0c7260da",
   "metadata": {},
   "source": [
    "### To get all the values in the dictionary- values method of dictionaries"
   ]
  },
  {
   "cell_type": "code",
   "execution_count": 22,
   "id": "1cfda353",
   "metadata": {},
   "outputs": [
    {
     "data": {
      "text/plain": [
       "dict_values(['Vibodh', 25, 'Data Science', 'Masters'])"
      ]
     },
     "execution_count": 22,
     "metadata": {},
     "output_type": "execute_result"
    }
   ],
   "source": [
    "x.values()"
   ]
  },
  {
   "cell_type": "code",
   "execution_count": 23,
   "id": "a00deec9",
   "metadata": {},
   "outputs": [],
   "source": [
    "x['Field'] = 'Marketing'"
   ]
  },
  {
   "cell_type": "code",
   "execution_count": 24,
   "id": "b44d7310",
   "metadata": {},
   "outputs": [
    {
     "data": {
      "text/plain": [
       "dict_values(['Vibodh', 25, 'Marketing', 'Masters'])"
      ]
     },
     "execution_count": 24,
     "metadata": {},
     "output_type": "execute_result"
    }
   ],
   "source": [
    "x.values()"
   ]
  },
  {
   "cell_type": "markdown",
   "id": "ad94d5fa",
   "metadata": {},
   "source": [
    "### To get a list of all key-value pairs in the dictionary- items() method of dictionaries"
   ]
  },
  {
   "cell_type": "code",
   "execution_count": 25,
   "id": "5a424c51",
   "metadata": {},
   "outputs": [
    {
     "data": {
      "text/plain": [
       "dict_items([('Name', 'Vibodh'), ('Age', 25), ('Field', 'Marketing'), ('Education', 'Masters')])"
      ]
     },
     "execution_count": 25,
     "metadata": {},
     "output_type": "execute_result"
    }
   ],
   "source": [
    "x.items()"
   ]
  },
  {
   "cell_type": "code",
   "execution_count": 27,
   "id": "2104caf1",
   "metadata": {},
   "outputs": [],
   "source": [
    "x['Age'] = 26"
   ]
  },
  {
   "cell_type": "code",
   "execution_count": 28,
   "id": "29acb743",
   "metadata": {},
   "outputs": [
    {
     "data": {
      "text/plain": [
       "dict_items([('Name', 'Vibodh'), ('Age', 26), ('Field', 'Marketing'), ('Education', 'Masters')])"
      ]
     },
     "execution_count": 28,
     "metadata": {},
     "output_type": "execute_result"
    }
   ],
   "source": [
    "x.items()"
   ]
  },
  {
   "cell_type": "markdown",
   "id": "12e11c53",
   "metadata": {},
   "source": [
    "### To check if a specified key is present in the dictionary or not- 'in' keyword"
   ]
  },
  {
   "cell_type": "code",
   "execution_count": 32,
   "id": "7f6de7fd",
   "metadata": {},
   "outputs": [
    {
     "name": "stdout",
     "output_type": "stream",
     "text": [
      "The age key exists\n"
     ]
    }
   ],
   "source": [
    "if 'Age' in x:\n",
    "    print('The age key exists')\n",
    "else:\n",
    "    print(\"The age key doesn't exist\")"
   ]
  },
  {
   "cell_type": "markdown",
   "id": "9ec78977",
   "metadata": {},
   "source": [
    "### Duplicates are not allowed in Dictionaries"
   ]
  },
  {
   "cell_type": "code",
   "execution_count": 4,
   "id": "d221ba2d",
   "metadata": {},
   "outputs": [],
   "source": [
    "x = {'Name':'Vibodh', 'Age': 25, 'Age': 23, 'Field':'Data Science'}"
   ]
  },
  {
   "cell_type": "code",
   "execution_count": 5,
   "id": "9b1c35e9",
   "metadata": {},
   "outputs": [
    {
     "data": {
      "text/plain": [
       "{'Name': 'Vibodh', 'Age': 23, 'Field': 'Data Science'}"
      ]
     },
     "execution_count": 5,
     "metadata": {},
     "output_type": "execute_result"
    }
   ],
   "source": [
    "x"
   ]
  },
  {
   "cell_type": "markdown",
   "id": "44ddb686",
   "metadata": {},
   "source": [
    "### To change values in Dictionaries"
   ]
  },
  {
   "cell_type": "markdown",
   "id": "2d04a6dc",
   "metadata": {},
   "source": [
    "#### By assigning "
   ]
  },
  {
   "cell_type": "code",
   "execution_count": 6,
   "id": "7e0ee49e",
   "metadata": {},
   "outputs": [],
   "source": [
    "x['Age'] = 25"
   ]
  },
  {
   "cell_type": "code",
   "execution_count": 7,
   "id": "944be808",
   "metadata": {},
   "outputs": [
    {
     "data": {
      "text/plain": [
       "{'Name': 'Vibodh', 'Age': 25, 'Field': 'Data Science'}"
      ]
     },
     "execution_count": 7,
     "metadata": {},
     "output_type": "execute_result"
    }
   ],
   "source": [
    "x"
   ]
  },
  {
   "cell_type": "markdown",
   "id": "23b5e963",
   "metadata": {},
   "source": [
    "#### By using update() method of Dictionaries "
   ]
  },
  {
   "cell_type": "code",
   "execution_count": 9,
   "id": "309f8b8e",
   "metadata": {},
   "outputs": [
    {
     "data": {
      "text/plain": [
       "{'Name': 'Vibodh', 'Age': 25, 'Field': 'Data Science'}"
      ]
     },
     "execution_count": 9,
     "metadata": {},
     "output_type": "execute_result"
    }
   ],
   "source": [
    "x"
   ]
  },
  {
   "cell_type": "code",
   "execution_count": 10,
   "id": "27432027",
   "metadata": {},
   "outputs": [],
   "source": [
    "x.update({'Field':'Marketing'})"
   ]
  },
  {
   "cell_type": "code",
   "execution_count": 11,
   "id": "fa3b81fa",
   "metadata": {},
   "outputs": [
    {
     "data": {
      "text/plain": [
       "{'Name': 'Vibodh', 'Age': 25, 'Field': 'Marketing'}"
      ]
     },
     "execution_count": 11,
     "metadata": {},
     "output_type": "execute_result"
    }
   ],
   "source": [
    "x"
   ]
  },
  {
   "cell_type": "markdown",
   "id": "8921c799",
   "metadata": {},
   "source": [
    "### Adding elements in Dictionaries"
   ]
  },
  {
   "cell_type": "markdown",
   "id": "8bb37556",
   "metadata": {},
   "source": [
    "#### By assigning "
   ]
  },
  {
   "cell_type": "code",
   "execution_count": 12,
   "id": "3baee829",
   "metadata": {},
   "outputs": [
    {
     "data": {
      "text/plain": [
       "{'Name': 'Vibodh', 'Age': 25, 'Field': 'Marketing'}"
      ]
     },
     "execution_count": 12,
     "metadata": {},
     "output_type": "execute_result"
    }
   ],
   "source": [
    "x"
   ]
  },
  {
   "cell_type": "code",
   "execution_count": 13,
   "id": "b245f6f0",
   "metadata": {},
   "outputs": [],
   "source": [
    "x['Education'] = 'Masters'"
   ]
  },
  {
   "cell_type": "code",
   "execution_count": 14,
   "id": "fba7fa0e",
   "metadata": {},
   "outputs": [
    {
     "data": {
      "text/plain": [
       "{'Name': 'Vibodh', 'Age': 25, 'Field': 'Marketing', 'Education': 'Masters'}"
      ]
     },
     "execution_count": 14,
     "metadata": {},
     "output_type": "execute_result"
    }
   ],
   "source": [
    "x"
   ]
  },
  {
   "cell_type": "markdown",
   "id": "1580f86d",
   "metadata": {},
   "source": [
    "#### By using update() method of Dictionaries"
   ]
  },
  {
   "cell_type": "code",
   "execution_count": 15,
   "id": "e262fb59",
   "metadata": {},
   "outputs": [],
   "source": [
    "x.update({'City':'Thane'})"
   ]
  },
  {
   "cell_type": "code",
   "execution_count": 16,
   "id": "d6ab43d1",
   "metadata": {},
   "outputs": [
    {
     "data": {
      "text/plain": [
       "{'Name': 'Vibodh',\n",
       " 'Age': 25,\n",
       " 'Field': 'Marketing',\n",
       " 'Education': 'Masters',\n",
       " 'City': 'Thane'}"
      ]
     },
     "execution_count": 16,
     "metadata": {},
     "output_type": "execute_result"
    }
   ],
   "source": [
    "x"
   ]
  },
  {
   "cell_type": "markdown",
   "id": "349ca6cc",
   "metadata": {},
   "source": [
    "### To remove elements- pop() method of Dictionaries"
   ]
  },
  {
   "cell_type": "code",
   "execution_count": 20,
   "id": "fcb386ab",
   "metadata": {},
   "outputs": [
    {
     "data": {
      "text/plain": [
       "{'Name': 'Vibodh',\n",
       " 'Age': 25,\n",
       " 'Field': 'Marketing',\n",
       " 'Education': 'Masters',\n",
       " 'City': 'Thane'}"
      ]
     },
     "execution_count": 20,
     "metadata": {},
     "output_type": "execute_result"
    }
   ],
   "source": [
    "x"
   ]
  },
  {
   "cell_type": "code",
   "execution_count": 21,
   "id": "357c9c20",
   "metadata": {},
   "outputs": [
    {
     "data": {
      "text/plain": [
       "'Marketing'"
      ]
     },
     "execution_count": 21,
     "metadata": {},
     "output_type": "execute_result"
    }
   ],
   "source": [
    "x.pop('Field')"
   ]
  },
  {
   "cell_type": "code",
   "execution_count": 22,
   "id": "f3b8dedc",
   "metadata": {},
   "outputs": [
    {
     "data": {
      "text/plain": [
       "{'Name': 'Vibodh', 'Age': 25, 'Education': 'Masters', 'City': 'Thane'}"
      ]
     },
     "execution_count": 22,
     "metadata": {},
     "output_type": "execute_result"
    }
   ],
   "source": [
    "x"
   ]
  },
  {
   "cell_type": "markdown",
   "id": "3eb46019",
   "metadata": {},
   "source": [
    "### Using loops on Dictionaries"
   ]
  },
  {
   "cell_type": "markdown",
   "id": "085ec086",
   "metadata": {},
   "source": [
    "#### To print all the key names in the dictionary using 'for loop' "
   ]
  },
  {
   "cell_type": "code",
   "execution_count": 24,
   "id": "f165a8d3",
   "metadata": {},
   "outputs": [
    {
     "name": "stdout",
     "output_type": "stream",
     "text": [
      "Name\n",
      "Age\n",
      "Education\n",
      "City\n"
     ]
    }
   ],
   "source": [
    "for i in x:\n",
    "    print(i)"
   ]
  },
  {
   "cell_type": "markdown",
   "id": "68dda2c9",
   "metadata": {},
   "source": [
    "using keys() method of dictionaries"
   ]
  },
  {
   "cell_type": "code",
   "execution_count": 27,
   "id": "b90f20d5",
   "metadata": {},
   "outputs": [
    {
     "name": "stdout",
     "output_type": "stream",
     "text": [
      "Name\n",
      "Age\n",
      "Education\n",
      "City\n"
     ]
    }
   ],
   "source": [
    "for i in x.keys():\n",
    "    print(i)"
   ]
  },
  {
   "cell_type": "markdown",
   "id": "bc94dc34",
   "metadata": {},
   "source": [
    "#### To print all the values in the dictionary using 'for loop' "
   ]
  },
  {
   "cell_type": "code",
   "execution_count": 25,
   "id": "6f2fceeb",
   "metadata": {},
   "outputs": [
    {
     "name": "stdout",
     "output_type": "stream",
     "text": [
      "Vibodh\n",
      "25\n",
      "Masters\n",
      "Thane\n"
     ]
    }
   ],
   "source": [
    "for i in x:\n",
    "    print(x[i])"
   ]
  },
  {
   "cell_type": "markdown",
   "id": "a81ad3f7",
   "metadata": {},
   "source": [
    "using values() method of Dictionaries"
   ]
  },
  {
   "cell_type": "code",
   "execution_count": 26,
   "id": "b565ee8f",
   "metadata": {},
   "outputs": [
    {
     "name": "stdout",
     "output_type": "stream",
     "text": [
      "Vibodh\n",
      "25\n",
      "Masters\n",
      "Thane\n"
     ]
    }
   ],
   "source": [
    "for i in x.values():\n",
    "    print(i)"
   ]
  },
  {
   "cell_type": "markdown",
   "id": "73233fb1",
   "metadata": {},
   "source": [
    "#### To print all key:value pairs using for loop and items() method of Dictionaries "
   ]
  },
  {
   "cell_type": "code",
   "execution_count": 28,
   "id": "2b307335",
   "metadata": {},
   "outputs": [
    {
     "name": "stdout",
     "output_type": "stream",
     "text": [
      "Name Vibodh\n",
      "Age 25\n",
      "Education Masters\n",
      "City Thane\n"
     ]
    }
   ],
   "source": [
    "for i,j in x.items():\n",
    "    print(i,j)"
   ]
  },
  {
   "cell_type": "markdown",
   "id": "6af69f9c",
   "metadata": {},
   "source": [
    "### len(x) function- length of a dictionary"
   ]
  },
  {
   "cell_type": "code",
   "execution_count": 18,
   "id": "193844a2",
   "metadata": {},
   "outputs": [
    {
     "data": {
      "text/plain": [
       "4"
      ]
     },
     "execution_count": 18,
     "metadata": {},
     "output_type": "execute_result"
    }
   ],
   "source": [
    "len(x)"
   ]
  },
  {
   "cell_type": "markdown",
   "id": "d209401b",
   "metadata": {},
   "source": [
    "## Set types(Arrays)"
   ]
  },
  {
   "cell_type": "markdown",
   "id": "86e26d8b",
   "metadata": {},
   "source": [
    "### Sets"
   ]
  },
  {
   "cell_type": "code",
   "execution_count": 53,
   "id": "928ac2e8",
   "metadata": {},
   "outputs": [
    {
     "name": "stdout",
     "output_type": "stream",
     "text": [
      "{'eraser', 'ball pen', 'click pencil'}\n"
     ]
    },
    {
     "data": {
      "text/plain": [
       "set"
      ]
     },
     "execution_count": 53,
     "metadata": {},
     "output_type": "execute_result"
    }
   ],
   "source": [
    "x = {'Gel pen','click pencil','eraser'}\n",
    "print(x)\n",
    "type(x)"
   ]
  },
  {
   "cell_type": "markdown",
   "id": "768be559",
   "metadata": {},
   "source": [
    "A set is an array(collection of data) which is unordered and unindexed"
   ]
  },
  {
   "cell_type": "markdown",
   "id": "aa381752",
   "metadata": {},
   "source": [
    "Unlike lists and tuples, sets don't allow duplicate values"
   ]
  },
  {
   "cell_type": "markdown",
   "id": "95bec217",
   "metadata": {},
   "source": [
    "Set items are unchangeable, meaning that we cannot change the items after the set has been created."
   ]
  },
  {
   "cell_type": "markdown",
   "id": "2afb752e",
   "metadata": {},
   "source": [
    "Once a set is created, you cannot change its items, but you can remove items and add new items."
   ]
  },
  {
   "cell_type": "markdown",
   "id": "190ade0b",
   "metadata": {},
   "source": [
    "#### Length of a set"
   ]
  },
  {
   "cell_type": "code",
   "execution_count": 5,
   "id": "0a1dd9f4",
   "metadata": {},
   "outputs": [
    {
     "data": {
      "text/plain": [
       "3"
      ]
     },
     "execution_count": 5,
     "metadata": {},
     "output_type": "execute_result"
    }
   ],
   "source": [
    "len(x)"
   ]
  },
  {
   "cell_type": "markdown",
   "id": "7c64ea25",
   "metadata": {},
   "source": [
    "#### The set() constructor"
   ]
  },
  {
   "cell_type": "code",
   "execution_count": 7,
   "id": "c9fe4eca",
   "metadata": {},
   "outputs": [],
   "source": [
    "x = set((\"Gel pen\", \"Click pencil\", \"Eraser\"))"
   ]
  },
  {
   "cell_type": "code",
   "execution_count": 8,
   "id": "1104e477",
   "metadata": {},
   "outputs": [
    {
     "data": {
      "text/plain": [
       "{'Ball pen', 'Click pencil', 'Eraser'}"
      ]
     },
     "execution_count": 8,
     "metadata": {},
     "output_type": "execute_result"
    }
   ],
   "source": [
    "x"
   ]
  },
  {
   "cell_type": "code",
   "execution_count": 9,
   "id": "bbd7a203",
   "metadata": {},
   "outputs": [
    {
     "data": {
      "text/plain": [
       "set"
      ]
     },
     "execution_count": 9,
     "metadata": {},
     "output_type": "execute_result"
    }
   ],
   "source": [
    "type(x)"
   ]
  },
  {
   "cell_type": "markdown",
   "id": "5bfa3823",
   "metadata": {},
   "source": [
    "#### Checking whether an element is present in a set"
   ]
  },
  {
   "cell_type": "code",
   "execution_count": 11,
   "id": "2df28613",
   "metadata": {},
   "outputs": [
    {
     "name": "stdout",
     "output_type": "stream",
     "text": [
      "True\n"
     ]
    }
   ],
   "source": [
    "print('Gel pen' in x)"
   ]
  },
  {
   "cell_type": "code",
   "execution_count": 12,
   "id": "195c18e0",
   "metadata": {},
   "outputs": [
    {
     "data": {
      "text/plain": [
       "True"
      ]
     },
     "execution_count": 12,
     "metadata": {},
     "output_type": "execute_result"
    }
   ],
   "source": [
    "'Gel pen' in x"
   ]
  },
  {
   "cell_type": "code",
   "execution_count": 13,
   "id": "7ac9496a",
   "metadata": {},
   "outputs": [
    {
     "data": {
      "text/plain": [
       "False"
      ]
     },
     "execution_count": 13,
     "metadata": {},
     "output_type": "execute_result"
    }
   ],
   "source": [
    "'Gel pen' in x"
   ]
  },
  {
   "cell_type": "markdown",
   "id": "36b5521b",
   "metadata": {},
   "source": [
    "#### Set method 'Add'"
   ]
  },
  {
   "cell_type": "code",
   "execution_count": 15,
   "id": "d5d5e78a",
   "metadata": {},
   "outputs": [
    {
     "data": {
      "text/plain": [
       "{'Ball pen', 'Click pencil', 'Eraser'}"
      ]
     },
     "execution_count": 15,
     "metadata": {},
     "output_type": "execute_result"
    }
   ],
   "source": [
    "x"
   ]
  },
  {
   "cell_type": "markdown",
   "id": "a64e72f6",
   "metadata": {},
   "source": [
    "Adding elements individually"
   ]
  },
  {
   "cell_type": "code",
   "execution_count": 16,
   "id": "1eb9c668",
   "metadata": {},
   "outputs": [],
   "source": [
    "x.add('Gel pen')"
   ]
  },
  {
   "cell_type": "code",
   "execution_count": 17,
   "id": "00a25dc3",
   "metadata": {},
   "outputs": [
    {
     "data": {
      "text/plain": [
       "{'Ball pen', 'Click pencil', 'Eraser', 'Gel pen'}"
      ]
     },
     "execution_count": 17,
     "metadata": {},
     "output_type": "execute_result"
    }
   ],
   "source": [
    "x"
   ]
  },
  {
   "cell_type": "markdown",
   "id": "aa0eca2f",
   "metadata": {},
   "source": [
    "#### Set method 'update'"
   ]
  },
  {
   "cell_type": "markdown",
   "id": "1ceb46ef",
   "metadata": {},
   "source": [
    "Adding elements from another array/iterable/iterator"
   ]
  },
  {
   "cell_type": "code",
   "execution_count": 18,
   "id": "6490eabe",
   "metadata": {},
   "outputs": [],
   "source": [
    "y = ['Writing pad','paper','Exercise book']"
   ]
  },
  {
   "cell_type": "code",
   "execution_count": 19,
   "id": "d9b88a96",
   "metadata": {},
   "outputs": [
    {
     "data": {
      "text/plain": [
       "{'Ball pen', 'Click pencil', 'Eraser', 'Gel pen'}"
      ]
     },
     "execution_count": 19,
     "metadata": {},
     "output_type": "execute_result"
    }
   ],
   "source": [
    "x"
   ]
  },
  {
   "cell_type": "code",
   "execution_count": 20,
   "id": "3f8db906",
   "metadata": {},
   "outputs": [
    {
     "name": "stdout",
     "output_type": "stream",
     "text": [
      "{'Ball pen', 'Gel pen', 'Click pencil', 'paper', 'Exercise book', 'Eraser', 'Writing pad'}\n"
     ]
    }
   ],
   "source": [
    "x.update(y)\n",
    "print(x)"
   ]
  },
  {
   "cell_type": "markdown",
   "id": "85d3471f",
   "metadata": {},
   "source": [
    "#### Set method 'remove'"
   ]
  },
  {
   "cell_type": "code",
   "execution_count": 56,
   "id": "69d9e0f3",
   "metadata": {},
   "outputs": [
    {
     "data": {
      "text/plain": [
       "{'ball pen', 'click pencil', 'eraser'}"
      ]
     },
     "execution_count": 56,
     "metadata": {},
     "output_type": "execute_result"
    }
   ],
   "source": [
    "x"
   ]
  },
  {
   "cell_type": "code",
   "execution_count": 57,
   "id": "c6fa6de6",
   "metadata": {},
   "outputs": [
    {
     "name": "stdout",
     "output_type": "stream",
     "text": [
      "{'eraser', 'click pencil'}\n"
     ]
    }
   ],
   "source": [
    "x.remove('Gel pen')\n",
    "print(x)"
   ]
  },
  {
   "cell_type": "markdown",
   "id": "2f77a07a",
   "metadata": {},
   "source": [
    "#### Set method 'discard'"
   ]
  },
  {
   "cell_type": "code",
   "execution_count": 42,
   "id": "df284cf1",
   "metadata": {},
   "outputs": [
    {
     "data": {
      "text/plain": [
       "{'Click pencil', 'Eraser', 'Exercise book', 'Gel pen', 'Writing pad', 'paper'}"
      ]
     },
     "execution_count": 42,
     "metadata": {},
     "output_type": "execute_result"
    }
   ],
   "source": [
    "x"
   ]
  },
  {
   "cell_type": "code",
   "execution_count": 44,
   "id": "6f70b5b2",
   "metadata": {},
   "outputs": [],
   "source": [
    "x.discard('Gel pen')"
   ]
  },
  {
   "cell_type": "code",
   "execution_count": 45,
   "id": "4b95a8c8",
   "metadata": {},
   "outputs": [
    {
     "data": {
      "text/plain": [
       "{'Click pencil', 'Eraser', 'Exercise book', 'Writing pad', 'paper'}"
      ]
     },
     "execution_count": 45,
     "metadata": {},
     "output_type": "execute_result"
    }
   ],
   "source": [
    "x"
   ]
  },
  {
   "cell_type": "markdown",
   "id": "0ce3c3c6",
   "metadata": {},
   "source": [
    "#### Removing an element randomly using pop method of sets"
   ]
  },
  {
   "cell_type": "code",
   "execution_count": 46,
   "id": "b5c15621",
   "metadata": {},
   "outputs": [
    {
     "data": {
      "text/plain": [
       "{'Click pencil', 'Eraser', 'Exercise book', 'Writing pad', 'paper'}"
      ]
     },
     "execution_count": 46,
     "metadata": {},
     "output_type": "execute_result"
    }
   ],
   "source": [
    "x"
   ]
  },
  {
   "cell_type": "code",
   "execution_count": 47,
   "id": "b1d8d067",
   "metadata": {},
   "outputs": [
    {
     "data": {
      "text/plain": [
       "'Exercise book'"
      ]
     },
     "execution_count": 47,
     "metadata": {},
     "output_type": "execute_result"
    }
   ],
   "source": [
    "x.pop()"
   ]
  },
  {
   "cell_type": "markdown",
   "id": "879c4195",
   "metadata": {},
   "source": [
    "Here, the element 'Exercise book' got removed, in a random manner"
   ]
  },
  {
   "cell_type": "code",
   "execution_count": 48,
   "id": "ad9e3a70",
   "metadata": {},
   "outputs": [
    {
     "data": {
      "text/plain": [
       "{'Click pencil', 'Eraser', 'Writing pad', 'paper'}"
      ]
     },
     "execution_count": 48,
     "metadata": {},
     "output_type": "execute_result"
    }
   ],
   "source": [
    "x"
   ]
  },
  {
   "cell_type": "markdown",
   "id": "333128a6",
   "metadata": {},
   "source": [
    "#### Set 'clear' method"
   ]
  },
  {
   "cell_type": "code",
   "execution_count": 49,
   "id": "4edc3a3f",
   "metadata": {},
   "outputs": [
    {
     "data": {
      "text/plain": [
       "{'Click pencil', 'Eraser', 'Writing pad', 'paper'}"
      ]
     },
     "execution_count": 49,
     "metadata": {},
     "output_type": "execute_result"
    }
   ],
   "source": [
    "x"
   ]
  },
  {
   "cell_type": "code",
   "execution_count": 50,
   "id": "d98dc6d0",
   "metadata": {},
   "outputs": [],
   "source": [
    "x.clear()"
   ]
  },
  {
   "cell_type": "code",
   "execution_count": 51,
   "id": "62b23347",
   "metadata": {},
   "outputs": [
    {
     "data": {
      "text/plain": [
       "set()"
      ]
     },
     "execution_count": 51,
     "metadata": {},
     "output_type": "execute_result"
    }
   ],
   "source": [
    "x"
   ]
  },
  {
   "cell_type": "code",
   "execution_count": 52,
   "id": "04ca514b",
   "metadata": {},
   "outputs": [
    {
     "data": {
      "text/plain": [
       "False"
      ]
     },
     "execution_count": 52,
     "metadata": {},
     "output_type": "execute_result"
    }
   ],
   "source": [
    "bool(x)"
   ]
  },
  {
   "cell_type": "markdown",
   "id": "67f2a15c",
   "metadata": {},
   "source": [
    "#### Deleting a set using 'del' keyword"
   ]
  },
  {
   "cell_type": "code",
   "execution_count": 58,
   "id": "49228291",
   "metadata": {},
   "outputs": [
    {
     "data": {
      "text/plain": [
       "{'click pencil', 'eraser'}"
      ]
     },
     "execution_count": 58,
     "metadata": {},
     "output_type": "execute_result"
    }
   ],
   "source": [
    "x"
   ]
  },
  {
   "cell_type": "code",
   "execution_count": 59,
   "id": "43b92a41",
   "metadata": {},
   "outputs": [],
   "source": [
    "del x"
   ]
  },
  {
   "cell_type": "code",
   "execution_count": 60,
   "id": "80cc8b15",
   "metadata": {},
   "outputs": [
    {
     "ename": "NameError",
     "evalue": "name 'x' is not defined",
     "output_type": "error",
     "traceback": [
      "\u001b[1;31m---------------------------------------------------------------------------\u001b[0m",
      "\u001b[1;31mNameError\u001b[0m                                 Traceback (most recent call last)",
      "\u001b[1;32m~\\AppData\\Local\\Temp/ipykernel_15756/32546335.py\u001b[0m in \u001b[0;36m<module>\u001b[1;34m\u001b[0m\n\u001b[1;32m----> 1\u001b[1;33m \u001b[0mx\u001b[0m\u001b[1;33m\u001b[0m\u001b[1;33m\u001b[0m\u001b[0m\n\u001b[0m",
      "\u001b[1;31mNameError\u001b[0m: name 'x' is not defined"
     ]
    }
   ],
   "source": [
    "x"
   ]
  },
  {
   "cell_type": "markdown",
   "id": "f40be518",
   "metadata": {},
   "source": [
    "#### Using loop on sets"
   ]
  },
  {
   "cell_type": "code",
   "execution_count": 71,
   "id": "1c207aed",
   "metadata": {},
   "outputs": [],
   "source": [
    "x = {'Gel pen','Click pencil','Eraser'}"
   ]
  },
  {
   "cell_type": "code",
   "execution_count": 63,
   "id": "a48dcd0d",
   "metadata": {},
   "outputs": [
    {
     "name": "stdout",
     "output_type": "stream",
     "text": [
      "Ball pen\n",
      "Click pencil\n",
      "Eraser\n"
     ]
    }
   ],
   "source": [
    "for i in x:\n",
    "    print(i)"
   ]
  },
  {
   "cell_type": "markdown",
   "id": "5a3c779d",
   "metadata": {},
   "source": [
    "#### Joining sets( the union method)"
   ]
  },
  {
   "cell_type": "code",
   "execution_count": 72,
   "id": "006bd19f",
   "metadata": {},
   "outputs": [
    {
     "data": {
      "text/plain": [
       "{'Ball pen', 'Click pencil', 'Eraser'}"
      ]
     },
     "execution_count": 72,
     "metadata": {},
     "output_type": "execute_result"
    }
   ],
   "source": [
    "x"
   ]
  },
  {
   "cell_type": "code",
   "execution_count": 73,
   "id": "dc832896",
   "metadata": {},
   "outputs": [
    {
     "data": {
      "text/plain": [
       "['Writing pad', 'paper', 'Exercise book']"
      ]
     },
     "execution_count": 73,
     "metadata": {},
     "output_type": "execute_result"
    }
   ],
   "source": [
    "y"
   ]
  },
  {
   "cell_type": "code",
   "execution_count": 66,
   "id": "0999f792",
   "metadata": {},
   "outputs": [],
   "source": [
    "u = x.union(y)"
   ]
  },
  {
   "cell_type": "code",
   "execution_count": 67,
   "id": "0b6da0a8",
   "metadata": {},
   "outputs": [
    {
     "data": {
      "text/plain": [
       "{'Ball pen', 'Click pencil', 'Eraser', 'Exercise book', 'Writing pad', 'paper'}"
      ]
     },
     "execution_count": 67,
     "metadata": {},
     "output_type": "execute_result"
    }
   ],
   "source": [
    "u"
   ]
  },
  {
   "cell_type": "markdown",
   "id": "d95adf71",
   "metadata": {},
   "source": [
    "The update method"
   ]
  },
  {
   "cell_type": "code",
   "execution_count": 68,
   "id": "44b2243e",
   "metadata": {},
   "outputs": [],
   "source": [
    "x.update(y)"
   ]
  },
  {
   "cell_type": "code",
   "execution_count": 69,
   "id": "93929cbc",
   "metadata": {},
   "outputs": [
    {
     "data": {
      "text/plain": [
       "{'Ball pen', 'Click pencil', 'Eraser', 'Exercise book', 'Writing pad', 'paper'}"
      ]
     },
     "execution_count": 69,
     "metadata": {},
     "output_type": "execute_result"
    }
   ],
   "source": [
    "x"
   ]
  },
  {
   "cell_type": "markdown",
   "id": "10a657d4",
   "metadata": {},
   "source": [
    "#### The intersection_update() method of sets"
   ]
  },
  {
   "cell_type": "markdown",
   "id": "59681b5a",
   "metadata": {},
   "source": [
    "This method only prints the common elements between sets."
   ]
  },
  {
   "cell_type": "code",
   "execution_count": 109,
   "id": "16f82b1c",
   "metadata": {},
   "outputs": [],
   "source": [
    "x = {'Gel pen','Click pencil','Eraser'}"
   ]
  },
  {
   "cell_type": "code",
   "execution_count": 110,
   "id": "6c896ac1",
   "metadata": {},
   "outputs": [
    {
     "name": "stdout",
     "output_type": "stream",
     "text": [
      "{'Ball pen', 'Click pencil', 'Eraser', 'Gel pen'}\n"
     ]
    }
   ],
   "source": [
    "x.add('Gel pen')\n",
    "print(x)"
   ]
  },
  {
   "cell_type": "code",
   "execution_count": 111,
   "id": "f2d3da2a",
   "metadata": {},
   "outputs": [
    {
     "data": {
      "text/plain": [
       "{'Exercise book', 'Gel pen', 'Writing pad', 'paper'}"
      ]
     },
     "execution_count": 111,
     "metadata": {},
     "output_type": "execute_result"
    }
   ],
   "source": [
    "y"
   ]
  },
  {
   "cell_type": "code",
   "execution_count": 112,
   "id": "62326c57",
   "metadata": {},
   "outputs": [
    {
     "name": "stdout",
     "output_type": "stream",
     "text": [
      "{'Exercise book', 'paper', 'Writing pad', 'Gel pen'}\n"
     ]
    }
   ],
   "source": [
    "y.add('Gel pen')\n",
    "print(y)"
   ]
  },
  {
   "cell_type": "code",
   "execution_count": 88,
   "id": "55172c6f",
   "metadata": {},
   "outputs": [
    {
     "name": "stdout",
     "output_type": "stream",
     "text": [
      "{'Gel pen'}\n"
     ]
    }
   ],
   "source": [
    "x.intersection_update(y)\n",
    "print(x)"
   ]
  },
  {
   "cell_type": "markdown",
   "id": "6c511d60",
   "metadata": {},
   "source": [
    "#### The symmetric_difference_update() method of sets"
   ]
  },
  {
   "cell_type": "markdown",
   "id": "800676ce",
   "metadata": {},
   "source": [
    "This element only prints the elements that are NOT common between sets"
   ]
  },
  {
   "cell_type": "code",
   "execution_count": 103,
   "id": "ab998d6d",
   "metadata": {},
   "outputs": [
    {
     "data": {
      "text/plain": [
       "{'Ball pen', 'Click pencil', 'Eraser', 'Gel pen'}"
      ]
     },
     "execution_count": 103,
     "metadata": {},
     "output_type": "execute_result"
    }
   ],
   "source": [
    "x"
   ]
  },
  {
   "cell_type": "code",
   "execution_count": 104,
   "id": "76a61536",
   "metadata": {},
   "outputs": [
    {
     "data": {
      "text/plain": [
       "{'Exercise book', 'Gel pen', 'Writing pad', 'paper'}"
      ]
     },
     "execution_count": 104,
     "metadata": {},
     "output_type": "execute_result"
    }
   ],
   "source": [
    "y"
   ]
  },
  {
   "cell_type": "code",
   "execution_count": 105,
   "id": "40c323c5",
   "metadata": {},
   "outputs": [
    {
     "name": "stdout",
     "output_type": "stream",
     "text": [
      "{'Ball pen', 'Click pencil', 'paper', 'Exercise book', 'Eraser', 'Writing pad'}\n"
     ]
    }
   ],
   "source": [
    "z = x.symmetric_difference_update(y)\n",
    "print(x)"
   ]
  },
  {
   "cell_type": "markdown",
   "id": "c0c346d6",
   "metadata": {},
   "source": [
    "#### The symmetric_difference method of sets"
   ]
  },
  {
   "cell_type": "markdown",
   "id": "695eb27c",
   "metadata": {},
   "source": [
    "in this method, a new set contains all the elements of the 2 sets except the common elements"
   ]
  },
  {
   "cell_type": "code",
   "execution_count": 113,
   "id": "9af2784c",
   "metadata": {},
   "outputs": [
    {
     "data": {
      "text/plain": [
       "{'Ball pen', 'Click pencil', 'Eraser', 'Gel pen'}"
      ]
     },
     "execution_count": 113,
     "metadata": {},
     "output_type": "execute_result"
    }
   ],
   "source": [
    "x"
   ]
  },
  {
   "cell_type": "code",
   "execution_count": 114,
   "id": "94cfe947",
   "metadata": {},
   "outputs": [
    {
     "data": {
      "text/plain": [
       "{'Exercise book', 'Gel pen', 'Writing pad', 'paper'}"
      ]
     },
     "execution_count": 114,
     "metadata": {},
     "output_type": "execute_result"
    }
   ],
   "source": [
    "y"
   ]
  },
  {
   "cell_type": "code",
   "execution_count": 115,
   "id": "981a264f",
   "metadata": {},
   "outputs": [
    {
     "name": "stdout",
     "output_type": "stream",
     "text": [
      "{'Ball pen', 'Click pencil', 'paper', 'Exercise book', 'Eraser', 'Writing pad'}\n"
     ]
    }
   ],
   "source": [
    "z = x.symmetric_difference(y)\n",
    "print(z)"
   ]
  },
  {
   "cell_type": "markdown",
   "id": "602f6b9f",
   "metadata": {},
   "source": [
    "#### issubset method of sets"
   ]
  },
  {
   "cell_type": "code",
   "execution_count": 116,
   "id": "084392b1",
   "metadata": {},
   "outputs": [
    {
     "name": "stdout",
     "output_type": "stream",
     "text": [
      "False\n"
     ]
    }
   ],
   "source": [
    "z = x.issubset(y)\n",
    "print(z)"
   ]
  },
  {
   "cell_type": "markdown",
   "id": "577711f2",
   "metadata": {},
   "source": [
    "Difference between Remove method and Discard method"
   ]
  },
  {
   "cell_type": "markdown",
   "id": "328c7e66",
   "metadata": {},
   "source": [
    "If the element to remove does not exist, remove() will raise an error."
   ]
  },
  {
   "cell_type": "markdown",
   "id": "7c801eb0",
   "metadata": {},
   "source": [
    "But, discard() will NOT raise an error"
   ]
  },
  {
   "cell_type": "code",
   "execution_count": 45,
   "id": "dd4906de",
   "metadata": {},
   "outputs": [
    {
     "name": "stdout",
     "output_type": "stream",
     "text": [
      "frozenset({'eraser', 'ball pen', 'click pencil'})\n"
     ]
    },
    {
     "data": {
      "text/plain": [
       "frozenset"
      ]
     },
     "execution_count": 45,
     "metadata": {},
     "output_type": "execute_result"
    }
   ],
   "source": [
    "x = frozenset({'Gel pen','click pencil', 'eraser'})\n",
    "print(x)\n",
    "type(x)"
   ]
  },
  {
   "cell_type": "code",
   "execution_count": 46,
   "id": "77bdd2a4",
   "metadata": {},
   "outputs": [],
   "source": [
    "#Boolean type"
   ]
  },
  {
   "cell_type": "code",
   "execution_count": 4,
   "id": "8d70ac74",
   "metadata": {},
   "outputs": [
    {
     "name": "stdout",
     "output_type": "stream",
     "text": [
      "True\n"
     ]
    },
    {
     "data": {
      "text/plain": [
       "bool"
      ]
     },
     "execution_count": 4,
     "metadata": {},
     "output_type": "execute_result"
    }
   ],
   "source": [
    "x = True\n",
    "print(x)\n",
    "type(x)"
   ]
  },
  {
   "cell_type": "code",
   "execution_count": 5,
   "id": "4bf839ce",
   "metadata": {},
   "outputs": [
    {
     "name": "stdout",
     "output_type": "stream",
     "text": [
      "False\n"
     ]
    },
    {
     "data": {
      "text/plain": [
       "bool"
      ]
     },
     "execution_count": 5,
     "metadata": {},
     "output_type": "execute_result"
    }
   ],
   "source": [
    "x = False\n",
    "print(x)\n",
    "type(x)"
   ]
  },
  {
   "cell_type": "markdown",
   "id": "1c4ccbaa",
   "metadata": {},
   "source": [
    "## Binary types"
   ]
  },
  {
   "cell_type": "code",
   "execution_count": 50,
   "id": "2902e09c",
   "metadata": {},
   "outputs": [
    {
     "name": "stdout",
     "output_type": "stream",
     "text": [
      "b'Hello'\n"
     ]
    },
    {
     "data": {
      "text/plain": [
       "bytes"
      ]
     },
     "execution_count": 50,
     "metadata": {},
     "output_type": "execute_result"
    }
   ],
   "source": [
    "x = b'Hello'\n",
    "print(x)\n",
    "type(x)"
   ]
  },
  {
   "cell_type": "code",
   "execution_count": 53,
   "id": "fdf5cfd4",
   "metadata": {},
   "outputs": [
    {
     "name": "stdout",
     "output_type": "stream",
     "text": [
      "bytearray(b'\\x00\\x00\\x00\\x00\\x00\\x00\\x00')\n"
     ]
    },
    {
     "data": {
      "text/plain": [
       "bytearray"
      ]
     },
     "execution_count": 53,
     "metadata": {},
     "output_type": "execute_result"
    }
   ],
   "source": [
    "x = bytearray(7)\n",
    "print(x)\n",
    "type(x)"
   ]
  },
  {
   "cell_type": "code",
   "execution_count": 57,
   "id": "22838602",
   "metadata": {},
   "outputs": [
    {
     "name": "stdout",
     "output_type": "stream",
     "text": [
      "<memory at 0x00000239BD0624C0>\n"
     ]
    },
    {
     "data": {
      "text/plain": [
       "memoryview"
      ]
     },
     "execution_count": 57,
     "metadata": {},
     "output_type": "execute_result"
    }
   ],
   "source": [
    "x = memoryview(bytes(7))\n",
    "print(x)\n",
    "type(x)"
   ]
  },
  {
   "cell_type": "code",
   "execution_count": 58,
   "id": "4b122f5a",
   "metadata": {},
   "outputs": [
    {
     "name": "stdout",
     "output_type": "stream",
     "text": [
      "None\n"
     ]
    },
    {
     "data": {
      "text/plain": [
       "NoneType"
      ]
     },
     "execution_count": 58,
     "metadata": {},
     "output_type": "execute_result"
    }
   ],
   "source": [
    "x = None\n",
    "print(x)\n",
    "type(x)"
   ]
  },
  {
   "cell_type": "markdown",
   "id": "05633d52",
   "metadata": {},
   "source": [
    "# 28/10/2022 "
   ]
  },
  {
   "cell_type": "markdown",
   "id": "a4d0548d",
   "metadata": {},
   "source": [
    "Multiline strings"
   ]
  },
  {
   "cell_type": "code",
   "execution_count": 10,
   "id": "7657f90d",
   "metadata": {},
   "outputs": [
    {
     "name": "stdout",
     "output_type": "stream",
     "text": [
      "\n",
      "       \n",
      "       Where the mind is without fear and the head is held high,\n",
      "       where the clear stream of reason hasn't lost it's way,\n",
      "       into the dreary desert sand of dead habit,\n",
      "       where words come out from the depths of truth,\n",
      "       ...\n",
      "       into that heaven of freedom, my father, let my country awake!\n",
      "       -Rabindranath Tagore\n",
      "       \n",
      "       \n"
     ]
    }
   ],
   "source": [
    "text = \"\"\"\n",
    "       \n",
    "       Where the mind is without fear and the head is held high,\n",
    "       where the clear stream of reason hasn't lost it's way,\n",
    "       into the dreary desert sand of dead habit,\n",
    "       where words come out from the depths of truth,\n",
    "       ...\n",
    "       into that heaven of freedom, my father, let my country awake!\n",
    "       -Rabindranath Tagore\n",
    "       \n",
    "       \"\"\"\n",
    "\n",
    "print(text)"
   ]
  },
  {
   "cell_type": "code",
   "execution_count": 11,
   "id": "e2073075",
   "metadata": {},
   "outputs": [],
   "source": [
    "text = 'Hello World!'"
   ]
  },
  {
   "cell_type": "code",
   "execution_count": 17,
   "id": "8aa23d35",
   "metadata": {},
   "outputs": [
    {
     "name": "stdout",
     "output_type": "stream",
     "text": [
      "H\n"
     ]
    }
   ],
   "source": [
    "print(text[0])"
   ]
  },
  {
   "cell_type": "code",
   "execution_count": 18,
   "id": "a5017ea5",
   "metadata": {},
   "outputs": [
    {
     "name": "stdout",
     "output_type": "stream",
     "text": [
      "e\n"
     ]
    }
   ],
   "source": [
    "print(text[1])"
   ]
  },
  {
   "cell_type": "code",
   "execution_count": 19,
   "id": "b8e935b0",
   "metadata": {},
   "outputs": [
    {
     "name": "stdout",
     "output_type": "stream",
     "text": [
      "l\n"
     ]
    }
   ],
   "source": [
    "print(text[2])"
   ]
  },
  {
   "cell_type": "markdown",
   "id": "b1d0b5c3",
   "metadata": {},
   "source": [
    "Strings in python are 'arrays/ordered collections of bytes' representing 'unicode' characters."
   ]
  },
  {
   "cell_type": "code",
   "execution_count": 21,
   "id": "a6657359",
   "metadata": {},
   "outputs": [
    {
     "name": "stdout",
     "output_type": "stream",
     "text": [
      "H\n",
      "e\n",
      "l\n",
      "l\n",
      "o\n",
      " \n",
      "W\n",
      "o\n",
      "r\n",
      "l\n",
      "d\n",
      "!\n"
     ]
    }
   ],
   "source": [
    "for x in text:\n",
    "    print(x)"
   ]
  },
  {
   "cell_type": "markdown",
   "id": "84053463",
   "metadata": {},
   "source": [
    "# 1/11/2022"
   ]
  },
  {
   "cell_type": "code",
   "execution_count": 12,
   "id": "269fb325",
   "metadata": {},
   "outputs": [
    {
     "data": {
      "text/plain": [
       "12"
      ]
     },
     "execution_count": 12,
     "metadata": {},
     "output_type": "execute_result"
    }
   ],
   "source": [
    "len(text)"
   ]
  },
  {
   "cell_type": "markdown",
   "id": "8028f256",
   "metadata": {},
   "source": [
    "## Checking words in text"
   ]
  },
  {
   "cell_type": "code",
   "execution_count": 19,
   "id": "1d363073",
   "metadata": {},
   "outputs": [],
   "source": [
    "text = 'In the depths of winter, I found in myself an invincible summer -Albert Camus'"
   ]
  },
  {
   "cell_type": "code",
   "execution_count": 20,
   "id": "ae1aecd4",
   "metadata": {},
   "outputs": [
    {
     "data": {
      "text/plain": [
       "True"
      ]
     },
     "execution_count": 20,
     "metadata": {},
     "output_type": "execute_result"
    }
   ],
   "source": [
    "'summer' in text"
   ]
  },
  {
   "cell_type": "code",
   "execution_count": 21,
   "id": "d0a6496f",
   "metadata": {},
   "outputs": [
    {
     "data": {
      "text/plain": [
       "False"
      ]
     },
     "execution_count": 21,
     "metadata": {},
     "output_type": "execute_result"
    }
   ],
   "source": [
    "'pessimism' in text"
   ]
  },
  {
   "cell_type": "code",
   "execution_count": 22,
   "id": "a4a57f9a",
   "metadata": {},
   "outputs": [
    {
     "data": {
      "text/plain": [
       "True"
      ]
     },
     "execution_count": 22,
     "metadata": {},
     "output_type": "execute_result"
    }
   ],
   "source": [
    "'pessimism' not in text"
   ]
  },
  {
   "cell_type": "code",
   "execution_count": 27,
   "id": "f50c0297",
   "metadata": {},
   "outputs": [
    {
     "name": "stdout",
     "output_type": "stream",
     "text": [
      "He was quite the philosopher\n"
     ]
    }
   ],
   "source": [
    "if 'Albert Camus' in text:\n",
    "    print('He was quite the philosopher')"
   ]
  },
  {
   "cell_type": "code",
   "execution_count": 26,
   "id": "58b79446",
   "metadata": {},
   "outputs": [
    {
     "name": "stdout",
     "output_type": "stream",
     "text": [
      "The quote is optimistic\n"
     ]
    }
   ],
   "source": [
    "if 'summer' in text:\n",
    "    print('The quote is optimistic')"
   ]
  },
  {
   "cell_type": "code",
   "execution_count": 25,
   "id": "454b606c",
   "metadata": {},
   "outputs": [
    {
     "name": "stdout",
     "output_type": "stream",
     "text": [
      "The quote is optimistic\n"
     ]
    }
   ],
   "source": [
    "if 'pessimism' not in text:\n",
    "    print('The quote is optimistic')"
   ]
  },
  {
   "cell_type": "markdown",
   "id": "860cbdef",
   "metadata": {},
   "source": [
    "## Booleans"
   ]
  },
  {
   "cell_type": "code",
   "execution_count": 31,
   "id": "b57a9e61",
   "metadata": {},
   "outputs": [
    {
     "data": {
      "text/plain": [
       "True"
      ]
     },
     "execution_count": 31,
     "metadata": {},
     "output_type": "execute_result"
    }
   ],
   "source": [
    "5>4"
   ]
  },
  {
   "cell_type": "code",
   "execution_count": 32,
   "id": "97d8f9f8",
   "metadata": {},
   "outputs": [
    {
     "data": {
      "text/plain": [
       "False"
      ]
     },
     "execution_count": 32,
     "metadata": {},
     "output_type": "execute_result"
    }
   ],
   "source": [
    "5==4"
   ]
  },
  {
   "cell_type": "code",
   "execution_count": 33,
   "id": "819aa973",
   "metadata": {},
   "outputs": [
    {
     "data": {
      "text/plain": [
       "False"
      ]
     },
     "execution_count": 33,
     "metadata": {},
     "output_type": "execute_result"
    }
   ],
   "source": [
    "5<4"
   ]
  },
  {
   "cell_type": "code",
   "execution_count": 17,
   "id": "3773e096",
   "metadata": {},
   "outputs": [
    {
     "name": "stdout",
     "output_type": "stream",
     "text": [
      "5\n",
      "7\n",
      "5 is less than 7\n"
     ]
    }
   ],
   "source": [
    "number_1 = input()\n",
    "number_2 = input()\n",
    "if number_1 > number_2:\n",
    "    print(number_1,'is greater than', number_2)\n",
    "elif number_1 < number_2:\n",
    "    print(number_1, 'is less than', number_2)\n",
    "elif number_1 == number_2:\n",
    "    print(number_1, 'is equal to', number_2)"
   ]
  },
  {
   "cell_type": "markdown",
   "id": "d14c421a",
   "metadata": {},
   "source": [
    "## The Bool function"
   ]
  },
  {
   "cell_type": "code",
   "execution_count": 1,
   "id": "c49ed295",
   "metadata": {},
   "outputs": [
    {
     "data": {
      "text/plain": [
       "True"
      ]
     },
     "execution_count": 1,
     "metadata": {},
     "output_type": "execute_result"
    }
   ],
   "source": [
    "bool('Hello World')"
   ]
  },
  {
   "cell_type": "code",
   "execution_count": 4,
   "id": "923a9207",
   "metadata": {},
   "outputs": [
    {
     "data": {
      "text/plain": [
       "False"
      ]
     },
     "execution_count": 4,
     "metadata": {},
     "output_type": "execute_result"
    }
   ],
   "source": [
    "bool('')"
   ]
  },
  {
   "cell_type": "code",
   "execution_count": 2,
   "id": "43b19597",
   "metadata": {},
   "outputs": [
    {
     "data": {
      "text/plain": [
       "False"
      ]
     },
     "execution_count": 2,
     "metadata": {},
     "output_type": "execute_result"
    }
   ],
   "source": [
    "bool(False)"
   ]
  },
  {
   "cell_type": "code",
   "execution_count": 3,
   "id": "f1ddc925",
   "metadata": {},
   "outputs": [
    {
     "data": {
      "text/plain": [
       "True"
      ]
     },
     "execution_count": 3,
     "metadata": {},
     "output_type": "execute_result"
    }
   ],
   "source": [
    "bool(True)"
   ]
  },
  {
   "cell_type": "code",
   "execution_count": 5,
   "id": "bac59256",
   "metadata": {},
   "outputs": [
    {
     "data": {
      "text/plain": [
       "False"
      ]
     },
     "execution_count": 5,
     "metadata": {},
     "output_type": "execute_result"
    }
   ],
   "source": [
    "bool(0)"
   ]
  },
  {
   "cell_type": "code",
   "execution_count": 6,
   "id": "f8db06b4",
   "metadata": {},
   "outputs": [
    {
     "data": {
      "text/plain": [
       "True"
      ]
     },
     "execution_count": 6,
     "metadata": {},
     "output_type": "execute_result"
    }
   ],
   "source": [
    "bool(12)"
   ]
  },
  {
   "cell_type": "code",
   "execution_count": 16,
   "id": "b992d36f",
   "metadata": {},
   "outputs": [
    {
     "data": {
      "text/plain": [
       "False"
      ]
     },
     "execution_count": 16,
     "metadata": {},
     "output_type": "execute_result"
    }
   ],
   "source": [
    "bool([])\n",
    "#empty list"
   ]
  },
  {
   "cell_type": "code",
   "execution_count": 15,
   "id": "9aa6ad78",
   "metadata": {},
   "outputs": [
    {
     "data": {
      "text/plain": [
       "False"
      ]
     },
     "execution_count": 15,
     "metadata": {},
     "output_type": "execute_result"
    }
   ],
   "source": [
    "bool(())\n",
    "#empty tuple"
   ]
  },
  {
   "cell_type": "code",
   "execution_count": 14,
   "id": "7b446e3f",
   "metadata": {},
   "outputs": [
    {
     "data": {
      "text/plain": [
       "False"
      ]
     },
     "execution_count": 14,
     "metadata": {},
     "output_type": "execute_result"
    }
   ],
   "source": [
    "bool({})\n",
    "#empty dictionary"
   ]
  },
  {
   "cell_type": "code",
   "execution_count": 28,
   "id": "e753e13d",
   "metadata": {},
   "outputs": [
    {
     "data": {
      "text/plain": [
       "False"
      ]
     },
     "execution_count": 28,
     "metadata": {},
     "output_type": "execute_result"
    }
   ],
   "source": [
    "bool(None)"
   ]
  },
  {
   "cell_type": "markdown",
   "id": "d3ae8011",
   "metadata": {},
   "source": [
    "## Python Classes/Objects"
   ]
  },
  {
   "cell_type": "code",
   "execution_count": 39,
   "id": "a21d5872",
   "metadata": {},
   "outputs": [],
   "source": [
    "class Person:\n",
    "    def __init__(self, name, age):\n",
    "        self.name = name\n",
    "        self.age = age"
   ]
  },
  {
   "cell_type": "markdown",
   "id": "1ecdb1c6",
   "metadata": {},
   "source": [
    "The __init__ function is a function that is present in all classes."
   ]
  },
  {
   "cell_type": "code",
   "execution_count": 43,
   "id": "dbd5cf9e",
   "metadata": {},
   "outputs": [],
   "source": [
    "p1 = Person('Vibodh', 25)\n",
    "p2 = Person('Prathamesh', 31)\n",
    "p3 = Person('Suman', 58)\n",
    "p4 = Person('Dattaram', 62)"
   ]
  },
  {
   "cell_type": "markdown",
   "id": "3859b814",
   "metadata": {},
   "source": [
    "A class creates/constructs objects. In other words, classes are 'blueprints' of objects. "
   ]
  },
  {
   "cell_type": "markdown",
   "id": "72b17e7c",
   "metadata": {},
   "source": [
    "Here, 'Person' is a class. 'p1','p2','p3','p4' are objects created by the class 'Person'."
   ]
  },
  {
   "cell_type": "markdown",
   "id": "3c7885b1",
   "metadata": {},
   "source": [
    "Here, 'name' and 'age' are properties/attributes of the objects 'p1','p2','p3','p4' created by the class 'Person'."
   ]
  },
  {
   "cell_type": "code",
   "execution_count": 57,
   "id": "dfc00d31",
   "metadata": {},
   "outputs": [
    {
     "data": {
      "text/plain": [
       "<__main__.Person at 0x1c43bfb1640>"
      ]
     },
     "execution_count": 57,
     "metadata": {},
     "output_type": "execute_result"
    }
   ],
   "source": [
    "p1"
   ]
  },
  {
   "cell_type": "code",
   "execution_count": 58,
   "id": "c0b414c0",
   "metadata": {},
   "outputs": [
    {
     "data": {
      "text/plain": [
       "<__main__.Person at 0x1c43bfb1d90>"
      ]
     },
     "execution_count": 58,
     "metadata": {},
     "output_type": "execute_result"
    }
   ],
   "source": [
    "p2"
   ]
  },
  {
   "cell_type": "code",
   "execution_count": 41,
   "id": "c2741d26",
   "metadata": {},
   "outputs": [
    {
     "data": {
      "text/plain": [
       "25"
      ]
     },
     "execution_count": 41,
     "metadata": {},
     "output_type": "execute_result"
    }
   ],
   "source": [
    "p1.age"
   ]
  },
  {
   "cell_type": "code",
   "execution_count": 42,
   "id": "ec549d25",
   "metadata": {},
   "outputs": [
    {
     "data": {
      "text/plain": [
       "'Vibodh'"
      ]
     },
     "execution_count": 42,
     "metadata": {},
     "output_type": "execute_result"
    }
   ],
   "source": [
    "p1.name"
   ]
  },
  {
   "cell_type": "code",
   "execution_count": 33,
   "id": "0f3df298",
   "metadata": {},
   "outputs": [
    {
     "data": {
      "text/plain": [
       "'31'"
      ]
     },
     "execution_count": 33,
     "metadata": {},
     "output_type": "execute_result"
    }
   ],
   "source": [
    "p2.age"
   ]
  },
  {
   "cell_type": "code",
   "execution_count": 56,
   "id": "666fc5e8",
   "metadata": {},
   "outputs": [
    {
     "data": {
      "text/plain": [
       "'Prathamesh'"
      ]
     },
     "execution_count": 56,
     "metadata": {},
     "output_type": "execute_result"
    }
   ],
   "source": [
    "p2.name"
   ]
  },
  {
   "cell_type": "code",
   "execution_count": 4,
   "id": "025d8238",
   "metadata": {},
   "outputs": [
    {
     "data": {
      "text/plain": [
       "'Suman'"
      ]
     },
     "execution_count": 4,
     "metadata": {},
     "output_type": "execute_result"
    }
   ],
   "source": [
    "p3.name"
   ]
  },
  {
   "cell_type": "code",
   "execution_count": 5,
   "id": "83acc112",
   "metadata": {},
   "outputs": [
    {
     "data": {
      "text/plain": [
       "'58'"
      ]
     },
     "execution_count": 5,
     "metadata": {},
     "output_type": "execute_result"
    }
   ],
   "source": [
    "p3.age"
   ]
  },
  {
   "cell_type": "code",
   "execution_count": 15,
   "id": "47b12a66",
   "metadata": {},
   "outputs": [
    {
     "data": {
      "text/plain": [
       "'Dattaram'"
      ]
     },
     "execution_count": 15,
     "metadata": {},
     "output_type": "execute_result"
    }
   ],
   "source": [
    "p4.name"
   ]
  },
  {
   "cell_type": "code",
   "execution_count": 16,
   "id": "98193f29",
   "metadata": {},
   "outputs": [
    {
     "data": {
      "text/plain": [
       "'62'"
      ]
     },
     "execution_count": 16,
     "metadata": {},
     "output_type": "execute_result"
    }
   ],
   "source": [
    "p4.age"
   ]
  },
  {
   "cell_type": "code",
   "execution_count": 13,
   "id": "b6997dd0",
   "metadata": {},
   "outputs": [
    {
     "data": {
      "text/plain": [
       "__main__.Person"
      ]
     },
     "execution_count": 13,
     "metadata": {},
     "output_type": "execute_result"
    }
   ],
   "source": [
    "type(p1)"
   ]
  },
  {
   "cell_type": "markdown",
   "id": "a5c85929",
   "metadata": {},
   "source": [
    "The __str__ function returns the 'string' representation of the object of a class."
   ]
  },
  {
   "cell_type": "code",
   "execution_count": 44,
   "id": "e917d9ae",
   "metadata": {},
   "outputs": [],
   "source": [
    "class Person:\n",
    "    def __init__(self, name, age):\n",
    "        self.name = name\n",
    "        self.age = age\n",
    "    def __str__(self):\n",
    "        return f'Name:{self.name}, Age:({self.age})'"
   ]
  },
  {
   "cell_type": "code",
   "execution_count": 45,
   "id": "e629f681",
   "metadata": {},
   "outputs": [],
   "source": [
    "p1 = Person('Vibodh', 25)"
   ]
  },
  {
   "cell_type": "code",
   "execution_count": 46,
   "id": "ae3a603f",
   "metadata": {},
   "outputs": [
    {
     "data": {
      "text/plain": [
       "'Vibodh'"
      ]
     },
     "execution_count": 46,
     "metadata": {},
     "output_type": "execute_result"
    }
   ],
   "source": [
    "p1.name"
   ]
  },
  {
   "cell_type": "code",
   "execution_count": 47,
   "id": "9d5f1a16",
   "metadata": {},
   "outputs": [
    {
     "data": {
      "text/plain": [
       "25"
      ]
     },
     "execution_count": 47,
     "metadata": {},
     "output_type": "execute_result"
    }
   ],
   "source": [
    "p1.age"
   ]
  },
  {
   "cell_type": "markdown",
   "id": "82022a29",
   "metadata": {},
   "source": [
    "## Object Methods"
   ]
  },
  {
   "cell_type": "code",
   "execution_count": 4,
   "id": "3ae2dd26",
   "metadata": {},
   "outputs": [],
   "source": [
    "class Person:\n",
    "    def __init__(self, name, age):\n",
    "        self.name = name\n",
    "        self.age = age\n",
    "    def hello(x):\n",
    "        print('Hello, my name and age is', x.name, x.age) "
   ]
  },
  {
   "cell_type": "code",
   "execution_count": 5,
   "id": "ed422e11",
   "metadata": {},
   "outputs": [],
   "source": [
    "p1 = Person('Vibodh', 25)"
   ]
  },
  {
   "cell_type": "code",
   "execution_count": 73,
   "id": "2163b97f",
   "metadata": {},
   "outputs": [],
   "source": [
    "p2 = Person('Suman',58)\n",
    "p3 = Person('Dattaram', 62)\n",
    "p4 = Person('Prathamesh', 31)"
   ]
  },
  {
   "cell_type": "code",
   "execution_count": 6,
   "id": "06ae6419",
   "metadata": {},
   "outputs": [
    {
     "name": "stdout",
     "output_type": "stream",
     "text": [
      "Hello, my name and age is Vibodh 25\n"
     ]
    }
   ],
   "source": [
    "p1.hello()"
   ]
  },
  {
   "cell_type": "code",
   "execution_count": 65,
   "id": "b52bff17",
   "metadata": {},
   "outputs": [
    {
     "name": "stdout",
     "output_type": "stream",
     "text": [
      "Hello, my name is Suman\n"
     ]
    }
   ],
   "source": [
    "p2.hello()"
   ]
  },
  {
   "cell_type": "code",
   "execution_count": 66,
   "id": "4e8fbc06",
   "metadata": {},
   "outputs": [
    {
     "name": "stdout",
     "output_type": "stream",
     "text": [
      "Hello, my name is Dattaram\n"
     ]
    }
   ],
   "source": [
    "p3.hello()"
   ]
  },
  {
   "cell_type": "code",
   "execution_count": 68,
   "id": "3b794c88",
   "metadata": {},
   "outputs": [
    {
     "name": "stdout",
     "output_type": "stream",
     "text": [
      "Hello, my name is Prathamesh\n"
     ]
    }
   ],
   "source": [
    "p4.hello()"
   ]
  },
  {
   "cell_type": "markdown",
   "id": "b4225a61",
   "metadata": {},
   "source": [
    "Here, hello(x) is a method for the objects 'p1', 'p2', 'p3', 'p4' belonging to the class 'Person'."
   ]
  },
  {
   "cell_type": "markdown",
   "id": "7e4b70e2",
   "metadata": {},
   "source": [
    "A variable is called an 'instance' in programming. "
   ]
  },
  {
   "cell_type": "markdown",
   "id": "36341fe7",
   "metadata": {},
   "source": [
    "The instance is the FIRST parameter inside any function/method in a class."
   ]
  },
  {
   "cell_type": "markdown",
   "id": "8839787b",
   "metadata": {},
   "source": [
    "Here, the instance for the class 'Person' is 'self' and the instance for the function/method is 'x'."
   ]
  },
  {
   "cell_type": "markdown",
   "id": "f5424278",
   "metadata": {},
   "source": [
    "### Modifying object properties"
   ]
  },
  {
   "cell_type": "markdown",
   "id": "0cb31fd8",
   "metadata": {},
   "source": [
    "Setting the property 'age' to a fixed value '21'"
   ]
  },
  {
   "cell_type": "code",
   "execution_count": 77,
   "id": "4dcf6648",
   "metadata": {},
   "outputs": [],
   "source": [
    "p1.age = 21"
   ]
  },
  {
   "cell_type": "code",
   "execution_count": 78,
   "id": "31108215",
   "metadata": {},
   "outputs": [
    {
     "data": {
      "text/plain": [
       "21"
      ]
     },
     "execution_count": 78,
     "metadata": {},
     "output_type": "execute_result"
    }
   ],
   "source": [
    "p1.age"
   ]
  },
  {
   "cell_type": "markdown",
   "id": "fbb26d80",
   "metadata": {},
   "source": [
    "### Deleting the object"
   ]
  },
  {
   "cell_type": "code",
   "execution_count": 79,
   "id": "dfd92aaa",
   "metadata": {},
   "outputs": [],
   "source": [
    "del p1.age"
   ]
  },
  {
   "cell_type": "code",
   "execution_count": 80,
   "id": "a2e6aacb",
   "metadata": {},
   "outputs": [
    {
     "ename": "AttributeError",
     "evalue": "'Person' object has no attribute 'age'",
     "output_type": "error",
     "traceback": [
      "\u001b[1;31m---------------------------------------------------------------------------\u001b[0m",
      "\u001b[1;31mAttributeError\u001b[0m                            Traceback (most recent call last)",
      "\u001b[1;32m~\\AppData\\Local\\Temp/ipykernel_968/2421167675.py\u001b[0m in \u001b[0;36m<module>\u001b[1;34m\u001b[0m\n\u001b[1;32m----> 1\u001b[1;33m \u001b[0mp1\u001b[0m\u001b[1;33m.\u001b[0m\u001b[0mage\u001b[0m\u001b[1;33m\u001b[0m\u001b[1;33m\u001b[0m\u001b[0m\n\u001b[0m",
      "\u001b[1;31mAttributeError\u001b[0m: 'Person' object has no attribute 'age'"
     ]
    }
   ],
   "source": [
    "p1.age"
   ]
  },
  {
   "cell_type": "code",
   "execution_count": 81,
   "id": "de99c4e2",
   "metadata": {},
   "outputs": [],
   "source": [
    "del p1"
   ]
  },
  {
   "cell_type": "code",
   "execution_count": 82,
   "id": "609dcfed",
   "metadata": {},
   "outputs": [
    {
     "ename": "NameError",
     "evalue": "name 'p1' is not defined",
     "output_type": "error",
     "traceback": [
      "\u001b[1;31m---------------------------------------------------------------------------\u001b[0m",
      "\u001b[1;31mNameError\u001b[0m                                 Traceback (most recent call last)",
      "\u001b[1;32m~\\AppData\\Local\\Temp/ipykernel_968/2925551916.py\u001b[0m in \u001b[0;36m<module>\u001b[1;34m\u001b[0m\n\u001b[1;32m----> 1\u001b[1;33m \u001b[0mp1\u001b[0m\u001b[1;33m\u001b[0m\u001b[1;33m\u001b[0m\u001b[0m\n\u001b[0m",
      "\u001b[1;31mNameError\u001b[0m: name 'p1' is not defined"
     ]
    }
   ],
   "source": [
    "p1"
   ]
  },
  {
   "cell_type": "markdown",
   "id": "7c84e3fd",
   "metadata": {},
   "source": [
    "Empty class"
   ]
  },
  {
   "cell_type": "code",
   "execution_count": 83,
   "id": "a1f14445",
   "metadata": {},
   "outputs": [],
   "source": [
    "class Person:\n",
    "    pass"
   ]
  },
  {
   "cell_type": "markdown",
   "id": "6ebb6f4e",
   "metadata": {},
   "source": [
    "We use the 'pass' statement in an empty class to avoid getting an error."
   ]
  },
  {
   "cell_type": "markdown",
   "id": "0a20bbf7",
   "metadata": {},
   "source": [
    "## Python Lambda"
   ]
  },
  {
   "cell_type": "markdown",
   "id": "aea4fed7",
   "metadata": {},
   "source": [
    "Python lambda is an 'anonymous' function"
   ]
  },
  {
   "cell_type": "markdown",
   "id": "4a410eda",
   "metadata": {},
   "source": [
    "For example"
   ]
  },
  {
   "cell_type": "code",
   "execution_count": 6,
   "id": "c0fbcf71",
   "metadata": {},
   "outputs": [],
   "source": [
    "x = lambda a : a*10"
   ]
  },
  {
   "cell_type": "code",
   "execution_count": 7,
   "id": "574c6627",
   "metadata": {},
   "outputs": [
    {
     "data": {
      "text/plain": [
       "50"
      ]
     },
     "execution_count": 7,
     "metadata": {},
     "output_type": "execute_result"
    }
   ],
   "source": [
    "x(5)"
   ]
  },
  {
   "cell_type": "code",
   "execution_count": 8,
   "id": "9411e875",
   "metadata": {},
   "outputs": [
    {
     "data": {
      "text/plain": [
       "100"
      ]
     },
     "execution_count": 8,
     "metadata": {},
     "output_type": "execute_result"
    }
   ],
   "source": [
    "x(10)"
   ]
  },
  {
   "cell_type": "code",
   "execution_count": 9,
   "id": "2c21905a",
   "metadata": {},
   "outputs": [
    {
     "data": {
      "text/plain": [
       "30"
      ]
     },
     "execution_count": 9,
     "metadata": {},
     "output_type": "execute_result"
    }
   ],
   "source": [
    "x(3)"
   ]
  },
  {
   "cell_type": "markdown",
   "id": "412f442a",
   "metadata": {},
   "source": [
    "Another example of converting Indian rupee to US dollar"
   ]
  },
  {
   "cell_type": "code",
   "execution_count": 13,
   "id": "0f860a88",
   "metadata": {},
   "outputs": [],
   "source": [
    "rupee_to_us_dollar = lambda a : a*82"
   ]
  },
  {
   "cell_type": "code",
   "execution_count": 15,
   "id": "92080c8b",
   "metadata": {},
   "outputs": [
    {
     "data": {
      "text/plain": [
       "82"
      ]
     },
     "execution_count": 15,
     "metadata": {},
     "output_type": "execute_result"
    }
   ],
   "source": [
    "rupee_to_us_dollar(1)"
   ]
  },
  {
   "cell_type": "code",
   "execution_count": 17,
   "id": "7541ba98",
   "metadata": {},
   "outputs": [
    {
     "data": {
      "text/plain": [
       "1640"
      ]
     },
     "execution_count": 17,
     "metadata": {},
     "output_type": "execute_result"
    }
   ],
   "source": [
    "rupee_to_us_dollar(20)"
   ]
  },
  {
   "cell_type": "markdown",
   "id": "278aaaa2",
   "metadata": {},
   "source": [
    "Using this lambda(anonymous) function, we can make functions from functions"
   ]
  },
  {
   "cell_type": "code",
   "execution_count": 20,
   "id": "864244e3",
   "metadata": {},
   "outputs": [],
   "source": [
    "def multiply(n):\n",
    "    return lambda a : a * n"
   ]
  },
  {
   "cell_type": "markdown",
   "id": "e982e39d",
   "metadata": {},
   "source": [
    "Making 'doubler','tripler' and 'quadrupler' functions from function 'multiply'"
   ]
  },
  {
   "cell_type": "code",
   "execution_count": 21,
   "id": "4baaf207",
   "metadata": {},
   "outputs": [],
   "source": [
    "doubler = multiply(2)\n",
    "tripler = multiply(3)\n",
    "quadrupler = multiply(4)"
   ]
  },
  {
   "cell_type": "code",
   "execution_count": 24,
   "id": "13157fc9",
   "metadata": {},
   "outputs": [
    {
     "data": {
      "text/plain": [
       "24"
      ]
     },
     "execution_count": 24,
     "metadata": {},
     "output_type": "execute_result"
    }
   ],
   "source": [
    "doubler(12)"
   ]
  },
  {
   "cell_type": "code",
   "execution_count": 25,
   "id": "9ac29dc0",
   "metadata": {},
   "outputs": [
    {
     "data": {
      "text/plain": [
       "36"
      ]
     },
     "execution_count": 25,
     "metadata": {},
     "output_type": "execute_result"
    }
   ],
   "source": [
    "tripler(12)"
   ]
  },
  {
   "cell_type": "code",
   "execution_count": 26,
   "id": "51ab980f",
   "metadata": {},
   "outputs": [
    {
     "data": {
      "text/plain": [
       "48"
      ]
     },
     "execution_count": 26,
     "metadata": {},
     "output_type": "execute_result"
    }
   ],
   "source": [
    "quadrupler(12)"
   ]
  },
  {
   "cell_type": "markdown",
   "id": "65ad988d",
   "metadata": {},
   "source": [
    "## If...Else"
   ]
  },
  {
   "cell_type": "code",
   "execution_count": 4,
   "id": "e2689b75",
   "metadata": {},
   "outputs": [
    {
     "name": "stdout",
     "output_type": "stream",
     "text": [
      "Enter the first number\n",
      "50\n",
      "Enter the second number\n",
      "50\n",
      "50 = 50\n"
     ]
    }
   ],
   "source": [
    "print('Enter the first number')\n",
    "a = input()\n",
    "print('Enter the second number')\n",
    "b = input()\n",
    "\n",
    "if a>b:\n",
    "    print(a,'>',b)\n",
    "elif a<b:\n",
    "    print(a,'<',b)\n",
    "else:\n",
    "    print(a,'=',b)"
   ]
  },
  {
   "cell_type": "markdown",
   "id": "5f2ce1c9",
   "metadata": {},
   "source": [
    "same program using 'elif' keyword in place of 'else'"
   ]
  },
  {
   "cell_type": "code",
   "execution_count": 5,
   "id": "5541a6d9",
   "metadata": {},
   "outputs": [
    {
     "name": "stdout",
     "output_type": "stream",
     "text": [
      "Enter the first number\n",
      "50\n",
      "Enter the second number\n",
      "50\n",
      "50 = 50\n"
     ]
    }
   ],
   "source": [
    "print('Enter the first number')\n",
    "a = input()\n",
    "print('Enter the second number')\n",
    "b = input()\n",
    "\n",
    "if a>b:\n",
    "    print(a,'>',b)\n",
    "elif a<b:\n",
    "    print(a,'<',b)\n",
    "elif a==b:\n",
    "    print(a,'=',b)"
   ]
  },
  {
   "cell_type": "markdown",
   "id": "39e0b3cd",
   "metadata": {},
   "source": [
    "#### Short hand 'if'"
   ]
  },
  {
   "cell_type": "code",
   "execution_count": 6,
   "id": "851f432b",
   "metadata": {},
   "outputs": [
    {
     "name": "stdout",
     "output_type": "stream",
     "text": [
      "Enter the first number\n",
      "50\n",
      "Enter the second number\n",
      "50\n",
      "50 = 50\n"
     ]
    }
   ],
   "source": [
    "print('Enter the first number')\n",
    "a = input()\n",
    "print('Enter the second number')\n",
    "b = input()\n",
    "\n",
    "if a>b: print(a,'>',b)\n",
    "if a<b: print(a,'<',b)\n",
    "if a==b: print(a,'=',b)"
   ]
  },
  {
   "cell_type": "markdown",
   "id": "55f54182",
   "metadata": {},
   "source": [
    "#### Short hand 'if...else'"
   ]
  },
  {
   "cell_type": "code",
   "execution_count": 12,
   "id": "4285e900",
   "metadata": {},
   "outputs": [
    {
     "name": "stdout",
     "output_type": "stream",
     "text": [
      "Enter the first number\n",
      "50\n",
      "Enter the second number\n",
      "50\n",
      "50 = 50\n"
     ]
    }
   ],
   "source": [
    "print('Enter the first number')\n",
    "a = input()\n",
    "print('Enter the second number')\n",
    "b = input()\n",
    "\n",
    "print(a,'>',b) if a>b else print(a,'<',b) if a<b else print(a,'=',b)"
   ]
  },
  {
   "cell_type": "markdown",
   "id": "1c4fc173",
   "metadata": {},
   "source": [
    "#### 'or' keyword"
   ]
  },
  {
   "cell_type": "code",
   "execution_count": 2,
   "id": "5fb622c3",
   "metadata": {},
   "outputs": [
    {
     "name": "stdout",
     "output_type": "stream",
     "text": [
      "Enter the first number\n",
      "50\n",
      "Enter the second number\n",
      "50\n",
      "50 >= 50\n"
     ]
    }
   ],
   "source": [
    "print('Enter the first number')\n",
    "a = input()\n",
    "print('Enter the second number')\n",
    "b = input()\n",
    "\n",
    "if a>b or a==b:\n",
    "    print(a,'>=',b)\n",
    "elif a<b or a==b:\n",
    "    print(a,'<=',b)"
   ]
  },
  {
   "cell_type": "markdown",
   "id": "fd4c9fe8",
   "metadata": {},
   "source": [
    "#### 'and' keyword"
   ]
  },
  {
   "cell_type": "code",
   "execution_count": 3,
   "id": "db7363fc",
   "metadata": {},
   "outputs": [
    {
     "name": "stdout",
     "output_type": "stream",
     "text": [
      "Enter the first number\n",
      "50\n",
      "Enter the second number\n",
      "60\n",
      "Enter the third number\n",
      "70\n",
      "70 is the greatest number\n"
     ]
    }
   ],
   "source": [
    "print('Enter the first number')\n",
    "a = input()\n",
    "print('Enter the second number')\n",
    "b = input()\n",
    "print('Enter the third number')\n",
    "c = input()\n",
    "\n",
    "if a>b and a>c:\n",
    "    print(a,'is the greatest number')\n",
    "elif b>a and b>c:\n",
    "    print(b,'is the greatest number')\n",
    "else:\n",
    "    print(c,'is the greatest number')"
   ]
  },
  {
   "cell_type": "markdown",
   "id": "22378110",
   "metadata": {},
   "source": [
    "#### the pass statement"
   ]
  },
  {
   "cell_type": "code",
   "execution_count": 4,
   "id": "30053ad3",
   "metadata": {},
   "outputs": [
    {
     "name": "stdout",
     "output_type": "stream",
     "text": [
      "50\n",
      "70\n"
     ]
    }
   ],
   "source": [
    "a = input()\n",
    "b = input()\n",
    "\n",
    "if a>b:\n",
    "    pass"
   ]
  },
  {
   "cell_type": "markdown",
   "id": "6e67dcc4",
   "metadata": {},
   "source": [
    "Python has 2 loop commands- 'while' loop and 'for' loop"
   ]
  },
  {
   "cell_type": "markdown",
   "id": "1b4a3719",
   "metadata": {},
   "source": [
    "## The while loop"
   ]
  },
  {
   "cell_type": "markdown",
   "id": "c2643781",
   "metadata": {},
   "source": [
    "Printing numbers less than 7 using while loop"
   ]
  },
  {
   "cell_type": "code",
   "execution_count": 5,
   "id": "e7259d80",
   "metadata": {},
   "outputs": [
    {
     "name": "stdout",
     "output_type": "stream",
     "text": [
      "1\n",
      "2\n",
      "3\n",
      "4\n",
      "5\n",
      "6\n"
     ]
    }
   ],
   "source": [
    "i = 1\n",
    "while i<7:\n",
    "    print(i)\n",
    "    i = i + 1"
   ]
  },
  {
   "cell_type": "markdown",
   "id": "42885297",
   "metadata": {},
   "source": [
    "same program with a different notation for 'incrementing' on line 4"
   ]
  },
  {
   "cell_type": "code",
   "execution_count": 10,
   "id": "cee8e58e",
   "metadata": {},
   "outputs": [
    {
     "name": "stdout",
     "output_type": "stream",
     "text": [
      "1\n",
      "2\n",
      "3\n",
      "4\n",
      "5\n",
      "6\n"
     ]
    }
   ],
   "source": [
    "i = 1\n",
    "while i<7:\n",
    "    print(i)\n",
    "    i += 1"
   ]
  },
  {
   "cell_type": "markdown",
   "id": "b3fb2a9a",
   "metadata": {},
   "source": [
    "#### the break statement"
   ]
  },
  {
   "cell_type": "markdown",
   "id": "7981720c",
   "metadata": {},
   "source": [
    "here, the looping is stopped when the incrementor i = 4 using the break statement"
   ]
  },
  {
   "cell_type": "code",
   "execution_count": 11,
   "id": "e51f2ca7",
   "metadata": {},
   "outputs": [
    {
     "name": "stdout",
     "output_type": "stream",
     "text": [
      "1\n",
      "2\n",
      "3\n",
      "4\n"
     ]
    }
   ],
   "source": [
    "i = 1\n",
    "while i<7:\n",
    "    print(i)\n",
    "    if i == 4:\n",
    "        break\n",
    "    i += 1"
   ]
  },
  {
   "cell_type": "markdown",
   "id": "f5eef3b5",
   "metadata": {},
   "source": [
    "## The 'for' loop"
   ]
  },
  {
   "cell_type": "code",
   "execution_count": 1,
   "id": "3616d24b",
   "metadata": {},
   "outputs": [],
   "source": [
    "x = ['Gel pen','Eraser','Click pencil']"
   ]
  },
  {
   "cell_type": "code",
   "execution_count": 8,
   "id": "536d1e64",
   "metadata": {},
   "outputs": [
    {
     "name": "stdout",
     "output_type": "stream",
     "text": [
      "Ball pen\n",
      "Eraser\n",
      "Click pencil\n"
     ]
    }
   ],
   "source": [
    "for i in x:\n",
    "     print(i)"
   ]
  },
  {
   "cell_type": "markdown",
   "id": "52ac0247",
   "metadata": {},
   "source": [
    "### the break statement"
   ]
  },
  {
   "cell_type": "code",
   "execution_count": 10,
   "id": "ac430471",
   "metadata": {},
   "outputs": [
    {
     "name": "stdout",
     "output_type": "stream",
     "text": [
      "Ball pen\n",
      "Eraser\n"
     ]
    }
   ],
   "source": [
    "for i in x:\n",
    "    print(i)\n",
    "    if i=='Eraser':\n",
    "        break"
   ]
  },
  {
   "cell_type": "markdown",
   "id": "d8880dd1",
   "metadata": {},
   "source": [
    "### using 'for' loop on a string/text"
   ]
  },
  {
   "cell_type": "code",
   "execution_count": 11,
   "id": "2c619287",
   "metadata": {},
   "outputs": [],
   "source": [
    "text = 'Do not pray for an easy life. Pray for the strength to endure a difficult one -Bruce Lee'"
   ]
  },
  {
   "cell_type": "code",
   "execution_count": 12,
   "id": "f9158594",
   "metadata": {},
   "outputs": [
    {
     "name": "stdout",
     "output_type": "stream",
     "text": [
      "D\n",
      "o\n",
      " \n",
      "n\n",
      "o\n",
      "t\n",
      " \n",
      "p\n",
      "r\n",
      "a\n",
      "y\n",
      " \n",
      "f\n",
      "o\n",
      "r\n",
      " \n",
      "a\n",
      "n\n",
      " \n",
      "e\n",
      "a\n",
      "s\n",
      "y\n",
      " \n",
      "l\n",
      "i\n",
      "f\n",
      "e\n",
      ".\n",
      " \n",
      "P\n",
      "r\n",
      "a\n",
      "y\n",
      " \n",
      "f\n",
      "o\n",
      "r\n",
      " \n",
      "t\n",
      "h\n",
      "e\n",
      " \n",
      "s\n",
      "t\n",
      "r\n",
      "e\n",
      "n\n",
      "g\n",
      "t\n",
      "h\n",
      " \n",
      "t\n",
      "o\n",
      " \n",
      "e\n",
      "n\n",
      "d\n",
      "u\n",
      "r\n",
      "e\n",
      " \n",
      "a\n",
      " \n",
      "d\n",
      "i\n",
      "f\n",
      "f\n",
      "i\n",
      "c\n",
      "u\n",
      "l\n",
      "t\n",
      " \n",
      "o\n",
      "n\n",
      "e\n",
      " \n",
      "-\n",
      "B\n",
      "r\n",
      "u\n",
      "c\n",
      "e\n",
      " \n",
      "L\n",
      "e\n",
      "e\n"
     ]
    }
   ],
   "source": [
    "for i in text:\n",
    "    print(i)"
   ]
  },
  {
   "cell_type": "markdown",
   "id": "38daead8",
   "metadata": {},
   "source": [
    "### the continue statement"
   ]
  },
  {
   "cell_type": "code",
   "execution_count": 13,
   "id": "2a4137b7",
   "metadata": {},
   "outputs": [
    {
     "name": "stdout",
     "output_type": "stream",
     "text": [
      "Ball pen\n",
      "Click pencil\n"
     ]
    }
   ],
   "source": [
    "for i in x:\n",
    "    if i=='Eraser':\n",
    "        continue\n",
    "    print(i)"
   ]
  },
  {
   "cell_type": "markdown",
   "id": "52a7ac89",
   "metadata": {},
   "source": [
    "Above, we use 'continue' statement to NOT print i.e skip 'Eraser'"
   ]
  },
  {
   "cell_type": "markdown",
   "id": "cc0aa497",
   "metadata": {},
   "source": [
    "### the range() function in the 'for' loop"
   ]
  },
  {
   "cell_type": "code",
   "execution_count": 15,
   "id": "1635e530",
   "metadata": {},
   "outputs": [
    {
     "name": "stdout",
     "output_type": "stream",
     "text": [
      "0\n",
      "1\n",
      "2\n",
      "3\n",
      "4\n",
      "5\n",
      "6\n"
     ]
    }
   ],
   "source": [
    "for i in range(7):\n",
    "    print(i)"
   ]
  },
  {
   "cell_type": "code",
   "execution_count": 16,
   "id": "400cad67",
   "metadata": {},
   "outputs": [
    {
     "name": "stdout",
     "output_type": "stream",
     "text": [
      "2\n",
      "4\n",
      "6\n",
      "8\n"
     ]
    }
   ],
   "source": [
    "for i in range(2,10,2):\n",
    "    print(i)"
   ]
  },
  {
   "cell_type": "markdown",
   "id": "9106b464",
   "metadata": {},
   "source": [
    "### 'else' keyword in the 'for' loop"
   ]
  },
  {
   "cell_type": "code",
   "execution_count": 17,
   "id": "defb7c32",
   "metadata": {},
   "outputs": [
    {
     "name": "stdout",
     "output_type": "stream",
     "text": [
      "0\n",
      "1\n",
      "2\n",
      "3\n",
      "4\n",
      "5\n",
      "6\n",
      "We printed numbers from 0-6\n"
     ]
    }
   ],
   "source": [
    "for i in range(7):\n",
    "    print(i)\n",
    "else:\n",
    "    print('We printed numbers from 0-6')"
   ]
  },
  {
   "cell_type": "markdown",
   "id": "346439a3",
   "metadata": {},
   "source": [
    "### Nested 'for' loop"
   ]
  },
  {
   "cell_type": "code",
   "execution_count": 19,
   "id": "26110396",
   "metadata": {},
   "outputs": [
    {
     "data": {
      "text/plain": [
       "['Ball pen', 'Eraser', 'Click pencil']"
      ]
     },
     "execution_count": 19,
     "metadata": {},
     "output_type": "execute_result"
    }
   ],
   "source": [
    "x"
   ]
  },
  {
   "cell_type": "code",
   "execution_count": 18,
   "id": "27651b07",
   "metadata": {},
   "outputs": [],
   "source": [
    "adj = ['Red','Green','Blue']"
   ]
  },
  {
   "cell_type": "code",
   "execution_count": 21,
   "id": "700a04c9",
   "metadata": {},
   "outputs": [
    {
     "name": "stdout",
     "output_type": "stream",
     "text": [
      "Red Ball pen\n",
      "Red Eraser\n",
      "Red Click pencil\n",
      "Green Ball pen\n",
      "Green Eraser\n",
      "Green Click pencil\n",
      "Blue Ball pen\n",
      "Blue Eraser\n",
      "Blue Click pencil\n"
     ]
    }
   ],
   "source": [
    "for i in adj:\n",
    "    for j in x:\n",
    "        print(i,j)"
   ]
  },
  {
   "cell_type": "markdown",
   "id": "693254a2",
   "metadata": {},
   "source": [
    "### the pass statement"
   ]
  },
  {
   "cell_type": "code",
   "execution_count": 22,
   "id": "d345fcda",
   "metadata": {},
   "outputs": [],
   "source": [
    "for i in range(7):\n",
    "    pass"
   ]
  },
  {
   "cell_type": "markdown",
   "id": "2e629871",
   "metadata": {},
   "source": [
    "The 'for' loop is used on iterable/sequence objects such as lists,tuples,dictionaries,sets and also strings/text"
   ]
  },
  {
   "cell_type": "markdown",
   "id": "53ccbfed",
   "metadata": {},
   "source": [
    "## Class Inheritance"
   ]
  },
  {
   "cell_type": "code",
   "execution_count": 28,
   "id": "5e1c9d48",
   "metadata": {},
   "outputs": [],
   "source": [
    "class person:\n",
    "    def __init__(self,fname,lname):\n",
    "        self.fname = fname\n",
    "        self.lname = lname\n",
    "    def full_name(x):\n",
    "        print('First name:',x.fname,',Second name:',x.lname)"
   ]
  },
  {
   "cell_type": "code",
   "execution_count": 29,
   "id": "2e084cab",
   "metadata": {},
   "outputs": [],
   "source": [
    "n1 = person('Vibodh','Jadhav')"
   ]
  },
  {
   "cell_type": "code",
   "execution_count": 30,
   "id": "097ed3bf",
   "metadata": {},
   "outputs": [
    {
     "name": "stdout",
     "output_type": "stream",
     "text": [
      "First name: Vibodh ,Second name: Jadhav\n"
     ]
    }
   ],
   "source": [
    "n1.full_name()"
   ]
  },
  {
   "cell_type": "code",
   "execution_count": 75,
   "id": "269c5683",
   "metadata": {},
   "outputs": [],
   "source": [
    "class student(Person):\n",
    "    def __init__(self, fname, lname, year):\n",
    "        Person.__init__(self,fname,lname)\n",
    "        self.graduation_year = year\n",
    "    def graduation(x):\n",
    "        print('Congratulations to',x.fname,x.lname,'for graduating from the class of',x.graduation_year)"
   ]
  },
  {
   "cell_type": "code",
   "execution_count": 76,
   "id": "8fd0e040",
   "metadata": {},
   "outputs": [],
   "source": [
    "s1 = student('Vibodh','Jadhav',2020)"
   ]
  },
  {
   "cell_type": "code",
   "execution_count": 77,
   "id": "c26e5410",
   "metadata": {},
   "outputs": [
    {
     "name": "stdout",
     "output_type": "stream",
     "text": [
      "Congratulations to Vibodh Jadhav for graduating from the class of 2020\n"
     ]
    }
   ],
   "source": [
    "s1.graduation()"
   ]
  },
  {
   "cell_type": "markdown",
   "id": "afba73b9",
   "metadata": {},
   "source": [
    "Here, the parent class is 'person' and the child class is 'student'. The child class inherits all the attributes/properties and methods/functions of the parent class, hence the name 'Class inheritance'. "
   ]
  },
  {
   "cell_type": "markdown",
   "id": "4e1c83b6",
   "metadata": {},
   "source": [
    "### Inheritance using the super function"
   ]
  },
  {
   "cell_type": "code",
   "execution_count": 85,
   "id": "15920333",
   "metadata": {},
   "outputs": [],
   "source": [
    "class student(Person):\n",
    "    def __init__(self, fname, lname, year):\n",
    "        super().__init__(fname,lname)\n",
    "        self.graduation_year = year\n",
    "    def graduation(x):\n",
    "        print('Congratulations to',x.fname,x.lname,'for graduating from the class of',x.graduation_year)"
   ]
  },
  {
   "cell_type": "code",
   "execution_count": 86,
   "id": "d17e690f",
   "metadata": {},
   "outputs": [],
   "source": [
    "s1 = student('Vibodh','Jadhav',2020)"
   ]
  },
  {
   "cell_type": "code",
   "execution_count": 84,
   "id": "959862ef",
   "metadata": {},
   "outputs": [
    {
     "name": "stdout",
     "output_type": "stream",
     "text": [
      "Congratulations to Vibodh Jadhav for graduating from the class of 2020\n"
     ]
    }
   ],
   "source": [
    "s1.graduation()"
   ]
  },
  {
   "cell_type": "markdown",
   "id": "f52268bb",
   "metadata": {},
   "source": [
    "## Functions"
   ]
  },
  {
   "cell_type": "code",
   "execution_count": 1,
   "id": "834a8e79",
   "metadata": {},
   "outputs": [],
   "source": [
    "def hello():\n",
    "    print('Hello World!')"
   ]
  },
  {
   "cell_type": "code",
   "execution_count": 2,
   "id": "74a6f028",
   "metadata": {},
   "outputs": [
    {
     "name": "stdout",
     "output_type": "stream",
     "text": [
      "Hello World!\n"
     ]
    }
   ],
   "source": [
    "hello()"
   ]
  },
  {
   "cell_type": "code",
   "execution_count": 3,
   "id": "7d283d85",
   "metadata": {},
   "outputs": [],
   "source": [
    "def hello():\n",
    "    print('Enter your name:')\n",
    "    name = input('')\n",
    "    print('Hello World!', name)"
   ]
  },
  {
   "cell_type": "code",
   "execution_count": 4,
   "id": "9fab619b",
   "metadata": {},
   "outputs": [
    {
     "name": "stdout",
     "output_type": "stream",
     "text": [
      "Enter your name:\n",
      "Vibodh\n",
      "Hello World! Vibodh\n"
     ]
    }
   ],
   "source": [
    "hello()"
   ]
  },
  {
   "cell_type": "markdown",
   "id": "f50c7914",
   "metadata": {},
   "source": [
    "### the 'return' statement"
   ]
  },
  {
   "cell_type": "code",
   "execution_count": 14,
   "id": "e77597c9",
   "metadata": {},
   "outputs": [],
   "source": [
    "def tripler(x):\n",
    "    return 3*x"
   ]
  },
  {
   "cell_type": "code",
   "execution_count": 15,
   "id": "604823f3",
   "metadata": {},
   "outputs": [
    {
     "data": {
      "text/plain": [
       "21"
      ]
     },
     "execution_count": 15,
     "metadata": {},
     "output_type": "execute_result"
    }
   ],
   "source": [
    "tripler(7)"
   ]
  },
  {
   "cell_type": "code",
   "execution_count": 16,
   "id": "6446237b",
   "metadata": {},
   "outputs": [
    {
     "data": {
      "text/plain": [
       "30"
      ]
     },
     "execution_count": 16,
     "metadata": {},
     "output_type": "execute_result"
    }
   ],
   "source": [
    "tripler(10)"
   ]
  },
  {
   "cell_type": "markdown",
   "id": "cb937c4c",
   "metadata": {},
   "source": [
    "From our perspective, a PARAMETER and an ARGUMENT mean the same thing-information passed into the function"
   ]
  },
  {
   "cell_type": "markdown",
   "id": "101f88bf",
   "metadata": {},
   "source": [
    "From a function's perspective,\n",
    "A PARAMETER is the variable inside the brackets of a function definition,\n",
    "An ARGUMENT is the value given to the function when it's called"
   ]
  },
  {
   "cell_type": "markdown",
   "id": "09a09eeb",
   "metadata": {},
   "source": [
    "### Arbitrary arguments AKA *args"
   ]
  },
  {
   "cell_type": "code",
   "execution_count": 19,
   "id": "a16bd1f8",
   "metadata": {},
   "outputs": [],
   "source": [
    "def required(*x):\n",
    "    print('The required stationery is:', x)"
   ]
  },
  {
   "cell_type": "code",
   "execution_count": 22,
   "id": "b8cf759b",
   "metadata": {},
   "outputs": [
    {
     "name": "stdout",
     "output_type": "stream",
     "text": [
      "The required stationery is: ('Ball pen', 'Eraser', 'Click pencil')\n"
     ]
    }
   ],
   "source": [
    "required('Ball pen','Eraser','Click pencil')"
   ]
  },
  {
   "cell_type": "markdown",
   "id": "eafa557e",
   "metadata": {},
   "source": [
    "Arbitrary arguments are used when the no. of arguments is not fixed/arbitrary."
   ]
  },
  {
   "cell_type": "markdown",
   "id": "ad66a67e",
   "metadata": {},
   "source": [
    "The input and output are tuples"
   ]
  },
  {
   "cell_type": "markdown",
   "id": "b281dbff",
   "metadata": {},
   "source": [
    "### List as an argument to a function"
   ]
  },
  {
   "cell_type": "code",
   "execution_count": 23,
   "id": "f31692eb",
   "metadata": {},
   "outputs": [],
   "source": [
    "def func(stuff):\n",
    "    for i in stuff:\n",
    "        print(i)"
   ]
  },
  {
   "cell_type": "code",
   "execution_count": 25,
   "id": "74460085",
   "metadata": {},
   "outputs": [],
   "source": [
    "x = ['Ball pen','Eraser','Click pencil']"
   ]
  },
  {
   "cell_type": "code",
   "execution_count": 26,
   "id": "d6b80e46",
   "metadata": {},
   "outputs": [
    {
     "name": "stdout",
     "output_type": "stream",
     "text": [
      "Ball pen\n",
      "Eraser\n",
      "Click pencil\n"
     ]
    }
   ],
   "source": [
    "func(x)"
   ]
  },
  {
   "cell_type": "markdown",
   "id": "42448a9a",
   "metadata": {},
   "source": [
    "### the pass statement"
   ]
  },
  {
   "cell_type": "code",
   "execution_count": 27,
   "id": "9f1da157",
   "metadata": {},
   "outputs": [],
   "source": [
    "def func():\n",
    "    pass"
   ]
  },
  {
   "cell_type": "markdown",
   "id": "dd5a0b15",
   "metadata": {},
   "source": [
    "### Recursion"
   ]
  },
  {
   "cell_type": "markdown",
   "id": "ee9aa4c3",
   "metadata": {},
   "source": [
    "#### fibonacci sequence using recursion"
   ]
  },
  {
   "cell_type": "code",
   "execution_count": 2,
   "id": "493d93c4",
   "metadata": {},
   "outputs": [],
   "source": [
    "def recur_fibo(n):\n",
    "    if n<=1:\n",
    "        return n\n",
    "    else:\n",
    "        return(recur_fibo(n-1) + recur_fibo(n-2))"
   ]
  },
  {
   "cell_type": "code",
   "execution_count": 3,
   "id": "4021fab4",
   "metadata": {},
   "outputs": [
    {
     "name": "stdout",
     "output_type": "stream",
     "text": [
      "15\n",
      "The fibonacci sequence of first 15 terms is:\n",
      "0\n",
      "1\n",
      "1\n",
      "2\n",
      "3\n",
      "5\n",
      "8\n",
      "13\n",
      "21\n",
      "34\n",
      "55\n",
      "89\n",
      "144\n",
      "233\n",
      "377\n"
     ]
    }
   ],
   "source": [
    "nterms = int(input())\n",
    "print('The fibonacci sequence of first',nterms,'terms is:')\n",
    "for i in range(nterms):\n",
    "    print(recur_fibo(i))"
   ]
  },
  {
   "cell_type": "markdown",
   "id": "fcf6be20",
   "metadata": {},
   "source": [
    "#### factorial using recursion"
   ]
  },
  {
   "cell_type": "code",
   "execution_count": 4,
   "id": "641dd4e8",
   "metadata": {},
   "outputs": [],
   "source": [
    "def recur_fact(n):\n",
    "    if n==0:\n",
    "        return 1\n",
    "    if n==1 and n==2:\n",
    "        return n\n",
    "    else:\n",
    "        return(n*recur_fact(n-1))"
   ]
  },
  {
   "cell_type": "code",
   "execution_count": 2,
   "id": "0455ae93",
   "metadata": {},
   "outputs": [
    {
     "data": {
      "text/plain": [
       "1"
      ]
     },
     "execution_count": 2,
     "metadata": {},
     "output_type": "execute_result"
    }
   ],
   "source": [
    "recur_fact(1)"
   ]
  },
  {
   "cell_type": "code",
   "execution_count": 3,
   "id": "7f8015b6",
   "metadata": {},
   "outputs": [
    {
     "data": {
      "text/plain": [
       "2"
      ]
     },
     "execution_count": 3,
     "metadata": {},
     "output_type": "execute_result"
    }
   ],
   "source": [
    "recur_fact(2)"
   ]
  },
  {
   "cell_type": "code",
   "execution_count": 4,
   "id": "ff5d31a6",
   "metadata": {},
   "outputs": [
    {
     "data": {
      "text/plain": [
       "6"
      ]
     },
     "execution_count": 4,
     "metadata": {},
     "output_type": "execute_result"
    }
   ],
   "source": [
    "recur_fact(3)"
   ]
  },
  {
   "cell_type": "code",
   "execution_count": 7,
   "id": "56a080aa",
   "metadata": {},
   "outputs": [
    {
     "name": "stdout",
     "output_type": "stream",
     "text": [
      "15\n",
      "The list of first 15 factorials:\n",
      "0 != 1\n",
      "1 != 1\n",
      "2 != 2\n",
      "3 != 6\n",
      "4 != 24\n",
      "5 != 120\n",
      "6 != 720\n",
      "7 != 5040\n",
      "8 != 40320\n",
      "9 != 362880\n",
      "10 != 3628800\n",
      "11 != 39916800\n",
      "12 != 479001600\n",
      "13 != 6227020800\n",
      "14 != 87178291200\n"
     ]
    }
   ],
   "source": [
    "nterms = int(input())\n",
    "print('The list of first',nterms,'factorials:')\n",
    "for i in range(nterms):\n",
    "    print(i,'!=',recur_fact(i))"
   ]
  },
  {
   "cell_type": "markdown",
   "id": "1d60386f",
   "metadata": {},
   "source": [
    "### Keyword arguments"
   ]
  },
  {
   "cell_type": "code",
   "execution_count": 8,
   "id": "c53848e0",
   "metadata": {},
   "outputs": [],
   "source": [
    "def func(x,y,z):\n",
    "    print('The required stationery is',x)"
   ]
  },
  {
   "cell_type": "code",
   "execution_count": 9,
   "id": "dfeb9a82",
   "metadata": {},
   "outputs": [
    {
     "name": "stdout",
     "output_type": "stream",
     "text": [
      "The required stationery is Ball pen\n"
     ]
    }
   ],
   "source": [
    "func(x='Ball pen',y='Eraser',z='Click pencil')"
   ]
  },
  {
   "cell_type": "markdown",
   "id": "3d0336ae",
   "metadata": {},
   "source": [
    "### Arbitrary keyword arguments"
   ]
  },
  {
   "cell_type": "code",
   "execution_count": 10,
   "id": "baafcd79",
   "metadata": {},
   "outputs": [],
   "source": [
    "def func(**x):\n",
    "    print('The last name is:',x['lname'])"
   ]
  },
  {
   "cell_type": "code",
   "execution_count": 11,
   "id": "4592cfa9",
   "metadata": {},
   "outputs": [
    {
     "name": "stdout",
     "output_type": "stream",
     "text": [
      "The last name is: Jadhav\n"
     ]
    }
   ],
   "source": [
    "func(fname = 'Vibodh', lname = 'Jadhav')"
   ]
  },
  {
   "cell_type": "markdown",
   "id": "a1d77c6f",
   "metadata": {},
   "source": [
    "### Default parameter value"
   ]
  },
  {
   "cell_type": "code",
   "execution_count": 12,
   "id": "ee5c2d4e",
   "metadata": {},
   "outputs": [],
   "source": [
    "def func(stationery = 'Ball pen'):\n",
    "    print('The required stationery is-',stationery)"
   ]
  },
  {
   "cell_type": "code",
   "execution_count": 13,
   "id": "736eadf8",
   "metadata": {},
   "outputs": [
    {
     "name": "stdout",
     "output_type": "stream",
     "text": [
      "The required stationery is- Gel pen\n"
     ]
    }
   ],
   "source": [
    "func('Gel pen')"
   ]
  },
  {
   "cell_type": "code",
   "execution_count": 14,
   "id": "f597f13b",
   "metadata": {},
   "outputs": [
    {
     "name": "stdout",
     "output_type": "stream",
     "text": [
      "The required stationery is- Ball pen\n"
     ]
    }
   ],
   "source": [
    "func()"
   ]
  },
  {
   "cell_type": "markdown",
   "id": "895b0cef",
   "metadata": {},
   "source": [
    "Default parameter value is used when the function receives no output"
   ]
  },
  {
   "cell_type": "markdown",
   "id": "b335e800",
   "metadata": {},
   "source": [
    "## Iterators"
   ]
  },
  {
   "cell_type": "markdown",
   "id": "c7950461",
   "metadata": {},
   "source": [
    "An iterator is an object which implements the iterator protocol, which consists of the methods __iter__() and __next__()"
   ]
  },
  {
   "cell_type": "code",
   "execution_count": 24,
   "id": "e87a28a1",
   "metadata": {},
   "outputs": [],
   "source": [
    "class numbers:\n",
    "    def __iter__(self):\n",
    "        self.a = 1\n",
    "        return self\n",
    "    def __next__(self):\n",
    "        x = self.a\n",
    "        self.a = self.a + 1\n",
    "        return x"
   ]
  },
  {
   "cell_type": "code",
   "execution_count": 28,
   "id": "51aedfb0",
   "metadata": {},
   "outputs": [],
   "source": [
    "n1 = numbers()"
   ]
  },
  {
   "cell_type": "code",
   "execution_count": 30,
   "id": "af584ab6",
   "metadata": {},
   "outputs": [],
   "source": [
    "n1_iter = iter(n1)"
   ]
  },
  {
   "cell_type": "code",
   "execution_count": 31,
   "id": "bddd856e",
   "metadata": {},
   "outputs": [
    {
     "data": {
      "text/plain": [
       "1"
      ]
     },
     "execution_count": 31,
     "metadata": {},
     "output_type": "execute_result"
    }
   ],
   "source": [
    "next(n1)"
   ]
  },
  {
   "cell_type": "code",
   "execution_count": 33,
   "id": "ecba7878",
   "metadata": {},
   "outputs": [
    {
     "data": {
      "text/plain": [
       "2"
      ]
     },
     "execution_count": 33,
     "metadata": {},
     "output_type": "execute_result"
    }
   ],
   "source": [
    "next(n1)"
   ]
  },
  {
   "cell_type": "code",
   "execution_count": 34,
   "id": "ef3b1dc9",
   "metadata": {},
   "outputs": [
    {
     "data": {
      "text/plain": [
       "3"
      ]
     },
     "execution_count": 34,
     "metadata": {},
     "output_type": "execute_result"
    }
   ],
   "source": [
    "next(n1)"
   ]
  },
  {
   "cell_type": "code",
   "execution_count": 35,
   "id": "72033eca",
   "metadata": {},
   "outputs": [
    {
     "data": {
      "text/plain": [
       "4"
      ]
     },
     "execution_count": 35,
     "metadata": {},
     "output_type": "execute_result"
    }
   ],
   "source": [
    "next(n1)"
   ]
  },
  {
   "cell_type": "markdown",
   "id": "b49d402b",
   "metadata": {},
   "source": [
    "## Scope of a variable"
   ]
  },
  {
   "cell_type": "code",
   "execution_count": 1,
   "id": "8651d1c0",
   "metadata": {},
   "outputs": [],
   "source": [
    "x = 3\n",
    "def func():\n",
    "    x = 2\n",
    "    print(x)"
   ]
  },
  {
   "cell_type": "code",
   "execution_count": 2,
   "id": "338fc840",
   "metadata": {},
   "outputs": [
    {
     "name": "stdout",
     "output_type": "stream",
     "text": [
      "2\n"
     ]
    }
   ],
   "source": [
    "func()"
   ]
  },
  {
   "cell_type": "code",
   "execution_count": 3,
   "id": "5d5edc4b",
   "metadata": {},
   "outputs": [
    {
     "name": "stdout",
     "output_type": "stream",
     "text": [
      "3\n"
     ]
    }
   ],
   "source": [
    "print(x)"
   ]
  },
  {
   "cell_type": "markdown",
   "id": "ec7e3b84",
   "metadata": {},
   "source": [
    "Here, x = 2 i.e x inside the function is a local variable while x=3 i.e x outside the function is a global variable"
   ]
  },
  {
   "cell_type": "markdown",
   "id": "e034f19b",
   "metadata": {},
   "source": [
    "### the global keyword"
   ]
  },
  {
   "cell_type": "code",
   "execution_count": 7,
   "id": "cf5da725",
   "metadata": {},
   "outputs": [],
   "source": [
    "x = 3\n",
    "def func():\n",
    "    global x\n",
    "    x = 2\n",
    "    print(x)"
   ]
  },
  {
   "cell_type": "code",
   "execution_count": 8,
   "id": "8b2d9f5a",
   "metadata": {},
   "outputs": [
    {
     "name": "stdout",
     "output_type": "stream",
     "text": [
      "2\n"
     ]
    }
   ],
   "source": [
    "func()"
   ]
  },
  {
   "cell_type": "code",
   "execution_count": 9,
   "id": "18e7d1f2",
   "metadata": {},
   "outputs": [
    {
     "name": "stdout",
     "output_type": "stream",
     "text": [
      "2\n"
     ]
    }
   ],
   "source": [
    "print(x)"
   ]
  },
  {
   "cell_type": "markdown",
   "id": "47afc8ac",
   "metadata": {},
   "source": [
    "Here, the x inside the function 'func' becomes a global variable"
   ]
  }
 ],
 "metadata": {
  "kernelspec": {
   "display_name": "Python 3 (ipykernel)",
   "language": "python",
   "name": "python3"
  },
  "language_info": {
   "codemirror_mode": {
    "name": "ipython",
    "version": 3
   },
   "file_extension": ".py",
   "mimetype": "text/x-python",
   "name": "python",
   "nbconvert_exporter": "python",
   "pygments_lexer": "ipython3",
   "version": "3.9.7"
  }
 },
 "nbformat": 4,
 "nbformat_minor": 5
}
