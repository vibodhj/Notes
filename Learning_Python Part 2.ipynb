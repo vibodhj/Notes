{
 "cells": [
  {
   "cell_type": "markdown",
   "id": "12f3cf71",
   "metadata": {},
   "source": [
    "## Modules/Packages"
   ]
  },
  {
   "cell_type": "markdown",
   "id": "d51b56d3",
   "metadata": {},
   "source": [
    "to create a module, we save the code(like in a notepad) with the file extension '.py'"
   ]
  },
  {
   "cell_type": "markdown",
   "id": "cbfc51af",
   "metadata": {},
   "source": [
    "we have created a file named 'hello.py',following is the code inside it-"
   ]
  },
  {
   "cell_type": "code",
   "execution_count": 2,
   "id": "38285576",
   "metadata": {},
   "outputs": [],
   "source": [
    "def hello_world(name):\n",
    "    print('Hello world!',name)"
   ]
  },
  {
   "cell_type": "code",
   "execution_count": 3,
   "id": "63796b7e",
   "metadata": {},
   "outputs": [],
   "source": [
    "import hello"
   ]
  },
  {
   "cell_type": "code",
   "execution_count": 4,
   "id": "02fc3562",
   "metadata": {},
   "outputs": [
    {
     "name": "stdout",
     "output_type": "stream",
     "text": [
      "Hello world! Vibodh\n"
     ]
    }
   ],
   "source": [
    "hello.hello_world('Vibodh')"
   ]
  },
  {
   "cell_type": "markdown",
   "id": "0040e177",
   "metadata": {},
   "source": [
    "### Variables in a module/package"
   ]
  },
  {
   "cell_type": "markdown",
   "id": "fdbbefbd",
   "metadata": {},
   "source": [
    "we have created a file named list.py"
   ]
  },
  {
   "cell_type": "markdown",
   "id": "01b05435",
   "metadata": {},
   "source": [
    "it contains a list named 'x'"
   ]
  },
  {
   "cell_type": "code",
   "execution_count": 5,
   "id": "4b8f11ef",
   "metadata": {},
   "outputs": [],
   "source": [
    "import list"
   ]
  },
  {
   "cell_type": "code",
   "execution_count": 9,
   "id": "bbada6f2",
   "metadata": {},
   "outputs": [
    {
     "data": {
      "text/plain": [
       "['Ball pen', 'Eraser', 'Click pencil']"
      ]
     },
     "execution_count": 9,
     "metadata": {},
     "output_type": "execute_result"
    }
   ],
   "source": [
    "list.x"
   ]
  },
  {
   "cell_type": "code",
   "execution_count": 8,
   "id": "25512664",
   "metadata": {},
   "outputs": [
    {
     "data": {
      "text/plain": [
       "'Ball pen'"
      ]
     },
     "execution_count": 8,
     "metadata": {},
     "output_type": "execute_result"
    }
   ],
   "source": [
    "list.x[0]"
   ]
  },
  {
   "cell_type": "markdown",
   "id": "2a47a25a",
   "metadata": {},
   "source": [
    "### Re-naming a module/package"
   ]
  },
  {
   "cell_type": "code",
   "execution_count": 10,
   "id": "7788d324",
   "metadata": {},
   "outputs": [],
   "source": [
    "import hello as ho"
   ]
  },
  {
   "cell_type": "code",
   "execution_count": 11,
   "id": "fddc531b",
   "metadata": {},
   "outputs": [
    {
     "name": "stdout",
     "output_type": "stream",
     "text": [
      "Hello world! Vibodh\n"
     ]
    }
   ],
   "source": [
    "ho.hello_world('Vibodh')"
   ]
  },
  {
   "cell_type": "markdown",
   "id": "201d869f",
   "metadata": {},
   "source": [
    "### Built in Modules/packages"
   ]
  },
  {
   "cell_type": "code",
   "execution_count": 12,
   "id": "65d9f6da",
   "metadata": {},
   "outputs": [],
   "source": [
    "import platform"
   ]
  },
  {
   "cell_type": "code",
   "execution_count": 13,
   "id": "5c2320c4",
   "metadata": {},
   "outputs": [
    {
     "data": {
      "text/plain": [
       "'Windows'"
      ]
     },
     "execution_count": 13,
     "metadata": {},
     "output_type": "execute_result"
    }
   ],
   "source": [
    "platform.system()"
   ]
  },
  {
   "cell_type": "markdown",
   "id": "8477d9c1",
   "metadata": {},
   "source": [
    "### The 'dir()' function"
   ]
  },
  {
   "cell_type": "markdown",
   "id": "a08bd36c",
   "metadata": {},
   "source": [
    "The dir() function lists all the function names(or variable names) in a module"
   ]
  },
  {
   "cell_type": "code",
   "execution_count": 15,
   "id": "eb5991b4",
   "metadata": {},
   "outputs": [
    {
     "data": {
      "text/plain": [
       "['__builtins__',\n",
       " '__cached__',\n",
       " '__doc__',\n",
       " '__file__',\n",
       " '__loader__',\n",
       " '__name__',\n",
       " '__package__',\n",
       " '__spec__',\n",
       " 'hello_world']"
      ]
     },
     "execution_count": 15,
     "metadata": {},
     "output_type": "execute_result"
    }
   ],
   "source": [
    "dir(hello)"
   ]
  },
  {
   "cell_type": "code",
   "execution_count": 16,
   "id": "6f98ce6c",
   "metadata": {},
   "outputs": [
    {
     "data": {
      "text/plain": [
       "['__builtins__',\n",
       " '__cached__',\n",
       " '__doc__',\n",
       " '__file__',\n",
       " '__loader__',\n",
       " '__name__',\n",
       " '__package__',\n",
       " '__spec__',\n",
       " 'x']"
      ]
     },
     "execution_count": 16,
     "metadata": {},
     "output_type": "execute_result"
    }
   ],
   "source": [
    "dir(list)"
   ]
  },
  {
   "cell_type": "code",
   "execution_count": 17,
   "id": "cdbcc092",
   "metadata": {},
   "outputs": [
    {
     "data": {
      "text/plain": [
       "['_Processor',\n",
       " '_WIN32_CLIENT_RELEASES',\n",
       " '_WIN32_SERVER_RELEASES',\n",
       " '__builtins__',\n",
       " '__cached__',\n",
       " '__copyright__',\n",
       " '__doc__',\n",
       " '__file__',\n",
       " '__loader__',\n",
       " '__name__',\n",
       " '__package__',\n",
       " '__spec__',\n",
       " '__version__',\n",
       " '_comparable_version',\n",
       " '_component_re',\n",
       " '_default_architecture',\n",
       " '_follow_symlinks',\n",
       " '_get_machine_win32',\n",
       " '_ironpython26_sys_version_parser',\n",
       " '_ironpython_sys_version_parser',\n",
       " '_java_getprop',\n",
       " '_libc_search',\n",
       " '_mac_ver_xml',\n",
       " '_node',\n",
       " '_norm_version',\n",
       " '_platform',\n",
       " '_platform_cache',\n",
       " '_pypy_sys_version_parser',\n",
       " '_sys_version',\n",
       " '_sys_version_cache',\n",
       " '_sys_version_parser',\n",
       " '_syscmd_file',\n",
       " '_syscmd_ver',\n",
       " '_uname_cache',\n",
       " '_unknown_as_blank',\n",
       " '_ver_output',\n",
       " '_ver_stages',\n",
       " 'architecture',\n",
       " 'collections',\n",
       " 'functools',\n",
       " 'itertools',\n",
       " 'java_ver',\n",
       " 'libc_ver',\n",
       " 'mac_ver',\n",
       " 'machine',\n",
       " 'node',\n",
       " 'os',\n",
       " 'platform',\n",
       " 'processor',\n",
       " 'python_branch',\n",
       " 'python_build',\n",
       " 'python_compiler',\n",
       " 'python_implementation',\n",
       " 'python_revision',\n",
       " 'python_version',\n",
       " 'python_version_tuple',\n",
       " 're',\n",
       " 'release',\n",
       " 'subprocess',\n",
       " 'sys',\n",
       " 'system',\n",
       " 'system_alias',\n",
       " 'uname',\n",
       " 'uname_result',\n",
       " 'version',\n",
       " 'win32_edition',\n",
       " 'win32_is_iot',\n",
       " 'win32_ver']"
      ]
     },
     "execution_count": 17,
     "metadata": {},
     "output_type": "execute_result"
    }
   ],
   "source": [
    "dir(platform)"
   ]
  },
  {
   "cell_type": "code",
   "execution_count": 22,
   "id": "a3e2b40d",
   "metadata": {},
   "outputs": [
    {
     "data": {
      "text/plain": [
       "'Intel64 Family 6 Model 165 Stepping 2, GenuineIntel'"
      ]
     },
     "execution_count": 22,
     "metadata": {},
     "output_type": "execute_result"
    }
   ],
   "source": [
    "platform.processor()"
   ]
  },
  {
   "cell_type": "code",
   "execution_count": 29,
   "id": "a4aaa0c3",
   "metadata": {},
   "outputs": [
    {
     "data": {
      "text/plain": [
       "'10'"
      ]
     },
     "execution_count": 29,
     "metadata": {},
     "output_type": "execute_result"
    }
   ],
   "source": [
    "platform.release()"
   ]
  },
  {
   "cell_type": "code",
   "execution_count": 30,
   "id": "f3bc413a",
   "metadata": {},
   "outputs": [
    {
     "data": {
      "text/plain": [
       "'AMD64'"
      ]
     },
     "execution_count": 30,
     "metadata": {},
     "output_type": "execute_result"
    }
   ],
   "source": [
    "platform.machine()"
   ]
  },
  {
   "cell_type": "markdown",
   "id": "6f083538",
   "metadata": {},
   "source": [
    "### 'from' keyword"
   ]
  },
  {
   "cell_type": "markdown",
   "id": "b7b78a45",
   "metadata": {},
   "source": [
    "we can import parts of a module/package using the 'from' keyword"
   ]
  },
  {
   "cell_type": "code",
   "execution_count": 32,
   "id": "b2d651c3",
   "metadata": {},
   "outputs": [],
   "source": [
    "from hello import hello_world"
   ]
  },
  {
   "cell_type": "code",
   "execution_count": 33,
   "id": "c3c75360",
   "metadata": {},
   "outputs": [
    {
     "name": "stdout",
     "output_type": "stream",
     "text": [
      "Hello world! Vibodh\n"
     ]
    }
   ],
   "source": [
    "hello_world('Vibodh')"
   ]
  },
  {
   "cell_type": "markdown",
   "id": "285d2914",
   "metadata": {},
   "source": [
    "## Python 'PIP'"
   ]
  },
  {
   "cell_type": "markdown",
   "id": "0aabec72",
   "metadata": {},
   "source": [
    "PIP is a package/module manager for Python packages/modules"
   ]
  },
  {
   "cell_type": "code",
   "execution_count": 46,
   "id": "57e85fd8",
   "metadata": {},
   "outputs": [
    {
     "name": "stdout",
     "output_type": "stream",
     "text": [
      "Collecting camelcase\n",
      "  Downloading camelcase-0.2.tar.gz (1.3 kB)\n",
      "Building wheels for collected packages: camelcase\n",
      "  Building wheel for camelcase (setup.py): started\n",
      "  Building wheel for camelcase (setup.py): finished with status 'done'\n",
      "  Created wheel for camelcase: filename=camelcase-0.2-py3-none-any.whl size=1789 sha256=f49b8d3ac07478fe0387ead83b280f934b55098566eac2d72d98eba522b78cd7\n",
      "  Stored in directory: c:\\users\\vjadh\\appdata\\local\\pip\\cache\\wheels\\c3\\9a\\eb\\7eca0b069ef85183fd3215aa793d8ffa56ae5b424912c311df\n",
      "Successfully built camelcase\n",
      "Installing collected packages: camelcase\n",
      "Successfully installed camelcase-0.2\n",
      "Note: you may need to restart the kernel to use updated packages.\n"
     ]
    }
   ],
   "source": [
    "pip install camelcase"
   ]
  },
  {
   "cell_type": "code",
   "execution_count": 47,
   "id": "be2ab7f1",
   "metadata": {},
   "outputs": [],
   "source": [
    "import camelcase"
   ]
  },
  {
   "cell_type": "code",
   "execution_count": 50,
   "id": "37f9c271",
   "metadata": {},
   "outputs": [],
   "source": [
    "c = camelcase.CamelCase()"
   ]
  },
  {
   "cell_type": "code",
   "execution_count": 63,
   "id": "1f220922",
   "metadata": {},
   "outputs": [
    {
     "data": {
      "text/plain": [
       "['CamelCase',\n",
       " '__builtins__',\n",
       " '__cached__',\n",
       " '__doc__',\n",
       " '__file__',\n",
       " '__loader__',\n",
       " '__name__',\n",
       " '__package__',\n",
       " '__path__',\n",
       " '__spec__',\n",
       " 'main']"
      ]
     },
     "execution_count": 63,
     "metadata": {},
     "output_type": "execute_result"
    }
   ],
   "source": [
    "dir(camelcase)"
   ]
  },
  {
   "cell_type": "code",
   "execution_count": 64,
   "id": "f35cebf6",
   "metadata": {},
   "outputs": [],
   "source": [
    "text = 'hello world!'"
   ]
  },
  {
   "cell_type": "code",
   "execution_count": 65,
   "id": "f2fb74ed",
   "metadata": {},
   "outputs": [
    {
     "data": {
      "text/plain": [
       "'Hello World!'"
      ]
     },
     "execution_count": 65,
     "metadata": {},
     "output_type": "execute_result"
    }
   ],
   "source": [
    "c.hump(text)"
   ]
  },
  {
   "cell_type": "markdown",
   "id": "58197d7f",
   "metadata": {},
   "source": [
    "### List all packages/modules installed"
   ]
  },
  {
   "cell_type": "code",
   "execution_count": 66,
   "id": "7687f939",
   "metadata": {},
   "outputs": [
    {
     "name": "stdout",
     "output_type": "stream",
     "text": [
      "Package                            VersionNote: you may need to restart the kernel to use updated packages.\n",
      "---------------------------------- --------------------\n",
      "alabaster                          0.7.12\n",
      "anaconda-client                    1.9.0\n",
      "anaconda-navigator                 2.2.0\n",
      "anaconda-project                   0.10.1\n",
      "anyio                              2.2.0\n",
      "appdirs                            1.4.4\n",
      "argh                               0.26.2\n",
      "argon2-cffi                        20.1.0\n",
      "arrow                              0.13.1\n",
      "asn1crypto                         1.4.0\n",
      "astroid                            2.6.6\n",
      "astropy                            4.3.1\n",
      "async-generator                    1.10\n",
      "atomicwrites                       1.4.0\n",
      "attrs                              21.2.0\n",
      "autopep8                           1.5.7\n",
      "Babel                              2.9.1\n",
      "backcall                           0.2.0\n",
      "backports.functools-lru-cache      1.6.4\n",
      "backports.shutil-get-terminal-size 1.0.0\n",
      "backports.tempfile                 1.0\n",
      "backports.weakref                  1.0.post1\n",
      "bcrypt                             3.2.0\n",
      "beautifulsoup4                     4.10.0\n",
      "binaryornot                        0.4.4\n",
      "bitarray                           2.3.0\n",
      "bkcharts                           0.2\n",
      "black                              19.10b0\n",
      "bleach                             4.0.0\n",
      "bokeh                              2.4.1\n",
      "boto                               2.49.0\n",
      "Bottleneck                         1.3.2\n",
      "brotlipy                           0.7.0\n",
      "cached-property                    1.5.2\n",
      "camelcase                          0.2\n",
      "certifi                            2021.10.8\n",
      "cffi                               1.14.6\n",
      "chardet                            4.0.0\n",
      "charset-normalizer                 2.0.4\n",
      "click                              8.0.3\n",
      "cloudpickle                        2.0.0\n",
      "clyent                             1.2.2\n",
      "colorama                           0.4.4\n",
      "comtypes                           1.1.10\n",
      "conda                              4.13.0\n",
      "conda-build                        3.21.6\n",
      "conda-content-trust                0+unknown\n",
      "conda-pack                         0.6.0\n",
      "conda-package-handling             1.7.3\n",
      "conda-repo-cli                     1.0.4\n",
      "conda-token                        0.3.0\n",
      "conda-verify                       3.4.2\n",
      "contextlib2                        0.6.0.post1\n",
      "cookiecutter                       1.7.2\n",
      "cryptography                       3.4.8\n",
      "cycler                             0.10.0\n",
      "Cython                             0.29.24\n",
      "cytoolz                            0.11.0\n",
      "daal4py                            2021.3.0\n",
      "dask                               2021.10.0\n",
      "debugpy                            1.4.1\n",
      "decorator                          5.1.0\n",
      "defusedxml                         0.7.1\n",
      "diff-match-patch                   20200713\n",
      "distributed                        2021.10.0\n",
      "docutils                           0.17.1\n",
      "entrypoints                        0.3\n",
      "et-xmlfile                         1.1.0\n",
      "fastcache                          1.1.0\n",
      "filelock                           3.3.1\n",
      "flake8                             3.9.2\n",
      "Flask                              1.1.2\n",
      "fonttools                          4.25.0\n",
      "fsspec                             2021.10.1\n",
      "future                             0.18.2\n",
      "gevent                             21.8.0\n",
      "glob2                              0.7\n",
      "graphviz                           0.16\n",
      "greenlet                           1.1.1\n",
      "h5py                               3.2.1\n",
      "HeapDict                           1.0.1\n",
      "html5lib                           1.1\n",
      "idna                               3.2\n",
      "imagecodecs                        2021.8.26\n",
      "imageio                            2.9.0\n",
      "imagesize                          1.2.0\n",
      "importlib-metadata                 4.8.1\n",
      "inflection                         0.5.1\n",
      "iniconfig                          1.1.1\n",
      "intervaltree                       3.1.0\n",
      "ipykernel                          6.4.1\n",
      "ipython                            7.29.0\n",
      "ipython-genutils                   0.2.0\n",
      "ipywidgets                         7.6.5\n",
      "isort                              5.9.3\n",
      "itsdangerous                       2.0.1\n",
      "jdcal                              1.4.1\n",
      "jedi                               0.18.0\n",
      "Jinja2                             2.11.3\n",
      "\n",
      "jinja2-time                        0.2.0\n",
      "joblib                             1.1.0\n",
      "json5                              0.9.6\n",
      "jsonschema                         3.2.0\n",
      "jupyter                            1.0.0\n",
      "jupyter-client                     6.1.12\n",
      "jupyter-console                    6.4.0\n",
      "jupyter-core                       4.8.1\n",
      "jupyter-server                     1.4.1\n",
      "jupyterlab                         3.2.1\n",
      "jupyterlab-pygments                0.1.2\n",
      "jupyterlab-server                  2.8.2\n",
      "jupyterlab-widgets                 1.0.0\n",
      "keyring                            23.1.0\n",
      "kiwisolver                         1.3.1\n",
      "lazy-object-proxy                  1.6.0\n",
      "libarchive-c                       2.9\n",
      "llvmlite                           0.37.0\n",
      "locket                             0.2.1\n",
      "lxml                               4.6.3\n",
      "MarkupSafe                         1.1.1\n",
      "matplotlib                         3.4.3\n",
      "matplotlib-inline                  0.1.2\n",
      "mccabe                             0.6.1\n",
      "menuinst                           1.4.18\n",
      "mistune                            0.8.4\n",
      "mkl-fft                            1.3.1\n",
      "mkl-random                         1.2.2\n",
      "mkl-service                        2.4.0\n",
      "mock                               4.0.3\n",
      "more-itertools                     8.10.0\n",
      "mpmath                             1.2.1\n",
      "msgpack                            1.0.2\n",
      "multipledispatch                   0.6.0\n",
      "munkres                            1.1.4\n",
      "mypy-extensions                    0.4.3\n",
      "navigator-updater                  0.2.1\n",
      "nbclassic                          0.2.6\n",
      "nbclient                           0.5.3\n",
      "nbconvert                          6.1.0\n",
      "nbformat                           5.1.3\n",
      "nest-asyncio                       1.5.1\n",
      "networkx                           2.6.3\n",
      "nltk                               3.6.5\n",
      "nose                               1.3.7\n",
      "notebook                           6.4.5\n",
      "numba                              0.54.1\n",
      "numexpr                            2.7.3\n",
      "numpy                              1.20.3\n",
      "numpydoc                           1.1.0\n",
      "olefile                            0.46\n",
      "openpyxl                           3.0.9\n",
      "packaging                          21.0\n",
      "pandas                             1.3.4\n",
      "pandocfilters                      1.4.3\n",
      "paramiko                           2.7.2\n",
      "parso                              0.8.2\n",
      "partd                              1.2.0\n",
      "path                               16.0.0\n",
      "pathlib2                           2.3.6\n",
      "pathspec                           0.7.0\n",
      "patsy                              0.5.2\n",
      "pep8                               1.7.1\n",
      "pexpect                            4.8.0\n",
      "pickleshare                        0.7.5\n",
      "Pillow                             8.4.0\n",
      "pip                                21.2.4\n",
      "pkginfo                            1.7.1\n",
      "pluggy                             0.13.1\n",
      "ply                                3.11\n",
      "poyo                               0.5.0\n",
      "prometheus-client                  0.11.0\n",
      "prompt-toolkit                     3.0.20\n",
      "psutil                             5.8.0\n",
      "ptyprocess                         0.7.0\n",
      "py                                 1.10.0\n",
      "pycodestyle                        2.7.0\n",
      "pycosat                            0.6.3\n",
      "pycparser                          2.20\n",
      "pycurl                             7.44.1\n",
      "pydocstyle                         6.1.1\n",
      "pydotplus                          2.0.2\n",
      "pyerfa                             2.0.0\n",
      "pyflakes                           2.3.1\n",
      "Pygments                           2.10.0\n",
      "PyJWT                              2.1.0\n",
      "pylint                             2.9.6\n",
      "pyls-spyder                        0.4.0\n",
      "PyNaCl                             1.4.0\n",
      "pyodbc                             4.0.0-unsupported\n",
      "pyOpenSSL                          21.0.0\n",
      "pyparsing                          3.0.4\n",
      "pyreadline                         2.1\n",
      "pyrsistent                         0.18.0\n",
      "PySocks                            1.7.1\n",
      "pytest                             6.2.4\n",
      "python-dateutil                    2.8.2\n",
      "python-lsp-black                   1.0.0\n",
      "python-lsp-jsonrpc                 1.0.0\n",
      "python-lsp-server                  1.2.4\n",
      "python-slugify                     5.0.2\n",
      "pytz                               2021.3\n",
      "PyWavelets                         1.1.1\n",
      "pywin32                            228\n",
      "pywin32-ctypes                     0.2.0\n",
      "pywinpty                           0.5.7\n",
      "PyYAML                             6.0\n",
      "pyzmq                              22.2.1\n",
      "QDarkStyle                         3.0.2\n",
      "qstylizer                          0.1.10\n",
      "QtAwesome                          1.0.2\n",
      "qtconsole                          5.1.1\n",
      "QtPy                               1.10.0\n",
      "regex                              2021.8.3\n",
      "requests                           2.26.0\n",
      "rope                               0.19.0\n",
      "Rtree                              0.9.7\n",
      "ruamel-yaml-conda                  0.15.100\n",
      "scikit-image                       0.18.3\n",
      "scikit-learn                       0.24.2\n",
      "scikit-learn-intelex               2021.20210714.120553\n",
      "scipy                              1.7.1\n",
      "seaborn                            0.11.2\n",
      "Send2Trash                         1.8.0\n",
      "setuptools                         58.0.4\n",
      "simplegeneric                      0.8.1\n",
      "singledispatch                     3.7.0\n",
      "sip                                4.19.13\n",
      "six                                1.16.0\n",
      "sniffio                            1.2.0\n",
      "snowballstemmer                    2.1.0\n",
      "sortedcollections                  2.1.0\n",
      "sortedcontainers                   2.4.0\n",
      "soupsieve                          2.2.1\n",
      "Sphinx                             4.2.0\n",
      "sphinxcontrib-applehelp            1.0.2\n",
      "sphinxcontrib-devhelp              1.0.2\n",
      "sphinxcontrib-htmlhelp             2.0.0\n",
      "sphinxcontrib-jsmath               1.0.1\n",
      "sphinxcontrib-qthelp               1.0.3\n",
      "sphinxcontrib-serializinghtml      1.1.5\n",
      "sphinxcontrib-websupport           1.2.4\n",
      "spyder                             5.1.5\n",
      "spyder-kernels                     2.1.3\n",
      "SQLAlchemy                         1.4.22\n",
      "statsmodels                        0.12.2\n",
      "sympy                              1.9\n",
      "tables                             3.6.1\n",
      "TBB                                0.2\n",
      "tblib                              1.7.0\n",
      "terminado                          0.9.4\n",
      "testpath                           0.5.0\n",
      "text-unidecode                     1.3\n",
      "textdistance                       4.2.1\n",
      "threadpoolctl                      2.2.0\n",
      "three-merge                        0.1.1\n",
      "tifffile                           2021.7.2\n",
      "tinycss                            0.4\n",
      "toml                               0.10.2\n",
      "toolz                              0.11.1\n",
      "tornado                            6.1\n",
      "tqdm                               4.62.3\n",
      "traitlets                          5.1.0\n",
      "typed-ast                          1.4.3\n",
      "typing-extensions                  3.10.0.2\n",
      "ujson                              4.0.2\n",
      "unicodecsv                         0.14.1\n",
      "Unidecode                          1.2.0\n",
      "urllib3                            1.26.7\n",
      "watchdog                           2.1.3\n",
      "wcwidth                            0.2.5\n",
      "webencodings                       0.5.1\n",
      "Werkzeug                           2.0.2\n",
      "wheel                              0.37.0\n",
      "whichcraft                         0.6.1\n",
      "widgetsnbextension                 3.5.1\n",
      "win-inet-pton                      1.1.0\n",
      "win-unicode-console                0.5\n",
      "wincertstore                       0.2\n",
      "wrapt                              1.12.1\n",
      "xlrd                               2.0.1\n",
      "XlsxWriter                         3.0.1\n",
      "xlwings                            0.24.9\n",
      "xlwt                               1.3.0\n",
      "xmltodict                          0.12.0\n",
      "yapf                               0.31.0\n",
      "zict                               2.0.0\n",
      "zipp                               3.6.0\n",
      "zope.event                         4.5.0\n",
      "zope.interface                     5.4.0\n"
     ]
    }
   ],
   "source": [
    "pip list"
   ]
  },
  {
   "cell_type": "markdown",
   "id": "c95ec2e2",
   "metadata": {},
   "source": [
    "## Try Except"
   ]
  },
  {
   "cell_type": "markdown",
   "id": "c3e76686",
   "metadata": {},
   "source": [
    "Here, x is not defined and still we are trying to print it. This will raise an error. We use try except to handle this error so that the code is executed"
   ]
  },
  {
   "cell_type": "code",
   "execution_count": 2,
   "id": "296cd56d",
   "metadata": {},
   "outputs": [
    {
     "ename": "NameError",
     "evalue": "name 'x' is not defined",
     "output_type": "error",
     "traceback": [
      "\u001b[1;31m---------------------------------------------------------------------------\u001b[0m",
      "\u001b[1;31mNameError\u001b[0m                                 Traceback (most recent call last)",
      "\u001b[1;32m~\\AppData\\Local\\Temp/ipykernel_12208/1353120783.py\u001b[0m in \u001b[0;36m<module>\u001b[1;34m\u001b[0m\n\u001b[1;32m----> 1\u001b[1;33m \u001b[0mprint\u001b[0m\u001b[1;33m(\u001b[0m\u001b[0mx\u001b[0m\u001b[1;33m)\u001b[0m\u001b[1;33m\u001b[0m\u001b[1;33m\u001b[0m\u001b[0m\n\u001b[0m",
      "\u001b[1;31mNameError\u001b[0m: name 'x' is not defined"
     ]
    }
   ],
   "source": [
    "print(x)"
   ]
  },
  {
   "cell_type": "code",
   "execution_count": 3,
   "id": "ad72d2c8",
   "metadata": {},
   "outputs": [
    {
     "name": "stdout",
     "output_type": "stream",
     "text": [
      "Please define variable x\n"
     ]
    }
   ],
   "source": [
    "try:\n",
    "    print(x)\n",
    "except:\n",
    "    print('Please define variable x')"
   ]
  },
  {
   "cell_type": "markdown",
   "id": "0c2e0a06",
   "metadata": {},
   "source": [
    "We can define unlimited number of exception blocks"
   ]
  },
  {
   "cell_type": "code",
   "execution_count": 4,
   "id": "5cd8149e",
   "metadata": {},
   "outputs": [
    {
     "name": "stdout",
     "output_type": "stream",
     "text": [
      "Please define variable x\n"
     ]
    }
   ],
   "source": [
    "try:\n",
    "    print(x)\n",
    "except NameError:\n",
    "    print('Please define variable x')\n",
    "except RandomError:\n",
    "    print('Something else went wrong')\n",
    "except anyotherError:\n",
    "    pass"
   ]
  },
  {
   "cell_type": "markdown",
   "id": "92f79d3f",
   "metadata": {},
   "source": [
    "### Try except else"
   ]
  },
  {
   "cell_type": "code",
   "execution_count": 3,
   "id": "994da1a5",
   "metadata": {},
   "outputs": [
    {
     "name": "stdout",
     "output_type": "stream",
     "text": [
      "Hello World!\n",
      "Nothing went wrong\n"
     ]
    }
   ],
   "source": [
    "try:\n",
    "    print('Hello World!')\n",
    "except:\n",
    "    print('Something went wrong')\n",
    "else:\n",
    "    print('Nothing went wrong')"
   ]
  },
  {
   "cell_type": "markdown",
   "id": "bce86e19",
   "metadata": {},
   "source": [
    "### finally block"
   ]
  },
  {
   "cell_type": "code",
   "execution_count": 5,
   "id": "462e0093",
   "metadata": {},
   "outputs": [
    {
     "name": "stdout",
     "output_type": "stream",
     "text": [
      "Please define variable\n",
      "The 'try except' block is finished\n"
     ]
    }
   ],
   "source": [
    "try:\n",
    "    print(x)\n",
    "except:\n",
    "    print('Please define variable')\n",
    "finally:\n",
    "    print(\"The 'try except' block is finished\")"
   ]
  },
  {
   "cell_type": "markdown",
   "id": "8cc2cb3c",
   "metadata": {},
   "source": [
    "### Raise exception"
   ]
  },
  {
   "cell_type": "code",
   "execution_count": 6,
   "id": "e06209fb",
   "metadata": {},
   "outputs": [
    {
     "ename": "Exception",
     "evalue": "No negative numbers allowed",
     "output_type": "error",
     "traceback": [
      "\u001b[1;31m---------------------------------------------------------------------------\u001b[0m",
      "\u001b[1;31mException\u001b[0m                                 Traceback (most recent call last)",
      "\u001b[1;32m~\\AppData\\Local\\Temp/ipykernel_7108/614906068.py\u001b[0m in \u001b[0;36m<module>\u001b[1;34m\u001b[0m\n\u001b[0;32m      2\u001b[0m \u001b[1;33m\u001b[0m\u001b[0m\n\u001b[0;32m      3\u001b[0m \u001b[1;32mif\u001b[0m \u001b[0mx\u001b[0m\u001b[1;33m<\u001b[0m\u001b[1;36m0\u001b[0m\u001b[1;33m:\u001b[0m\u001b[1;33m\u001b[0m\u001b[1;33m\u001b[0m\u001b[0m\n\u001b[1;32m----> 4\u001b[1;33m     \u001b[1;32mraise\u001b[0m \u001b[0mException\u001b[0m\u001b[1;33m(\u001b[0m\u001b[1;34m'No negative numbers allowed'\u001b[0m\u001b[1;33m)\u001b[0m\u001b[1;33m\u001b[0m\u001b[1;33m\u001b[0m\u001b[0m\n\u001b[0m",
      "\u001b[1;31mException\u001b[0m: No negative numbers allowed"
     ]
    }
   ],
   "source": [
    "x = -2\n",
    "\n",
    "if x<0:\n",
    "    raise Exception('No negative numbers allowed')"
   ]
  },
  {
   "cell_type": "code",
   "execution_count": 12,
   "id": "7ba1e00f",
   "metadata": {
    "scrolled": true
   },
   "outputs": [
    {
     "ename": "TypeError",
     "evalue": "Only integers are allowed",
     "output_type": "error",
     "traceback": [
      "\u001b[1;31m---------------------------------------------------------------------------\u001b[0m",
      "\u001b[1;31mTypeError\u001b[0m                                 Traceback (most recent call last)",
      "\u001b[1;32m~\\AppData\\Local\\Temp/ipykernel_7108/824257263.py\u001b[0m in \u001b[0;36m<module>\u001b[1;34m\u001b[0m\n\u001b[0;32m      2\u001b[0m \u001b[1;33m\u001b[0m\u001b[0m\n\u001b[0;32m      3\u001b[0m \u001b[1;32mif\u001b[0m \u001b[1;32mnot\u001b[0m \u001b[0mtype\u001b[0m\u001b[1;33m(\u001b[0m\u001b[0mx\u001b[0m\u001b[1;33m)\u001b[0m \u001b[1;32mis\u001b[0m \u001b[0mfloat\u001b[0m\u001b[1;33m:\u001b[0m\u001b[1;33m\u001b[0m\u001b[1;33m\u001b[0m\u001b[0m\n\u001b[1;32m----> 4\u001b[1;33m     \u001b[1;32mraise\u001b[0m \u001b[0mTypeError\u001b[0m\u001b[1;33m(\u001b[0m\u001b[1;34m'Only integers are allowed'\u001b[0m\u001b[1;33m)\u001b[0m\u001b[1;33m\u001b[0m\u001b[1;33m\u001b[0m\u001b[0m\n\u001b[0m",
      "\u001b[1;31mTypeError\u001b[0m: Only integers are allowed"
     ]
    }
   ],
   "source": [
    "x = 'Hello World!'\n",
    "\n",
    "if not type(x) is float:\n",
    "    raise TypeError('Only integers are allowed')"
   ]
  },
  {
   "cell_type": "markdown",
   "id": "34ace0ca",
   "metadata": {},
   "source": [
    "## Python dates"
   ]
  },
  {
   "cell_type": "markdown",
   "id": "b6da3d49",
   "metadata": {},
   "source": [
    "datetime is a module/package that contains date objects(datetime.datetime) "
   ]
  },
  {
   "cell_type": "code",
   "execution_count": 34,
   "id": "0bbfcc83",
   "metadata": {},
   "outputs": [],
   "source": [
    "import datetime"
   ]
  },
  {
   "cell_type": "code",
   "execution_count": 40,
   "id": "cd2616ce",
   "metadata": {},
   "outputs": [
    {
     "name": "stdout",
     "output_type": "stream",
     "text": [
      "2022-12-05 21:06:52.007560\n"
     ]
    }
   ],
   "source": [
    "x = datetime.datetime.now()\n",
    "print(x)"
   ]
  },
  {
   "cell_type": "code",
   "execution_count": 43,
   "id": "0c853619",
   "metadata": {},
   "outputs": [
    {
     "data": {
      "text/plain": [
       "datetime.datetime"
      ]
     },
     "execution_count": 43,
     "metadata": {},
     "output_type": "execute_result"
    }
   ],
   "source": [
    "type(x)"
   ]
  },
  {
   "cell_type": "code",
   "execution_count": 42,
   "id": "c1ecf7de",
   "metadata": {},
   "outputs": [
    {
     "data": {
      "text/plain": [
       "2022"
      ]
     },
     "execution_count": 42,
     "metadata": {},
     "output_type": "execute_result"
    }
   ],
   "source": [
    "x.year"
   ]
  },
  {
   "cell_type": "code",
   "execution_count": 44,
   "id": "10a09202",
   "metadata": {},
   "outputs": [
    {
     "data": {
      "text/plain": [
       "12"
      ]
     },
     "execution_count": 44,
     "metadata": {},
     "output_type": "execute_result"
    }
   ],
   "source": [
    "x.month"
   ]
  },
  {
   "cell_type": "markdown",
   "id": "a522822e",
   "metadata": {},
   "source": [
    "### Creating date objects"
   ]
  },
  {
   "cell_type": "code",
   "execution_count": 45,
   "id": "5db39be3",
   "metadata": {},
   "outputs": [
    {
     "name": "stdout",
     "output_type": "stream",
     "text": [
      "2022-12-04 00:00:00\n"
     ]
    }
   ],
   "source": [
    "x = datetime.datetime(2022,12,4)\n",
    "print(x)"
   ]
  },
  {
   "cell_type": "code",
   "execution_count": null,
   "id": "01084afa",
   "metadata": {},
   "outputs": [],
   "source": [
    "The strftime() method"
   ]
  },
  {
   "cell_type": "markdown",
   "id": "2c83bf91",
   "metadata": {},
   "source": [
    "## String Formatting"
   ]
  },
  {
   "cell_type": "code",
   "execution_count": 19,
   "id": "d4268d3a",
   "metadata": {},
   "outputs": [],
   "source": [
    "cost = 50.5556\n",
    "text = 'The cost is {} rupees'"
   ]
  },
  {
   "cell_type": "code",
   "execution_count": 20,
   "id": "c8e504a0",
   "metadata": {},
   "outputs": [
    {
     "data": {
      "text/plain": [
       "'The cost is 50.5556 rupees'"
      ]
     },
     "execution_count": 20,
     "metadata": {},
     "output_type": "execute_result"
    }
   ],
   "source": [
    "text.format(cost)"
   ]
  },
  {
   "cell_type": "markdown",
   "id": "cfc699d0",
   "metadata": {},
   "source": [
    "### Adding parameters in the curly brackets in the string"
   ]
  },
  {
   "cell_type": "code",
   "execution_count": 25,
   "id": "12efff23",
   "metadata": {},
   "outputs": [],
   "source": [
    "text = 'The cost is {:.2f} rupees'"
   ]
  },
  {
   "cell_type": "code",
   "execution_count": 26,
   "id": "de053b9a",
   "metadata": {},
   "outputs": [
    {
     "data": {
      "text/plain": [
       "'The cost is 50.56 rupees'"
      ]
     },
     "execution_count": 26,
     "metadata": {},
     "output_type": "execute_result"
    }
   ],
   "source": [
    "text.format(cost)"
   ]
  },
  {
   "cell_type": "markdown",
   "id": "c94e91b6",
   "metadata": {},
   "source": [
    "here, the number is shown in the string with 2 numbers after the decimal point"
   ]
  },
  {
   "cell_type": "code",
   "execution_count": 28,
   "id": "7bb2e091",
   "metadata": {},
   "outputs": [],
   "source": [
    "text = 'The cost is {:.1f} rupees'"
   ]
  },
  {
   "cell_type": "code",
   "execution_count": 29,
   "id": "27302010",
   "metadata": {},
   "outputs": [
    {
     "data": {
      "text/plain": [
       "'The cost is 50.6 rupees'"
      ]
     },
     "execution_count": 29,
     "metadata": {},
     "output_type": "execute_result"
    }
   ],
   "source": [
    "text.format(cost)"
   ]
  },
  {
   "cell_type": "markdown",
   "id": "1f5c5f64",
   "metadata": {},
   "source": [
    "here, the number is shown in the string with 1 number after the decimal point"
   ]
  },
  {
   "cell_type": "markdown",
   "id": "1f68bc34",
   "metadata": {},
   "source": [
    "### Multiple values"
   ]
  },
  {
   "cell_type": "code",
   "execution_count": 38,
   "id": "62e1162b",
   "metadata": {},
   "outputs": [
    {
     "name": "stdout",
     "output_type": "stream",
     "text": [
      "75\n",
      "Graph theory\n",
      "5\n"
     ]
    },
    {
     "data": {
      "text/plain": [
       "'He scored 75 marks on the Graph theory exam in the 5th semester'"
      ]
     },
     "execution_count": 38,
     "metadata": {},
     "output_type": "execute_result"
    }
   ],
   "source": [
    "marks = int(input())\n",
    "subject = input()\n",
    "semester = int(input())\n",
    "text = 'He scored {mk} marks on the {sub} exam in the {sem}th semester'\n",
    "\n",
    "text.format(mk=marks,sub=subject,sem=semester)"
   ]
  },
  {
   "cell_type": "markdown",
   "id": "10e09ef6",
   "metadata": {},
   "source": [
    "### Another way using indexes"
   ]
  },
  {
   "cell_type": "code",
   "execution_count": 39,
   "id": "afa978cf",
   "metadata": {},
   "outputs": [
    {
     "name": "stdout",
     "output_type": "stream",
     "text": [
      "75\n",
      "Graph theory\n",
      "5\n"
     ]
    },
    {
     "data": {
      "text/plain": [
       "'He scored 75 marks on the Graph theory exam in the 5th semester'"
      ]
     },
     "execution_count": 39,
     "metadata": {},
     "output_type": "execute_result"
    }
   ],
   "source": [
    "marks = int(input())\n",
    "subject = input()\n",
    "semester = int(input())\n",
    "text = 'He scored {0} marks on the {1} exam in the {2}th semester'\n",
    "\n",
    "text.format(marks,subject,semester)"
   ]
  },
  {
   "cell_type": "markdown",
   "id": "b07cb40d",
   "metadata": {},
   "source": [
    "## File handling"
   ]
  },
  {
   "cell_type": "markdown",
   "id": "0a483296",
   "metadata": {},
   "source": [
    "### Reading a file"
   ]
  },
  {
   "cell_type": "code",
   "execution_count": 98,
   "id": "ca59635b",
   "metadata": {},
   "outputs": [],
   "source": [
    "f = open('C:/Users/vjadh/Documents/grapes_are_sour.txt','r')"
   ]
  },
  {
   "cell_type": "code",
   "execution_count": 66,
   "id": "23512de5",
   "metadata": {},
   "outputs": [
    {
     "data": {
      "text/plain": [
       "'One afternoon, a fox which was out for a walk in the jungle came across a bunch of grapes hanging. Its mouth watered at the very sight of the grapes. The fox thought to himself that if it could get the bunch of grapes, it would be just the thing to quench its thirst in the sweltering heat of the afternoon.It jumped high to reach the bunch of grapes but failed. It tried again and again, but the fox missed it each time. After several failed attempts, the fox gave up and walked away saying that the grapes were too sour.'"
      ]
     },
     "execution_count": 66,
     "metadata": {},
     "output_type": "execute_result"
    }
   ],
   "source": [
    "f.read()"
   ]
  },
  {
   "cell_type": "code",
   "execution_count": 85,
   "id": "80135f8e",
   "metadata": {},
   "outputs": [
    {
     "data": {
      "text/plain": [
       "'One a'"
      ]
     },
     "execution_count": 85,
     "metadata": {},
     "output_type": "execute_result"
    }
   ],
   "source": [
    "f.read(5)"
   ]
  },
  {
   "cell_type": "code",
   "execution_count": 90,
   "id": "e95f341f",
   "metadata": {},
   "outputs": [],
   "source": [
    "f.close()"
   ]
  },
  {
   "cell_type": "markdown",
   "id": "d502f1bc",
   "metadata": {},
   "source": [
    "### Appending to a file"
   ]
  },
  {
   "cell_type": "code",
   "execution_count": 103,
   "id": "a6712720",
   "metadata": {},
   "outputs": [],
   "source": [
    "f = open('C:/Users/vjadh/Documents/grapes_are_sour.txt','a')\n",
    "f.write('.And then the fox burnt the tree to show how much he disliked the grapes')\n",
    "f.close()"
   ]
  },
  {
   "cell_type": "code",
   "execution_count": 104,
   "id": "ed08743e",
   "metadata": {},
   "outputs": [
    {
     "data": {
      "text/plain": [
       "'One afternoon, a fox which was out for a walk in the jungle came across a bunch of grapes hanging. Its mouth watered at the very sight of the grapes. The fox thought to himself that if it could get the bunch of grapes, it would be just the thing to quench its thirst in the sweltering heat of the afternoon.It jumped high to reach the bunch of grapes but failed. It tried again and again, but the fox missed it each time. After several failed attempts, the fox gave up and walked away saying that the grapes were too sourAnd then the fox burnt the tree to show how much he disliked the grapes.And then the fox burnt the tree to show how much he disliked the grapes'"
      ]
     },
     "execution_count": 104,
     "metadata": {},
     "output_type": "execute_result"
    }
   ],
   "source": [
    "f = open('C:/Users/vjadh/Documents/grapes_are_sour.txt','r')\n",
    "f.read()"
   ]
  },
  {
   "cell_type": "markdown",
   "id": "5c5f238a",
   "metadata": {},
   "source": [
    "### Overwriting to a file"
   ]
  },
  {
   "cell_type": "code",
   "execution_count": 111,
   "id": "0c3165d9",
   "metadata": {},
   "outputs": [],
   "source": [
    "f = open('C:/Users/vjadh/Documents/grapes_are_sour.txt','w')\n",
    "f.write('The fox story is unreal and full of crap! I hate it!')\n",
    "f.close()"
   ]
  },
  {
   "cell_type": "code",
   "execution_count": 106,
   "id": "149813b1",
   "metadata": {},
   "outputs": [
    {
     "data": {
      "text/plain": [
       "'The fox story is unreal and full of crap! I hate it!'"
      ]
     },
     "execution_count": 106,
     "metadata": {},
     "output_type": "execute_result"
    }
   ],
   "source": [
    "f = open('C:/Users/vjadh/Documents/grapes_are_sour.txt','r')\n",
    "f.read()"
   ]
  },
  {
   "cell_type": "code",
   "execution_count": 114,
   "id": "51088796",
   "metadata": {},
   "outputs": [],
   "source": [
    "f.close()"
   ]
  },
  {
   "cell_type": "markdown",
   "id": "631c87ad",
   "metadata": {},
   "source": [
    "### Deleting a file"
   ]
  },
  {
   "cell_type": "code",
   "execution_count": 107,
   "id": "e0a317ef",
   "metadata": {},
   "outputs": [],
   "source": [
    "import os"
   ]
  },
  {
   "cell_type": "code",
   "execution_count": 115,
   "id": "8283e3ba",
   "metadata": {},
   "outputs": [
    {
     "ename": "PermissionError",
     "evalue": "[WinError 32] The process cannot access the file because it is being used by another process: 'C:/Users/vjadh/Documents/grapes_are_sour.txt'",
     "output_type": "error",
     "traceback": [
      "\u001b[1;31m---------------------------------------------------------------------------\u001b[0m",
      "\u001b[1;31mPermissionError\u001b[0m                           Traceback (most recent call last)",
      "\u001b[1;32m~\\AppData\\Local\\Temp/ipykernel_7108/640880504.py\u001b[0m in \u001b[0;36m<module>\u001b[1;34m\u001b[0m\n\u001b[1;32m----> 1\u001b[1;33m \u001b[0mos\u001b[0m\u001b[1;33m.\u001b[0m\u001b[0mremove\u001b[0m\u001b[1;33m(\u001b[0m\u001b[1;34m'C:/Users/vjadh/Documents/grapes_are_sour.txt'\u001b[0m\u001b[1;33m)\u001b[0m\u001b[1;33m\u001b[0m\u001b[1;33m\u001b[0m\u001b[0m\n\u001b[0m",
      "\u001b[1;31mPermissionError\u001b[0m: [WinError 32] The process cannot access the file because it is being used by another process: 'C:/Users/vjadh/Documents/grapes_are_sour.txt'"
     ]
    }
   ],
   "source": [
    "os.remove('C:/Users/vjadh/Documents/grapes_are_sour.txt')"
   ]
  },
  {
   "cell_type": "markdown",
   "id": "9661804d",
   "metadata": {},
   "source": [
    "### Check if the file exists or not"
   ]
  },
  {
   "cell_type": "code",
   "execution_count": 117,
   "id": "2de123fb",
   "metadata": {},
   "outputs": [
    {
     "data": {
      "text/plain": [
       "True"
      ]
     },
     "execution_count": 117,
     "metadata": {},
     "output_type": "execute_result"
    }
   ],
   "source": [
    "os.path.exists('C:/Users/vjadh/Documents/grapes_are_sour.txt')"
   ]
  },
  {
   "cell_type": "markdown",
   "id": "107f6bfa",
   "metadata": {},
   "source": [
    "### Deleting a folder"
   ]
  },
  {
   "cell_type": "code",
   "execution_count": 118,
   "id": "26972109",
   "metadata": {},
   "outputs": [],
   "source": [
    "os.rmdir('C:/Users/vjadh/Documents/new')"
   ]
  }
 ],
 "metadata": {
  "kernelspec": {
   "display_name": "Python 3 (ipykernel)",
   "language": "python",
   "name": "python3"
  },
  "language_info": {
   "codemirror_mode": {
    "name": "ipython",
    "version": 3
   },
   "file_extension": ".py",
   "mimetype": "text/x-python",
   "name": "python",
   "nbconvert_exporter": "python",
   "pygments_lexer": "ipython3",
   "version": "3.9.7"
  }
 },
 "nbformat": 4,
 "nbformat_minor": 5
}
